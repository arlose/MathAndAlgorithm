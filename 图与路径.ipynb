{
 "cells": [
  {
   "cell_type": "markdown",
   "metadata": {},
   "source": [
    "# 图与路径"
   ]
  },
  {
   "cell_type": "markdown",
   "metadata": {},
   "source": [
    "## 生成迷宫\n",
    "\n",
    "ref: https://github.com/tpof314/maze\n",
    "\n",
    "- 生成一张网格，把网格里面的所有边都存进一个列表edgeList里面.\n",
    "- 从(0, 0)开始，做DFS。每次DFS的时候，随机地选择四周一个没有走过的格子，凿墙过去，把道路打通。凿墙的时候，把edgeList列表中相对应的那堵墙删除掉。\n",
    "- 将剩下的没有凿开过的墙画出来，就是一个完整的迷宫了。"
   ]
  },
  {
   "cell_type": "code",
   "execution_count": null,
   "metadata": {},
   "outputs": [
    {
     "data": {
      "image/png": "[encoded data removed]",
      "text/plain": [
       "<Figure size 432x288 with 1 Axes>"
      ]
     },
     "metadata": {
      "needs_background": "light"
     },
     "output_type": "display_data"
    }
   ],
   "source": [
    "import sys\n",
    "import matplotlib\n",
    "import matplotlib.pyplot as plt\n",
    "from random import randint\n",
    "from IPython import display\n",
    "%matplotlib inline\n",
    "\n",
    "WIDTH  = 20\n",
    "HEIGHT = 20\n",
    "sys.setrecursionlimit(WIDTH * HEIGHT)\n",
    "\n",
    "def initVisitedList():\n",
    "    visited = []\n",
    "    for y in range(HEIGHT):\n",
    "        line = []\n",
    "        for x in range(WIDTH):\n",
    "            line.append(False)\n",
    "        visited.append(line)\n",
    "    return visited\n",
    "\n",
    "def drawLine(x1, y1, x2, y2):\n",
    "    plt.plot([x1, x2], [y1, y2], color=\"black\")\n",
    "\n",
    "def removeLine(x1, y1, x2, y2):\n",
    "    plt.plot([x1, x2], [y1, y2], color=\"white\")\n",
    "\n",
    "def get_edges(x, y):\n",
    "    result = []\n",
    "    result.append((x, y, x, y+1))\n",
    "    result.append((x+1, y, x+1, y+1))\n",
    "    result.append((x, y, x+1, y))\n",
    "    result.append((x, y+1, x+1, y+1))\n",
    "\n",
    "    return result\n",
    "\n",
    "def drawCell(x, y):\n",
    "    edges = get_edges(x, y)\n",
    "    for item in edges:\n",
    "        drawLine(item[0], item[1], item[2], item[3])\n",
    "\n",
    "def getCommonEdge(cell1_x, cell1_y, cell2_x, cell2_y):\n",
    "    edges1 = get_edges(cell1_x, cell1_y)\n",
    "    edges2 = set(get_edges(cell2_x, cell2_y))\n",
    "    for edge in edges1:\n",
    "        if edge in edges2:\n",
    "            return edge\n",
    "    return None\n",
    "\n",
    "def initEdgeList():\n",
    "    edges = set()\n",
    "    for x in range(WIDTH):\n",
    "        for y in range(HEIGHT):\n",
    "            cellEdges = get_edges(x, y)\n",
    "            for edge in cellEdges:\n",
    "                edges.add(edge)\n",
    "    return edges\n",
    "\n",
    "def isValidPosition(x, y):\n",
    "    if x < 0 or x >= WIDTH:\n",
    "        return False\n",
    "    elif y < 0 or y >= HEIGHT:\n",
    "        return False\n",
    "    else:\n",
    "        return True\n",
    "\n",
    "def shuffle(dX, dY):\n",
    "    for t in range(4):\n",
    "        i = randint(0, 3)\n",
    "        j = randint(0, 3)\n",
    "        dX[i], dX[j] = dX[j], dX[i]\n",
    "        dY[i], dY[j] = dY[j], dY[i]\n",
    "\n",
    "def DFS(X, Y, edgeList, visited):\n",
    "    dX = [0,  0, -1, 1]\n",
    "    dY = [-1, 1, 0,  0]\n",
    "    shuffle(dX, dY)\n",
    "    for i in range(len(dX)):\n",
    "        nextX = X + dX[i]\n",
    "        nextY = Y + dY[i]\n",
    "        if isValidPosition(nextX, nextY):\n",
    "            if not visited[nextY][nextX]:\n",
    "                visited[nextY][nextX] = True\n",
    "                commonEdge = getCommonEdge(X, Y, nextX, nextY)\n",
    "                if commonEdge in edgeList:\n",
    "                    edgeList.remove(commonEdge)\n",
    "                DFS(nextX, nextY, edgeList, visited)\n",
    "\n",
    "plt.axis('equal')\n",
    "plt.title('Maze')\n",
    "edgeList = initEdgeList()\n",
    "visited  = initVisitedList()\n",
    "DFS(0, 0, edgeList, visited)\n",
    "edgeList.remove((0, 0, 0, 1))\n",
    "edgeList.remove((WIDTH, HEIGHT-1, WIDTH, HEIGHT))\n",
    "for edge in edgeList:\n",
    "    drawLine(edge[0], edge[1], edge[2], edge[3])\n",
    "    display.clear_output(wait=True)\n",
    "    plt.pause(0.01)"
   ]
  },
  {
   "cell_type": "code",
   "execution_count": 9,
   "metadata": {},
   "outputs": [
    {
     "name": "stdout",
     "output_type": "stream",
     "text": [
      "{(6, 4, 7, 4), (8, 15, 9, 15), (12, 9, 12, 10), (17, 11, 18, 11), (8, 4, 9, 4), (10, 17, 11, 17), (2, 9, 2, 10), (13, 13, 13, 14), (12, 10, 13, 10), (9, 11, 10, 11), (2, 16, 2, 17), (15, 17, 15, 18), (11, 15, 11, 16), (14, 18, 14, 19), (12, 3, 12, 4), (4, 16, 5, 16), (9, 2, 10, 2), (9, 5, 10, 5), (3, 17, 4, 17), (5, 2, 6, 2), (20, 7, 20, 8), (6, 18, 7, 18), (10, 4, 10, 5), (18, 0, 18, 1), (18, 17, 19, 17), (0, 12, 0, 13), (8, 17, 9, 17), (3, 5, 4, 5), (4, 17, 5, 17), (11, 13, 11, 14), (13, 0, 14, 0), (0, 19, 0, 20), (5, 15, 6, 15), (13, 3, 13, 4), (17, 17, 18, 17), (10, 18, 11, 18), (12, 4, 12, 5), (14, 1, 15, 1), (12, 13, 12, 14), (1, 7, 2, 7), (8, 18, 8, 19), (4, 9, 4, 10), (5, 13, 5, 14), (15, 11, 16, 11), (16, 3, 16, 4), (2, 6, 2, 7), (4, 10, 5, 10), (5, 4, 6, 4), (11, 10, 11, 11), (19, 12, 19, 13), (3, 15, 3, 16), (8, 1, 9, 1), (16, 5, 17, 5), (18, 14, 19, 14), (1, 5, 1, 6), (4, 1, 5, 1), (18, 18, 19, 18), (19, 11, 20, 11), (1, 14, 1, 15), (0, 15, 0, 16), (5, 19, 6, 19), (7, 4, 8, 4), (10, 14, 11, 14), (14, 9, 14, 10), (6, 3, 7, 3), (17, 0, 18, 0), (17, 3, 17, 4), (2, 0, 3, 0), (3, 18, 4, 18), (11, 11, 11, 12), (13, 6, 13, 7), (8, 2, 8, 3), (14, 2, 15, 2), (16, 6, 16, 7), (3, 13, 3, 14), (4, 2, 4, 3), (10, 3, 11, 3), (9, 16, 9, 17), (11, 6, 12, 6), (4, 13, 4, 14), (18, 11, 18, 12), (1, 1, 2, 1), (13, 7, 13, 8), (10, 11, 10, 12), (7, 1, 8, 1), (3, 10, 3, 11), (2, 8, 2, 9), (3, 2, 4, 2), (14, 5, 14, 6), (10, 20, 11, 20), (12, 0, 13, 0), (2, 10, 2, 11), (11, 1, 12, 1), (9, 0, 9, 1), (17, 4, 17, 5), (2, 17, 3, 17), (5, 0, 5, 1), (7, 14, 7, 15), (3, 11, 3, 12), (8, 15, 8, 16), (16, 17, 16, 18), (14, 19, 15, 19), (9, 1, 9, 2), (0, 11, 0, 12), (1, 17, 2, 17), (14, 7, 14, 8), (5, 1, 5, 2), (4, 4, 5, 4), (7, 12, 7, 13), (8, 6, 9, 6), (17, 15, 17, 16), (18, 13, 18, 14), (19, 9, 19, 10), (10, 5, 11, 5), (18, 1, 19, 1), (0, 13, 1, 13), (6, 19, 6, 20), (10, 13, 10, 14), (7, 15, 7, 16), (10, 4, 11, 4), (8, 18, 9, 18), (4, 18, 5, 18), (16, 0, 17, 0), (5, 5, 6, 5), (12, 5, 13, 5), (17, 12, 18, 12), (15, 10, 15, 11), (10, 19, 10, 20), (18, 15, 18, 16), (20, 11, 20, 12), (2, 18, 3, 18), (8, 19, 9, 19), (3, 7, 4, 7), (9, 12, 10, 12), (13, 3, 14, 3), (2, 7, 3, 7), (17, 14, 18, 14), (15, 8, 15, 9), (12, 17, 12, 18), (14, 8, 14, 9), (16, 18, 17, 18), (6, 1, 6, 2), (2, 6, 3, 6), (12, 6, 12, 7), (9, 14, 10, 14), (19, 6, 19, 7), (18, 2, 19, 2), (6, 14, 7, 14), (16, 8, 16, 9), (18, 19, 18, 20), (14, 10, 14, 11), (20, 12, 20, 13), (20, 1, 20, 2), (10, 1, 10, 2), (8, 8, 8, 9), (0, 1, 0, 2), (8, 3, 9, 3), (16, 7, 17, 7), (16, 5, 16, 6), (4, 3, 5, 3), (19, 7, 19, 8), (14, 3, 14, 4), (7, 6, 8, 6), (15, 15, 15, 16), (17, 3, 18, 3), (7, 19, 8, 19), (13, 4, 13, 5), (6, 8, 7, 8), (8, 4, 8, 5), (2, 9, 3, 9), (11, 19, 12, 19), (17, 10, 17, 11), (19, 5, 19, 6), (0, 17, 0, 18), (0, 10, 0, 11), (6, 10, 7, 10), (14, 12, 15, 12), (7, 18, 7, 19), (9, 10, 9, 11), (14, 17, 14, 18), (16, 16, 16, 17), (2, 11, 3, 11), (19, 14, 20, 14), (7, 3, 8, 3), (16, 12, 17, 12), (12, 10, 12, 11), (13, 9, 14, 9), (8, 12, 9, 12), (11, 4, 11, 5), (7, 10, 8, 10), (11, 19, 11, 20), (12, 2, 13, 2), (14, 6, 14, 7), (15, 9, 16, 9), (11, 3, 12, 3), (17, 10, 18, 10), (8, 7, 8, 8), (9, 6, 9, 7), (17, 13, 18, 13), (6, 13, 6, 14), (9, 10, 10, 10), (18, 12, 18, 13), (7, 2, 7, 3), (3, 4, 4, 4), (9, 13, 10, 13), (11, 10, 12, 10), (19, 3, 19, 4), (19, 9, 20, 9), (1, 8, 1, 9), (11, 18, 11, 19), (15, 3, 15, 4), (17, 15, 18, 15), (0, 18, 1, 18), (1, 4, 2, 4), (4, 6, 5, 6), (10, 12, 10, 13), (17, 18, 17, 19), (18, 14, 18, 15), (9, 15, 10, 15), (0, 13, 0, 14), (6, 0, 6, 1), (13, 8, 13, 9), (2, 19, 2, 20), (0, 14, 1, 14), (10, 14, 10, 15), (17, 13, 17, 14), (7, 16, 8, 16), (14, 9, 15, 9), (16, 2, 17, 2), (3, 0, 3, 1), (4, 10, 4, 11), (12, 7, 13, 7), (12, 5, 12, 6), (9, 13, 9, 14), (2, 12, 3, 12), (5, 9, 6, 9), (20, 0, 20, 1), (10, 0, 10, 1), (0, 0, 0, 1), (16, 9, 17, 9), (18, 3, 18, 4), (3, 1, 3, 2), (14, 11, 15, 11), (11, 2, 11, 3), (11, 16, 12, 16), (15, 19, 15, 20), (15, 0, 16, 0), (20, 17, 20, 18), (8, 9, 9, 9), (9, 16, 10, 16), (9, 19, 9, 20), (15, 6, 15, 7), (3, 10, 4, 10), (19, 0, 20, 0), (11, 15, 12, 15), (8, 3, 8, 4), (2, 2, 2, 3), (4, 3, 4, 4), (11, 14, 11, 15), (5, 8, 5, 9), (0, 16, 0, 17), (8, 5, 9, 5), (14, 16, 14, 17), (15, 19, 16, 19), (1, 2, 1, 3), (9, 0, 10, 0), (7, 4, 7, 5), (18, 5, 18, 6), (0, 11, 1, 11), (9, 3, 9, 4), (17, 7, 17, 8), (5, 0, 6, 0), (5, 3, 5, 4), (6, 16, 7, 16), (6, 11, 6, 12), (16, 17, 17, 17), (13, 18, 14, 18), (4, 4, 4, 5), (8, 6, 8, 7), (15, 14, 16, 14), (0, 4, 1, 4), (19, 19, 20, 19), (12, 11, 13, 11), (15, 5, 15, 6), (10, 16, 11, 16), (18, 7, 18, 8), (14, 7, 15, 7), (16, 18, 16, 19), (0, 10, 1, 10), (1, 2, 2, 2), (1, 18, 1, 19), (3, 15, 4, 15), (1, 5, 2, 5), (14, 6, 15, 6), (17, 9, 17, 10), (17, 6, 18, 6), (19, 5, 20, 5), (3, 14, 3, 15), (2, 4, 2, 5), (9, 9, 9, 10), (18, 13, 19, 13), (19, 19, 19, 20), (13, 20, 14, 20), (6, 12, 6, 13), (10, 13, 11, 13), (18, 16, 19, 16), (8, 16, 9, 16), (18, 15, 19, 15), (5, 6, 5, 7), (9, 4, 9, 5), (20, 9, 20, 10), (6, 1, 7, 1), (6, 14, 6, 15), (10, 15, 11, 15), (19, 18, 19, 19), (3, 6, 4, 6), (4, 11, 5, 11), (14, 0, 15, 0), (19, 15, 19, 16), (17, 16, 17, 17), (10, 1, 11, 1), (0, 1, 1, 1), (5, 7, 5, 8), (12, 18, 12, 19), (16, 9, 16, 10), (12, 7, 12, 8), (7, 11, 7, 12), (15, 16, 16, 16), (11, 12, 12, 12), (8, 9, 8, 10), (8, 0, 9, 0), (4, 0, 5, 0), (12, 14, 13, 14), (18, 9, 18, 10), (19, 13, 19, 14), (20, 2, 20, 3), (3, 1, 4, 1), (0, 2, 0, 3), (6, 2, 7, 2), (18, 20, 19, 20), (19, 16, 20, 16), (7, 15, 8, 15), (10, 9, 10, 10), (15, 2, 16, 2), (20, 13, 20, 14), (2, 3, 3, 3), (9, 19, 10, 19), (12, 8, 12, 9), (11, 8, 11, 9), (0, 17, 1, 17), (19, 10, 19, 11), (7, 8, 8, 8), (10, 2, 11, 2), (14, 17, 15, 17), (13, 16, 13, 17), (16, 12, 16, 13), (19, 2, 20, 2), (13, 17, 14, 17), (7, 9, 7, 10), (8, 12, 8, 13), (13, 17, 13, 18), (12, 20, 13, 20), (6, 5, 6, 6), (0, 18, 0, 19), (4, 5, 5, 5), (8, 5, 8, 6), (8, 7, 9, 7), (11, 8, 12, 8), (13, 6, 14, 6), (3, 12, 4, 12), (19, 11, 19, 12), (19, 20, 20, 20), (1, 0, 1, 1), (9, 3, 10, 3), (17, 7, 18, 7), (4, 14, 5, 14), (5, 3, 6, 3), (18, 6, 18, 7), (13, 10, 13, 11), (16, 19, 17, 19), (4, 17, 4, 18), (1, 1, 1, 2), (2, 16, 3, 16), (4, 6, 4, 7), (6, 7, 6, 8), (0, 6, 1, 6), (1, 8, 2, 8), (15, 5, 16, 5), (17, 5, 17, 6), (1, 11, 1, 12), (4, 8, 4, 9), (13, 1, 14, 1), (14, 18, 15, 18), (2, 5, 3, 5), (3, 8, 3, 9), (16, 15, 16, 16), (17, 14, 17, 15), (0, 14, 0, 15), (2, 4, 3, 4), (6, 13, 7, 13), (13, 8, 14, 8), (9, 14, 9, 15), (13, 11, 13, 12), (18, 0, 19, 0), (7, 13, 7, 14), (1, 16, 1, 17), (19, 7, 20, 7), (6, 15, 7, 15), (13, 10, 14, 10), (3, 8, 4, 8), (11, 13, 12, 13), (9, 15, 9, 16), (5, 4, 5, 5), (12, 19, 13, 19), (17, 1, 18, 1), (5, 10, 5, 11), (2, 20, 3, 20), (3, 19, 4, 19), (18, 8, 18, 9), (7, 12, 8, 12), (1, 12, 1, 13), (10, 8, 10, 9), (2, 1, 2, 2), (20, 18, 20, 19), (10, 15, 10, 16), (13, 12, 14, 12), (18, 10, 18, 11), (12, 15, 12, 16), (0, 3, 1, 3), (5, 8, 6, 8), (5, 11, 5, 12), (6, 3, 6, 4), (10, 10, 10, 11), (12, 9, 13, 9), (8, 2, 9, 2), (9, 20, 10, 20), (3, 4, 3, 5), (15, 14, 15, 15), (3, 19, 3, 20), (16, 11, 16, 12), (4, 2, 5, 2), (5, 10, 6, 10), (3, 3, 4, 3), (8, 11, 8, 12), (0, 4, 0, 5), (13, 15, 13, 16), (10, 3, 10, 4), (13, 7, 14, 7), (0, 8, 1, 8), (3, 13, 4, 13), (11, 6, 11, 7), (15, 12, 15, 13), (16, 13, 17, 13), (14, 4, 14, 5), (8, 13, 9, 13), (3, 18, 3, 19), (0, 19, 1, 19), (12, 1, 12, 2), (13, 5, 13, 6), (12, 8, 13, 8), (17, 20, 18, 20), (2, 8, 3, 8), (7, 19, 7, 20), (7, 17, 7, 18), (11, 7, 11, 8), (11, 20, 12, 20), (5, 12, 6, 12), (6, 18, 6, 19), (4, 15, 4, 16), (18, 7, 19, 7), (2, 10, 3, 10), (4, 7, 5, 7), (18, 6, 19, 6), (4, 5, 4, 6), (6, 6, 6, 7), (4, 9, 5, 9), (1, 6, 1, 7), (0, 7, 0, 8), (1, 9, 2, 9), (19, 4, 20, 4), (14, 19, 14, 20), (10, 18, 10, 19), (3, 2, 3, 3), (10, 5, 10, 6), (0, 15, 1, 15), (3, 16, 4, 16), (9, 7, 9, 8), (11, 5, 11, 6), (11, 16, 11, 17), (5, 15, 5, 16), (14, 14, 15, 14), (16, 1, 16, 2), (1, 11, 2, 11), (7, 3, 7, 4), (15, 7, 16, 7), (11, 17, 11, 18), (13, 9, 13, 10), (12, 12, 13, 12), (17, 16, 18, 16), (17, 19, 17, 20), (4, 8, 5, 8), (19, 0, 19, 1), (13, 11, 14, 11), (20, 10, 20, 11), (10, 7, 10, 8), (7, 13, 8, 13), (18, 18, 18, 19), (15, 0, 15, 1), (8, 20, 9, 20), (12, 14, 12, 15), (15, 10, 16, 10), (9, 6, 10, 6), (19, 1, 19, 2), (13, 13, 14, 13), (2, 0, 2, 1), (15, 1, 15, 2), (18, 9, 19, 9), (14, 8, 15, 8), (14, 2, 14, 3), (12, 19, 12, 20), (12, 16, 12, 17), (16, 10, 16, 11), (9, 18, 10, 18), (10, 9, 11, 9), (11, 3, 11, 4), (19, 10, 20, 10), (6, 15, 6, 16), (5, 18, 6, 18), (18, 11, 19, 11), (8, 10, 8, 11), (14, 10, 15, 10), (16, 20, 17, 20), (7, 6, 7, 7), (10, 11, 11, 11), (15, 16, 15, 17), (20, 3, 20, 4), (15, 7, 15, 8), (13, 16, 14, 16), (0, 3, 0, 4), (13, 19, 13, 20), (5, 9, 5, 10), (4, 12, 5, 12), (1, 20, 2, 20), (17, 18, 18, 18), (6, 9, 6, 10), (13, 12, 13, 13), (0, 5, 1, 5), (2, 14, 3, 14), (5, 11, 6, 11), (12, 0, 12, 1), (14, 5, 15, 5), (4, 14, 4, 15), (1, 0, 2, 0), (5, 20, 6, 20), (13, 18, 13, 19), (14, 13, 14, 14), (1, 3, 1, 4), (5, 13, 6, 13), (7, 0, 8, 0), (14, 4, 15, 4), (17, 8, 17, 9), (17, 4, 18, 4), (20, 4, 20, 5), (9, 8, 9, 9), (0, 6, 0, 7), (16, 13, 16, 14), (7, 11, 8, 11), (7, 20, 8, 20), (7, 5, 7, 6), (6, 19, 7, 19), (16, 14, 17, 14), (16, 16, 17, 16), (11, 0, 12, 0), (8, 13, 8, 14), (19, 15, 20, 15), (11, 12, 11, 13), (2, 11, 2, 12), (14, 15, 14, 16), (6, 7, 7, 7), (8, 14, 9, 14), (19, 14, 19, 15), (18, 12, 19, 12), (11, 11, 12, 11), (4, 18, 4, 19), (6, 6, 7, 6), (16, 0, 16, 1), (15, 4, 16, 4), (1, 16, 2, 16), (10, 19, 11, 19), (4, 7, 4, 8), (13, 2, 13, 3), (1, 19, 1, 20), (10, 12, 11, 12), (14, 20, 15, 20), (5, 12, 5, 13), (2, 18, 2, 19), (7, 17, 8, 17), (1, 4, 1, 5), (9, 7, 10, 7), (19, 6, 20, 6), (19, 16, 19, 17), (10, 6, 10, 7), (18, 2, 18, 3), (18, 19, 19, 19), (12, 16, 13, 16), (6, 0, 7, 0), (12, 15, 13, 15), (9, 5, 9, 6), (11, 17, 12, 17), (2, 13, 2, 14), (13, 2, 14, 2), (1, 15, 1, 16), (15, 1, 16, 1), (17, 19, 18, 19), (19, 17, 19, 18), (0, 20, 1, 20), (2, 1, 3, 1), (3, 12, 3, 13), (5, 16, 5, 17), (9, 17, 10, 17), (17, 2, 17, 3), (11, 5, 12, 5), (14, 3, 15, 3), (5, 17, 6, 17), (12, 17, 13, 17), (16, 11, 17, 11), (3, 11, 4, 11), (9, 17, 9, 18), (7, 10, 7, 11), (10, 0, 11, 0), (0, 0, 1, 0), (5, 17, 5, 18), (4, 20, 5, 20), (19, 1, 20, 1), (8, 11, 9, 11), (1, 12, 2, 12), (1, 18, 2, 18), (5, 6, 6, 6), (16, 4, 17, 4), (2, 15, 2, 16), (14, 11, 14, 12), (7, 8, 7, 9), (20, 19, 20, 20), (20, 16, 20, 17), (6, 8, 6, 9), (1, 14, 2, 14), (11, 9, 11, 10), (13, 4, 14, 4), (16, 10, 17, 10), (17, 17, 17, 18), (17, 2, 18, 2), (7, 18, 8, 18), (9, 1, 10, 1), (17, 5, 18, 5), (6, 10, 6, 11), (2, 2, 3, 2), (5, 1, 6, 1), (12, 1, 13, 1), (8, 10, 9, 10), (18, 4, 18, 5), (0, 8, 0, 9), (4, 15, 5, 15), (13, 19, 14, 19), (0, 16, 1, 16), (6, 17, 6, 18), (11, 18, 12, 18), (14, 16, 15, 16), (19, 12, 20, 12), (12, 11, 12, 12), (0, 7, 1, 7), (0, 5, 0, 6), (14, 12, 14, 13), (12, 2, 12, 3), (1, 3, 2, 3), (15, 15, 16, 15), (10, 17, 10, 18), (7, 2, 8, 2), (20, 6, 20, 7), (14, 14, 14, 15), (20, 8, 20, 9), (19, 8, 19, 9), (4, 19, 5, 19), (15, 20, 16, 20), (16, 1, 17, 1), (3, 9, 3, 10), (6, 12, 7, 12), (12, 12, 12, 13), (15, 8, 16, 8), (1, 10, 1, 11), (11, 2, 12, 2), (2, 19, 3, 19), (15, 11, 15, 12), (18, 17, 18, 18), (8, 17, 8, 18), (1, 19, 2, 19), (16, 2, 16, 3), (15, 6, 16, 6), (19, 8, 20, 8), (0, 12, 1, 12), (13, 0, 13, 1), (10, 7, 11, 7), (18, 3, 19, 3), (4, 11, 4, 12), (14, 1, 14, 2), (10, 6, 11, 6), (13, 1, 13, 2), (12, 4, 13, 4), (15, 17, 16, 17), (1, 10, 2, 10), (1, 13, 2, 13), (5, 7, 6, 7), (7, 5, 8, 5), (3, 6, 3, 7), (13, 14, 13, 15), (2, 12, 2, 13), (8, 1, 8, 2), (12, 18, 13, 18), (19, 17, 20, 17), (1, 15, 2, 15), (4, 12, 4, 13), (4, 1, 4, 2), (11, 14, 12, 14), (1, 17, 1, 18), (5, 5, 5, 6), (13, 5, 14, 5), (15, 9, 15, 10), (15, 3, 16, 3), (2, 14, 2, 15), (17, 0, 17, 1), (6, 9, 7, 9), (11, 7, 12, 7), (19, 4, 19, 5), (3, 7, 3, 8), (3, 20, 4, 20), (1, 13, 1, 14), (7, 9, 8, 9), (0, 2, 1, 2), (17, 1, 17, 2), (19, 3, 20, 3), (6, 11, 7, 11), (16, 6, 17, 6), (17, 8, 18, 8), (19, 13, 20, 13), (17, 11, 17, 12), (6, 16, 6, 17), (18, 5, 19, 5), (0, 9, 1, 9), (2, 3, 2, 4), (9, 8, 10, 8), (11, 9, 12, 9), (9, 11, 9, 12), (16, 14, 16, 15), (18, 4, 19, 4), (3, 5, 3, 6), (6, 4, 6, 5), (3, 16, 3, 17), (15, 12, 16, 12), (15, 18, 16, 18), (5, 14, 5, 15), (8, 14, 8, 15), (10, 16, 10, 17), (13, 14, 14, 14), (14, 13, 15, 13), (12, 3, 13, 3), (3, 17, 3, 18), (15, 13, 15, 14), (20, 15, 20, 16), (3, 14, 4, 14), (19, 18, 20, 18), (20, 5, 20, 6), (14, 15, 15, 15), (2, 17, 2, 18), (7, 16, 7, 17), (19, 2, 19, 3), (12, 13, 13, 13), (18, 16, 18, 17), (8, 19, 8, 20), (15, 2, 15, 3), (8, 16, 8, 17), (2, 5, 2, 6), (4, 19, 4, 20), (1, 7, 1, 8), (4, 16, 4, 17), (17, 12, 17, 13), (9, 4, 10, 4), (18, 1, 18, 2), (3, 3, 3, 4), (3, 9, 4, 9), (9, 12, 9, 13), (16, 3, 17, 3), (14, 0, 14, 1), (5, 14, 6, 14), (5, 16, 6, 16), (16, 19, 16, 20), (5, 19, 5, 20), (2, 7, 2, 8), (7, 0, 7, 1), (1, 9, 1, 10), (15, 18, 15, 19), (8, 0, 8, 1), (16, 4, 16, 5), (1, 6, 2, 6), (16, 8, 17, 8), (4, 0, 4, 1), (2, 13, 3, 13), (7, 1, 7, 2), (9, 18, 9, 19), (11, 4, 12, 4), (6, 2, 6, 3), (8, 8, 9, 8), (5, 18, 5, 19), (4, 13, 5, 13), (7, 14, 8, 14), (12, 6, 13, 6), (18, 8, 19, 8), (2, 15, 3, 15), (6, 20, 7, 20), (7, 7, 8, 7), (10, 8, 11, 8), (10, 2, 10, 3), (3, 0, 4, 0), (7, 7, 7, 8), (18, 10, 19, 10), (11, 0, 11, 1), (15, 13, 16, 13), (10, 10, 11, 10), (6, 17, 7, 17), (9, 2, 9, 3), (16, 7, 16, 8), (13, 15, 14, 15), (17, 6, 17, 7), (0, 9, 0, 10), (17, 9, 18, 9), (11, 1, 11, 2), (20, 14, 20, 15), (5, 2, 5, 3), (15, 4, 15, 5), (16, 15, 17, 15), (6, 5, 7, 5), (9, 9, 10, 9)}\n"
     ]
    }
   ],
   "source": [
    "edgeList = initEdgeList()\n",
    "print(edgeList)"
   ]
  },
  {
   "cell_type": "code",
   "execution_count": null,
   "metadata": {},
   "outputs": [],
   "source": []
  },
  {
   "cell_type": "markdown",
   "metadata": {},
   "source": [
    "## 1 走迷宫"
   ]
  },
  {
   "cell_type": "markdown",
   "metadata": {},
   "source": [
    "迷宫设计，使用二维数组（python中为二维列表）\n"
   ]
  },
  {
   "cell_type": "code",
   "execution_count": null,
   "metadata": {},
   "outputs": [],
   "source": [
    "map = [[1,0,1,1,1,1,1,1,1,1,1,1],\n",
    "       [1,0,1,0,1,0,0,0,1,0,0,1],\n",
    "       [1,0,1,0,1,0,1,0,1,1,0,1],\n",
    "       [1,0,1,0,1,0,1,0,0,0,0,1],\n",
    "       [1,0,1,0,1,0,1,0,1,1,0,1],\n",
    "       [1,0,1,0,0,0,1,0,1,0,0,1],\n",
    "       [1,0,1,0,1,0,1,0,1,1,0,1],\n",
    "       [1,0,1,0,1,0,0,0,1,0,0,1],\n",
    "       [1,0,1,0,1,0,1,0,1,0,1,1],\n",
    "       [1,0,1,0,1,1,1,0,1,0,0,1],\n",
    "       [1,0,0,0,0,0,1,0,1,1,0,0],\n",
    "       [1,1,1,1,1,1,1,1,1,1,1,1]]\n",
    "\n",
    "print(map)"
   ]
  },
  {
   "cell_type": "code",
   "execution_count": null,
   "metadata": {},
   "outputs": [],
   "source": [
    "from IPython import display"
   ]
  },
  {
   "cell_type": "markdown",
   "metadata": {},
   "source": [
    "### 1.1 沿墙走迷宫"
   ]
  },
  {
   "cell_type": "markdown",
   "metadata": {},
   "source": [
    "### 1.2 深度优先搜索"
   ]
  },
  {
   "cell_type": "markdown",
   "metadata": {},
   "source": [
    "### 1.3 广度优先搜索"
   ]
  },
  {
   "cell_type": "markdown",
   "metadata": {},
   "source": [
    "## 2 最短路径"
   ]
  },
  {
   "cell_type": "markdown",
   "metadata": {},
   "source": [
    "### 2.1 Dijkstra算法"
   ]
  },
  {
   "cell_type": "markdown",
   "metadata": {},
   "source": [
    "### 2.2 双向搜索（A*算法）"
   ]
  },
  {
   "cell_type": "code",
   "execution_count": null,
   "metadata": {},
   "outputs": [],
   "source": []
  },
  {
   "cell_type": "code",
   "execution_count": null,
   "metadata": {},
   "outputs": [],
   "source": []
  },
  {
   "cell_type": "code",
   "execution_count": null,
   "metadata": {},
   "outputs": [],
   "source": []
  }
 ],
 "metadata": {
  "kernelspec": {
   "display_name": "Python 3",
   "language": "python",
   "name": "python3"
  },
  "language_info": {
   "codemirror_mode": {
    "name": "ipython",
    "version": 3
   },
   "file_extension": ".py",
   "mimetype": "text/x-python",
   "name": "python",
   "nbconvert_exporter": "python",
   "pygments_lexer": "ipython3",
   "version": "3.7.1"
  }
 },
 "nbformat": 4,
 "nbformat_minor": 2
}
