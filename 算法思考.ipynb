{
 "cells": [
  {
   "cell_type": "markdown",
   "metadata": {},
   "source": [
    "很多算法都是在解决经典问题的基础上凝练出来的思维方式，再用程序语言描述出来。重点是思维方式，语言仅仅是载体。"
   ]
  },
  {
   "cell_type": "markdown",
   "metadata": {},
   "source": [
    "https://github.com/osteele/callgraph 流程图\n",
    "\n",
    "https://github.com/lgpage/nbtutor python执行步骤\n",
    "\n",
    "https://github.com/QuantStack/jupyterlab-drawio jupyter上的visio\n"
   ]
  },
  {
   "cell_type": "code",
   "execution_count": null,
   "metadata": {
    "collapsed": true
   },
   "outputs": [],
   "source": []
  }
 ],
 "metadata": {
  "kernelspec": {
   "display_name": "Python 3",
   "language": "python",
   "name": "python3"
  },
  "language_info": {
   "codemirror_mode": {
    "name": "ipython",
    "version": 3
   },
   "file_extension": ".py",
   "mimetype": "text/x-python",
   "name": "python",
   "nbconvert_exporter": "python",
   "pygments_lexer": "ipython3",
   "version": "3.7.1"
  }
 },
 "nbformat": 4,
 "nbformat_minor": 2
}
