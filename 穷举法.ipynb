{
 "cells": [
  {
   "cell_type": "markdown",
   "metadata": {},
   "source": [
    "# 穷举法\n",
    "\n",
    "穷举法其实是面对很多问题时最容易想到的一种方法，有时显得很笨，但实际上有些问题除了穷举确实没有什么好的办法，所以其实此时使用穷举法并不笨。\n",
    "\n",
    "但穷举也要讲究策略，不能随机探测，而要按照一定的顺序与方法（比如图的遍历）。\n",
    "\n",
    "下面举一些例子：\n"
   ]
  },
  {
   "cell_type": "markdown",
   "metadata": {},
   "source": [
    "## 1 填数字类型"
   ]
  },
  {
   "cell_type": "markdown",
   "metadata": {},
   "source": [
    "### 1.1 幻方\n",
    "\n",
    "最常见的幻方是九宫格，问题定义如下：3x3的格子，象其中填入1-9共9个数字，9个数字不能重复，使得三行三列和两个对角线三个数字的和都相等。\n",
    "\n",
    "这个问题可以直接用程序穷举如下："
   ]
  },
  {
   "cell_type": "code",
   "execution_count": null,
   "metadata": {
    "collapsed": true
   },
   "outputs": [],
   "source": [
    "# 9个数，分别为i1-i9，排列顺序如下：\n",
    "# i1 i2 i3\n",
    "# i4 i5 i6\n",
    "# i7 i8 i9\n",
    "for i1 in range (1,10):\n",
    "    for i2 in range (1,10):\n",
    "        for i3 in range (1,10):\n",
    "            for i4 in range (1,10):\n",
    "                for i5 in range (1,10):\n",
    "                    for i6 in range (1,10):\n",
    "                        for i7 in range (1,10):\n",
    "                            for i8 in range (1,10):\n",
    "                                for i9 in range (1,10):\n",
    "                                    if (i1+i2+i3)==(i4+i5+i6) and (i1+i2+i3)==(i7+i8+i9) and (i1+i2+i3)==(i1+i4+i7) \\\n",
    "                                        and (i1+i2+i3)==(i2+i5+i8) and (i1+i2+i3)==(i3+i6+i9) and (i1+i2+i3)==(i1+i5+i9) \\\n",
    "                                        and (i1+i2+i3)==(i3+i5+i7) and i1 != i2 and i1 != i3 and i1 != i4 and i1 != i5 \\\n",
    "                                        and i1 != i6 and i1 != i7 and i1 != i8 and i1 != i9 and i2 != i3 and i2 != i4 \\\n",
    "                                        and i2 != i5 and i2 != i6 and i2 != i7 and i2 != i8 and i2 != i9 and i3 != i4 \\\n",
    "                                        and i3 != i5 and i3 != i6 and i3 != i7 and i3 != i8 and i3 != i9 and i4 != i5 \\\n",
    "                                        and i4 != i6 and i4 != i7 and i4 != i8 and i4 != i9 and i5 != i6 and i5 != i7 \\\n",
    "                                        and i5 != i8 and i5 != i9 and i6 != i7 and i6 != i8 and i6 != i9 and i7 != i8 \\\n",
    "                                        and i7 != i8 and i7 != i9 and i8 != i9:\n",
    "                                            print(i1, i2, i3)\n",
    "                                            print(i4, i5, i6)\n",
    "                                            print(i7, i8, i9)\n",
    "                                            print(\"\\n\")"
   ]
  },
  {
   "cell_type": "markdown",
   "metadata": {},
   "source": [
    "这个代码虽然比较长，也很好理解，完全按照题目的意思来写。但运行起来很慢，原因是它做了9的9次方次循环，并且里面的判断很长。\n",
    "\n",
    "- 如何改进？\n",
    "\n"
   ]
  },
  {
   "cell_type": "markdown",
   "metadata": {},
   "source": [
    "       - 首先可以证明三个数的和为15，还可以得到中间的数为5（如何证明？）\n",
    "    \n",
    "       - i5确定为5 \n",
    "    \n",
    "       - i1 确定后 i9 就确定了，因为i1+i5+i9=15\n",
    "    \n",
    "       - 再确定i2，这样，i8也确定了，同时i3，i7，i4，i6也就都确定了\n",
    "    \n",
    "       - 所以只需要确定了i2和i9，那么其他的就都能确定了，即只需要两重循环即可\n",
    "\n",
    "下面就可以利用这两个条件进行代码的简化了：（可能看起来并不直观）"
   ]
  },
  {
   "cell_type": "code",
   "execution_count": null,
   "metadata": {
    "collapsed": true
   },
   "outputs": [],
   "source": [
    "# 9个数，分别为i1-i9，排列顺序如下：\n",
    "# i1 i2 i3\n",
    "# i4 i5 i6\n",
    "# i7 i8 i9\n",
    "i5 = 5\n",
    "for i1 in range (1,10):\n",
    "    for i2 in range (1,10):\n",
    "        i3 = 15-i1-i2\n",
    "        i9 = 10-i1\n",
    "        i8 = 10-i2\n",
    "        i7 = 15-i8-i9\n",
    "        i4 = 15-i1-i7\n",
    "        i6 = 15-i3-i9\n",
    "        if i3>0 and i3< 10 and i4>0 and i4< 10 and i6>0 and i6< 10 and i7>0 and i7< 10 \\\n",
    "            and i8>0 and i8< 10 and i9>0 and i9< 10 \\\n",
    "            and i1 != i2 and i1 != i3 and i1 != i4 and i1 != i5 \\\n",
    "            and i1 != i6 and i1 != i7 and i1 != i8 and i1 != i9 and i2 != i3 and i2 != i4 \\\n",
    "            and i2 != i5 and i2 != i6 and i2 != i7 and i2 != i8 and i2 != i9 and i3 != i4 \\\n",
    "            and i3 != i5 and i3 != i6 and i3 != i7 and i3 != i8 and i3 != i9 and i4 != i5 \\\n",
    "            and i4 != i6 and i4 != i7 and i4 != i8 and i4 != i9 and i5 != i6 and i5 != i7 \\\n",
    "            and i5 != i8 and i5 != i9 and i6 != i7 and i6 != i8 and i6 != i9 and i7 != i8 \\\n",
    "            and i7 != i8 and i7 != i9 and i8 != i9:\n",
    "            print(i1, i2, i3)\n",
    "            print(i4, i5, i6)\n",
    "            print(i7, i8, i9)\n",
    "            print(\"\\n\")\n"
   ]
  },
  {
   "cell_type": "markdown",
   "metadata": {},
   "source": [
    "如果是5x5，7x7或更大的幻方，这种做法就不太好了，需要判断的条件太多。\n",
    "\n",
    "幻方还有其他有规律的填法，按照这种方法可以将奇数幻方都填出来。步骤如下：\n",
    "\n",
    "- 1 最上方中间填1\n",
    "- 2 沿着右上方向填下一个数\n",
    "    - 如果当前是第一行，则下一个数填到最后一行，如果当前是最后一列，则下一个数填到第一列\n",
    "    - 如果位置上有值，则填到该数相应位置的下一行\n",
    "- 3 不断执行2，直到填完数字\n",
    "\n",
    "这种方法有很多对称模式，因此最终可以填成8组结果，下面的代码是其中一种方式：（解121宫格）"
   ]
  },
  {
   "cell_type": "code",
   "execution_count": 10,
   "metadata": {},
   "outputs": [
    {
     "name": "stdout",
     "output_type": "stream",
     "text": [
      "[[  68.   81.   94.  107.  120.    1.   14.   27.   40.   53.   66.]\n",
      " [  80.   93.  106.  119.   11.   13.   26.   39.   52.   65.   67.]\n",
      " [  92.  105.  118.   10.   12.   25.   38.   51.   64.   77.   79.]\n",
      " [ 104.  117.    9.   22.   24.   37.   50.   63.   76.   78.   91.]\n",
      " [ 116.    8.   21.   23.   36.   49.   62.   75.   88.   90.  103.]\n",
      " [   7.   20.   33.   35.   48.   61.   74.   87.   89.  102.  115.]\n",
      " [  19.   32.   34.   47.   60.   73.   86.   99.  101.  114.    6.]\n",
      " [  31.   44.   46.   59.   72.   85.   98.  100.  113.    5.   18.]\n",
      " [  43.   45.   58.   71.   84.   97.  110.  112.    4.   17.   30.]\n",
      " [  55.   57.   70.   83.   96.  109.  111.    3.   16.   29.   42.]\n",
      " [  56.   69.   82.   95.  108.  121.    2.   15.   28.   41.   54.]]\n"
     ]
    }
   ],
   "source": [
    "import numpy as np\n",
    "M = 11\n",
    "MagicSquare = np.zeros((M,M))\n",
    "Mid = M>>1\n",
    "MagicSquare[0][Mid] = 1\n",
    "i = Mid\n",
    "j = 0\n",
    "for idx in range(2, M*M+1):\n",
    "    i = (i+1)%M\n",
    "    j = (j-1+M)%M\n",
    "    if(MagicSquare[j][i]==0):\n",
    "        MagicSquare[j][i] = idx\n",
    "    else:\n",
    "        i = (i-1+M)%M\n",
    "        j = (j+2)%M\n",
    "        MagicSquare[j][i] = idx\n",
    "print(MagicSquare)"
   ]
  },
  {
   "cell_type": "code",
   "execution_count": null,
   "metadata": {
    "collapsed": true
   },
   "outputs": [],
   "source": []
  },
  {
   "cell_type": "markdown",
   "metadata": {},
   "source": [
    "### 1.2 数阵图"
   ]
  },
  {
   "cell_type": "markdown",
   "metadata": {},
   "source": [
    "### 1.3 数字填空\n",
    "\n",
    "- 若四位数9a8b能被36整除，则这个四位数是多少？\n",
    "\n",
    "技巧\n",
    "- 3 各个位数相加和是3的倍数，那么该数字也是3的倍数\n",
    "- 9 各个位数相加和是9的倍数，那么该数字也是9的倍数\n",
    "- 1001=7*11*13 从个位开始，三位作为一组，奇数组减偶数组差是7或11或13的倍数，那么该数字也是它的倍数\n"
   ]
  },
  {
   "cell_type": "markdown",
   "metadata": {},
   "source": []
  },
  {
   "cell_type": "markdown",
   "metadata": {},
   "source": []
  },
  {
   "cell_type": "markdown",
   "metadata": {},
   "source": [
    "## 2 爱因斯坦的思考题"
   ]
  },
  {
   "cell_type": "code",
   "execution_count": null,
   "metadata": {
    "collapsed": true
   },
   "outputs": [],
   "source": []
  }
 ],
 "metadata": {
  "kernelspec": {
   "display_name": "Python 3",
   "language": "python",
   "name": "python3"
  },
  "language_info": {
   "codemirror_mode": {
    "name": "ipython",
    "version": 3
   },
   "file_extension": ".py",
   "mimetype": "text/x-python",
   "name": "python",
   "nbconvert_exporter": "python",
   "pygments_lexer": "ipython3",
   "version": "3.7.1"
  }
 },
 "nbformat": 4,
 "nbformat_minor": 2
}
