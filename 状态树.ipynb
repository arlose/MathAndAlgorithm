{
 "cells": [
  {
   "cell_type": "markdown",
   "metadata": {},
   "source": [
    "# 状态树\n",
    "\n",
    "其实可以看作是穷举法的一个分支，也是要遍历可以达到的各种状态，关键是如何遍历？实际上是广度优先搜索方法。如果把状态的记录作为算法的一部分，也可以看作是动态规划的思想应用。\n",
    "\n",
    "下面可以从几个典型例子来说明："
   ]
  },
  {
   "cell_type": "markdown",
   "metadata": {},
   "source": [
    "## · N个水桶倒水问题\n",
    "\n",
    "\n",
    "- 题目一：两个水桶，容积分别为7升和3升，有无限多的水，问如何能获得2升的水? \n",
    "\n",
    "思路：\n",
    "\n",
    "两个水桶，初始状态都为0升水，记为状态(0,0)。每次加水，倒水等操作都会产生新的状态，可以用状态树来跟踪这些状态，如果新状态不在状态树中，则增加进状态树。\n",
    "\n",
    "构建状态树需要按照一定的规则，从低层次开始，不断增加层次进行构造。最终达到特定状态，每个状态的层次代表到达该状态所需要经历的步骤数目。\n",
    "\n",
    "状态树法的局限：状态数目有限，并且不能太多。"
   ]
  },
  {
   "cell_type": "code",
   "execution_count": 1,
   "metadata": {
    "ExecuteTime": {
     "end_time": "2019-05-05T09:36:11.379757Z",
     "start_time": "2019-05-05T09:36:11.373721Z"
    }
   },
   "outputs": [],
   "source": [
    "M = (7, 3)\n",
    "b = [0, 0]"
   ]
  },
  {
   "cell_type": "markdown",
   "metadata": {},
   "source": [
    "定义各种加水、倒水的函数\n",
    "\n",
    "把桶填满，把桶中水全部倒出，把水从一个桶倒入另一个桶"
   ]
  },
  {
   "cell_type": "code",
   "execution_count": 2,
   "metadata": {
    "ExecuteTime": {
     "end_time": "2019-05-05T09:36:12.756605Z",
     "start_time": "2019-05-05T09:36:12.729189Z"
    }
   },
   "outputs": [],
   "source": [
    "# 把桶填满\n",
    "def Fill(idx):\n",
    "    if b[idx] < M[idx]:\n",
    "        b[idx] = M[idx]\n",
    "        return True\n",
    "    return False\n",
    "\n",
    "# 把桶倒空\n",
    "def Empty(idx):\n",
    "    if b[idx] > 0:\n",
    "        b[idx] = 0\n",
    "        return True\n",
    "    return False\n",
    "\n",
    "# 从fidx桶倒入tidx桶，分两种情况：能填满与不能填满\n",
    "def Transfer(fidx, tidx):\n",
    "    if(b[tidx]!=M[tidx] and b[fidx]>0):\n",
    "        if (b[fidx]+b[tidx])>=M[tidx]: # 能填满\n",
    "            b[fidx] = b[fidx]+b[tidx]-M[tidx]\n",
    "            b[tidx] = M[tidx]\n",
    "        else: # 不能填满\n",
    "            b[tidx] = b[fidx]+b[tidx]\n",
    "            b[fidx] = 0\n",
    "        return True\n",
    "    return False"
   ]
  },
  {
   "cell_type": "markdown",
   "metadata": {},
   "source": [
    "声明状态字典，用来存储状态值，如果出现过这种状态，状态字典里就有这个状态的key，相应的value值表示经过几个步骤可以到达该状态，以及上一个状态；否则字典里没有这个key，需要添加进状态字典里。"
   ]
  },
  {
   "cell_type": "code",
   "execution_count": 3,
   "metadata": {
    "ExecuteTime": {
     "end_time": "2019-05-05T09:36:14.174287Z",
     "start_time": "2019-05-05T09:36:14.171483Z"
    }
   },
   "outputs": [],
   "source": [
    "stat = {}"
   ]
  },
  {
   "cell_type": "markdown",
   "metadata": {},
   "source": [
    "每次加水或倒水都会生成新的状态，如果这个生成的状态已经存在过了，那么就不需要更新该状态了，否则需要把状态放入状态表中。"
   ]
  },
  {
   "cell_type": "code",
   "execution_count": 4,
   "metadata": {
    "ExecuteTime": {
     "end_time": "2019-05-05T09:36:15.279649Z",
     "start_time": "2019-05-05T09:36:15.274206Z"
    }
   },
   "outputs": [],
   "source": [
    "def insertStat(b0, b1, stepnum, laststat):\n",
    "    s = (b0, b1)\n",
    "    if (not s in stat):\n",
    "        stat[s] = (stepnum, laststat)\n",
    "        return True\n",
    "    return False"
   ]
  },
  {
   "cell_type": "markdown",
   "metadata": {},
   "source": [
    "状态集合初始为第0级，就是什么都不做的状态，两个桶都是0，层级数也设为0。\n",
    "\n",
    "再进一步倒水或加水都会形成新的一层。\n",
    "\n",
    "执行下面代码后，stat中的key值(0,0)代表已有状态，value值分成两个部分，第一个部分0代表第0层（即第0步可以到达该状态），第二个代表上一个状态，此时因为没有上一个状态，所以写None，表示没有上一状态。"
   ]
  },
  {
   "cell_type": "code",
   "execution_count": 5,
   "metadata": {
    "ExecuteTime": {
     "end_time": "2019-05-05T09:36:16.614864Z",
     "start_time": "2019-05-05T09:36:16.610255Z"
    }
   },
   "outputs": [
    {
     "name": "stdout",
     "output_type": "stream",
     "text": [
      "{(0, 0): (0, None)}\n"
     ]
    }
   ],
   "source": [
    "insertStat(0,0,0,None)\n",
    "print(stat)"
   ]
  },
  {
   "cell_type": "markdown",
   "metadata": {},
   "source": [
    "第一层次，即从两个桶都为0的状态下，进行一步加水倒水操作可以到达的状态"
   ]
  },
  {
   "cell_type": "code",
   "execution_count": 6,
   "metadata": {
    "ExecuteTime": {
     "end_time": "2019-05-05T09:36:18.430683Z",
     "start_time": "2019-05-05T09:36:18.397531Z"
    }
   },
   "outputs": [
    {
     "name": "stdout",
     "output_type": "stream",
     "text": [
      "{(0, 0): (0, None), (7, 0): (1, (0, 0)), (0, 3): (1, (0, 0))}\n"
     ]
    }
   ],
   "source": [
    "stepnum = 1\n",
    "tmp = b[:] # tmp的作用是保存初始时b的状态，注意这里不能用tmp=b，在python中，这个语句会导致tmp和b实际上是同一个列表，起不到保存初始值的作用\n",
    "for i in range(2):\n",
    "    if(tmp[i]<M[i]):\n",
    "        if(Fill(i)):\n",
    "            insertStat(b[0],b[1],stepnum,(tmp[0],tmp[1]))\n",
    "            b = tmp[:]\n",
    "\n",
    "for i in range(2):\n",
    "    if(tmp[i]>0):\n",
    "        if(Empty(i)):\n",
    "            insertStat(b[0],b[1],stepnum,(tmp[0],tmp[1]))\n",
    "            b = tmp[:]\n",
    "\n",
    "if(Transfer(0,1)):\n",
    "    insertStat(b[0],b[1],stepnum,(tmp[0],tmp[1]))\n",
    "    b = tmp[:]\n",
    "if(Transfer(1,0)):\n",
    "    insertStat(b[0],b[1],stepnum,(tmp[0],tmp[1]))\n",
    "    b = tmp[:]\n",
    "\n",
    "print(stat)"
   ]
  },
  {
   "cell_type": "markdown",
   "metadata": {},
   "source": [
    "可以将此过程写成一个循环判断，不断增加新的层次，得到本题的结果（第六步时即可得到2升水）"
   ]
  },
  {
   "cell_type": "code",
   "execution_count": 7,
   "metadata": {
    "ExecuteTime": {
     "end_time": "2019-05-05T09:36:21.531864Z",
     "start_time": "2019-05-05T09:36:21.389769Z"
    }
   },
   "outputs": [
    {
     "name": "stdout",
     "output_type": "stream",
     "text": [
      "1 : [[7, 0], [0, 3]]\n",
      "2 : [[7, 3], [4, 3], [3, 0]]\n",
      "3 : [[4, 0], [3, 3]]\n",
      "4 : [[1, 3], [6, 0]]\n",
      "5 : [[1, 0], [6, 3]]\n",
      "6 : [[0, 1], [7, 2]]\n",
      "7 : [[7, 1], [0, 2]]\n",
      "8 : [[5, 3], [2, 0]]\n",
      "9 : [[5, 0], [2, 3]]\n",
      "{(0, 0): (0, None), (7, 0): (1, (0, 0)), (0, 3): (1, (0, 0)), (7, 3): (2, (7, 0)), (4, 3): (2, (7, 0)), (3, 0): (2, (0, 3)), (4, 0): (3, (4, 3)), (3, 3): (3, (3, 0)), (1, 3): (4, (4, 0)), (6, 0): (4, (3, 3)), (1, 0): (5, (1, 3)), (6, 3): (5, (6, 0)), (0, 1): (6, (1, 0)), (7, 2): (6, (6, 3)), (7, 1): (7, (0, 1)), (0, 2): (7, (7, 2)), (5, 3): (8, (7, 1)), (2, 0): (8, (0, 2)), (5, 0): (9, (5, 3)), (2, 3): (9, (2, 0))}\n"
     ]
    }
   ],
   "source": [
    "stat = {}\n",
    "insertStat(0,0,0,None)\n",
    "b = [0,0]\n",
    "\n",
    "Flag = True # Flag 代表是否有新的状态\n",
    "\n",
    "stepnum = 0\n",
    "\n",
    "current = [[0,0]]\n",
    "newstat = []\n",
    "\n",
    "while Flag:\n",
    "    Flag = False \n",
    "    newstat.clear()\n",
    "    stepnum = stepnum+1\n",
    "    for s in current:\n",
    "        tmp = s[:]\n",
    "        b = s[:]\n",
    "        for i in range(2):\n",
    "            if(tmp[i]<M[i]):\n",
    "                if(Fill(i)):\n",
    "                    if(insertStat(b[0],b[1],stepnum,(tmp[0],tmp[1]))):\n",
    "                        Flag = True\n",
    "                        newstat.append([b[0],b[1]])\n",
    "                    b = tmp[:]\n",
    "        for i in range(2):\n",
    "            if(tmp[i]>0):\n",
    "                if(Empty(i)):\n",
    "                    if(insertStat(b[0],b[1],stepnum,(tmp[0],tmp[1]))):\n",
    "                        Flag = True\n",
    "                        newstat.append([b[0],b[1]])\n",
    "                    b = tmp[:]\n",
    "\n",
    "        if(Transfer(0,1)):\n",
    "            if(insertStat(b[0],b[1],stepnum,(tmp[0],tmp[1]))):\n",
    "                Flag = True\n",
    "                newstat.append([b[0],b[1]])\n",
    "            b = tmp[:]\n",
    "        if(Transfer(1,0)):\n",
    "            if(insertStat(b[0],b[1],stepnum,(tmp[0],tmp[1]))):\n",
    "                Flag = True\n",
    "                newstat.append([b[0],b[1]])\n",
    "            b = tmp[:]\n",
    "    current.clear()\n",
    "    current = newstat[:]\n",
    "    if Flag:\n",
    "        print(stepnum, \":\", current)\n",
    "\n",
    "print(stat)"
   ]
  },
  {
   "cell_type": "markdown",
   "metadata": {},
   "source": [
    "通过状态集合可以追溯如何到达该状态:"
   ]
  },
  {
   "cell_type": "code",
   "execution_count": 8,
   "metadata": {
    "ExecuteTime": {
     "end_time": "2019-05-05T09:36:34.556902Z",
     "start_time": "2019-05-05T09:36:34.514143Z"
    }
   },
   "outputs": [
    {
     "name": "stdout",
     "output_type": "stream",
     "text": [
      "终止状态：第一个水桶中有水7升，第二个水桶中有水2升，最快6步可达到，过程如下：\n",
      "(0, 0)->(0, 3)->(3, 0)->(3, 3)->(6, 0)->(6, 3)->(7, 2)\n"
     ]
    }
   ],
   "source": [
    "def findTarget(target):\n",
    "    for key, value in stat.items():\n",
    "        if(key[0]==target or key[1]==target):\n",
    "            return key\n",
    "    return None\n",
    "\n",
    "target = 2\n",
    "s = findTarget(target)\n",
    "\n",
    "if s is not None:\n",
    "    print(\"终止状态：第一个水桶中有水%d升，第二个水桶中有水%d升，最快%d步可达到，过程如下：\"%(s[0], s[1], stat[s][0]))\n",
    "\n",
    "    trace = []\n",
    "    t = s\n",
    "    trace.append(t)\n",
    "    while True:\n",
    "        tmp = stat[t][1]\n",
    "        if tmp is not None:\n",
    "            trace.append(tmp)\n",
    "        else:\n",
    "            break\n",
    "        t = tmp\n",
    "\n",
    "    while trace:\n",
    "        if len(trace)>1:\n",
    "            print(trace.pop(), end=\"->\")\n",
    "        else:\n",
    "            print(trace.pop())\n",
    "else:\n",
    "    print(\"目前条件无法获得%d升水\"%target)\n"
   ]
  },
  {
   "cell_type": "markdown",
   "metadata": {},
   "source": [
    "使用graphiz直观看到树结构"
   ]
  },
  {
   "cell_type": "code",
   "execution_count": 14,
   "metadata": {
    "ExecuteTime": {
     "end_time": "2019-05-05T09:45:29.799546Z",
     "start_time": "2019-05-05T09:45:29.583512Z"
    }
   },
   "outputs": [
    {
     "data": {
      "image/svg+xml": [
       "<?xml version=\"1.0\" encoding=\"UTF-8\" standalone=\"no\"?>\n",
       "<!DOCTYPE svg PUBLIC \"-//W3C//DTD SVG 1.1//EN\"\n",
       " \"http://www.w3.org/Graphics/SVG/1.1/DTD/svg11.dtd\">\n",
       "<!-- Generated by graphviz version 2.40.1 (20161225.0304)\n",
       " -->\n",
       "<!-- Title: %3 Pages: 1 -->\n",
       "<svg width=\"221pt\" height=\"849pt\"\n",
       " viewBox=\"0.00 0.00 220.52 848.52\" xmlns=\"http://www.w3.org/2000/svg\" xmlns:xlink=\"http://www.w3.org/1999/xlink\">\n",
       "<g id=\"graph0\" class=\"graph\" transform=\"scale(1 1) rotate(0) translate(4 844.5238)\">\n",
       "<title>%3</title>\n",
       "<polygon fill=\"#ffffff\" stroke=\"transparent\" points=\"-4,4 -4,-844.5238 216.5238,-844.5238 216.5238,4 -4,4\"/>\n",
       "<!-- (0, 0) -->\n",
       "<g id=\"node1\" class=\"node\">\n",
       "<title>(0, 0)</title>\n",
       "<ellipse fill=\"none\" stroke=\"#000000\" cx=\"144.2619\" cy=\"-807.2619\" rx=\"29.0539\" ry=\"29.0539\"/>\n",
       "<ellipse fill=\"none\" stroke=\"#000000\" cx=\"144.2619\" cy=\"-807.2619\" rx=\"33.0255\" ry=\"33.0255\"/>\n",
       "<text text-anchor=\"middle\" x=\"144.2619\" y=\"-803.0619\" font-family=\"Times,serif\" font-size=\"14.00\" fill=\"#000000\">(0, 0)</text>\n",
       "</g>\n",
       "<!-- (7, 0) -->\n",
       "<g id=\"node2\" class=\"node\">\n",
       "<title>(7, 0)</title>\n",
       "<ellipse fill=\"none\" stroke=\"#000000\" cx=\"106.2619\" cy=\"-706\" rx=\"29.0257\" ry=\"18\"/>\n",
       "<text text-anchor=\"middle\" x=\"106.2619\" y=\"-701.8\" font-family=\"Times,serif\" font-size=\"14.00\" fill=\"#000000\">(7, 0)</text>\n",
       "</g>\n",
       "<!-- (0, 0)&#45;&gt;(7, 0) -->\n",
       "<g id=\"edge1\" class=\"edge\">\n",
       "<title>(0, 0)&#45;&gt;(7, 0)</title>\n",
       "<path fill=\"none\" stroke=\"#000000\" d=\"M132.5506,-776.0537C127.4068,-762.3466 121.423,-746.401 116.4648,-733.1885\"/>\n",
       "<polygon fill=\"#000000\" stroke=\"#000000\" points=\"119.6944,-731.8328 112.9041,-723.7 113.1407,-734.2922 119.6944,-731.8328\"/>\n",
       "<text text-anchor=\"middle\" x=\"127.7619\" y=\"-744.8\" font-family=\"Times,serif\" font-size=\"14.00\" fill=\"#000000\">1</text>\n",
       "</g>\n",
       "<!-- (0, 3) -->\n",
       "<g id=\"node3\" class=\"node\">\n",
       "<title>(0, 3)</title>\n",
       "<ellipse fill=\"none\" stroke=\"#000000\" cx=\"183.2619\" cy=\"-706\" rx=\"29.0257\" ry=\"18\"/>\n",
       "<text text-anchor=\"middle\" x=\"183.2619\" y=\"-701.8\" font-family=\"Times,serif\" font-size=\"14.00\" fill=\"#000000\">(0, 3)</text>\n",
       "</g>\n",
       "<!-- (0, 0)&#45;&gt;(0, 3) -->\n",
       "<g id=\"edge2\" class=\"edge\">\n",
       "<title>(0, 0)&#45;&gt;(0, 3)</title>\n",
       "<path fill=\"none\" stroke=\"#000000\" d=\"M156.2814,-776.0537C161.5606,-762.3466 167.7019,-746.401 172.7905,-733.1885\"/>\n",
       "<polygon fill=\"#000000\" stroke=\"#000000\" points=\"176.1169,-734.2898 176.4449,-723.7 169.5847,-731.7739 176.1169,-734.2898\"/>\n",
       "<text text-anchor=\"middle\" x=\"172.7619\" y=\"-744.8\" font-family=\"Times,serif\" font-size=\"14.00\" fill=\"#000000\">1</text>\n",
       "</g>\n",
       "<!-- (7, 3) -->\n",
       "<g id=\"node4\" class=\"node\">\n",
       "<title>(7, 3)</title>\n",
       "<ellipse fill=\"none\" stroke=\"#000000\" cx=\"29.2619\" cy=\"-620\" rx=\"29.0257\" ry=\"18\"/>\n",
       "<text text-anchor=\"middle\" x=\"29.2619\" y=\"-615.8\" font-family=\"Times,serif\" font-size=\"14.00\" fill=\"#000000\">(7, 3)</text>\n",
       "</g>\n",
       "<!-- (7, 0)&#45;&gt;(7, 3) -->\n",
       "<g id=\"edge3\" class=\"edge\">\n",
       "<title>(7, 0)&#45;&gt;(7, 3)</title>\n",
       "<path fill=\"none\" stroke=\"#000000\" d=\"M92.1389,-690.2263C80.4897,-677.2155 63.7823,-658.5553 50.5174,-643.7399\"/>\n",
       "<polygon fill=\"#000000\" stroke=\"#000000\" points=\"52.8342,-641.0805 43.5561,-635.965 47.6191,-645.7498 52.8342,-641.0805\"/>\n",
       "<text text-anchor=\"middle\" x=\"76.7619\" y=\"-658.8\" font-family=\"Times,serif\" font-size=\"14.00\" fill=\"#000000\">2</text>\n",
       "</g>\n",
       "<!-- (4, 3) -->\n",
       "<g id=\"node5\" class=\"node\">\n",
       "<title>(4, 3)</title>\n",
       "<ellipse fill=\"none\" stroke=\"#000000\" cx=\"106.2619\" cy=\"-620\" rx=\"29.0257\" ry=\"18\"/>\n",
       "<text text-anchor=\"middle\" x=\"106.2619\" y=\"-615.8\" font-family=\"Times,serif\" font-size=\"14.00\" fill=\"#000000\">(4, 3)</text>\n",
       "</g>\n",
       "<!-- (7, 0)&#45;&gt;(4, 3) -->\n",
       "<g id=\"edge4\" class=\"edge\">\n",
       "<title>(7, 0)&#45;&gt;(4, 3)</title>\n",
       "<path fill=\"none\" stroke=\"#000000\" d=\"M106.2619,-687.7616C106.2619,-676.3597 106.2619,-661.4342 106.2619,-648.494\"/>\n",
       "<polygon fill=\"#000000\" stroke=\"#000000\" points=\"109.762,-648.2121 106.2619,-638.2121 102.762,-648.2121 109.762,-648.2121\"/>\n",
       "<text text-anchor=\"middle\" x=\"109.7619\" y=\"-658.8\" font-family=\"Times,serif\" font-size=\"14.00\" fill=\"#000000\">2</text>\n",
       "</g>\n",
       "<!-- (3, 0) -->\n",
       "<g id=\"node6\" class=\"node\">\n",
       "<title>(3, 0)</title>\n",
       "<ellipse fill=\"none\" stroke=\"#000000\" cx=\"183.2619\" cy=\"-620\" rx=\"29.0257\" ry=\"18\"/>\n",
       "<text text-anchor=\"middle\" x=\"183.2619\" y=\"-615.8\" font-family=\"Times,serif\" font-size=\"14.00\" fill=\"#000000\">(3, 0)</text>\n",
       "</g>\n",
       "<!-- (0, 3)&#45;&gt;(3, 0) -->\n",
       "<g id=\"edge5\" class=\"edge\">\n",
       "<title>(0, 3)&#45;&gt;(3, 0)</title>\n",
       "<path fill=\"none\" stroke=\"#000000\" d=\"M183.2619,-687.7616C183.2619,-676.3597 183.2619,-661.4342 183.2619,-648.494\"/>\n",
       "<polygon fill=\"#000000\" stroke=\"#000000\" points=\"186.762,-648.2121 183.2619,-638.2121 179.762,-648.2121 186.762,-648.2121\"/>\n",
       "<text text-anchor=\"middle\" x=\"186.7619\" y=\"-658.8\" font-family=\"Times,serif\" font-size=\"14.00\" fill=\"#000000\">2</text>\n",
       "</g>\n",
       "<!-- (4, 0) -->\n",
       "<g id=\"node7\" class=\"node\">\n",
       "<title>(4, 0)</title>\n",
       "<ellipse fill=\"none\" stroke=\"#000000\" cx=\"106.2619\" cy=\"-534\" rx=\"29.0257\" ry=\"18\"/>\n",
       "<text text-anchor=\"middle\" x=\"106.2619\" y=\"-529.8\" font-family=\"Times,serif\" font-size=\"14.00\" fill=\"#000000\">(4, 0)</text>\n",
       "</g>\n",
       "<!-- (4, 3)&#45;&gt;(4, 0) -->\n",
       "<g id=\"edge6\" class=\"edge\">\n",
       "<title>(4, 3)&#45;&gt;(4, 0)</title>\n",
       "<path fill=\"none\" stroke=\"#000000\" d=\"M106.2619,-601.7616C106.2619,-590.3597 106.2619,-575.4342 106.2619,-562.494\"/>\n",
       "<polygon fill=\"#000000\" stroke=\"#000000\" points=\"109.762,-562.2121 106.2619,-552.2121 102.762,-562.2121 109.762,-562.2121\"/>\n",
       "<text text-anchor=\"middle\" x=\"109.7619\" y=\"-572.8\" font-family=\"Times,serif\" font-size=\"14.00\" fill=\"#000000\">3</text>\n",
       "</g>\n",
       "<!-- (3, 3) -->\n",
       "<g id=\"node8\" class=\"node\">\n",
       "<title>(3, 3)</title>\n",
       "<ellipse fill=\"none\" stroke=\"#000000\" cx=\"183.2619\" cy=\"-534\" rx=\"29.0257\" ry=\"18\"/>\n",
       "<text text-anchor=\"middle\" x=\"183.2619\" y=\"-529.8\" font-family=\"Times,serif\" font-size=\"14.00\" fill=\"#000000\">(3, 3)</text>\n",
       "</g>\n",
       "<!-- (3, 0)&#45;&gt;(3, 3) -->\n",
       "<g id=\"edge7\" class=\"edge\">\n",
       "<title>(3, 0)&#45;&gt;(3, 3)</title>\n",
       "<path fill=\"none\" stroke=\"#000000\" d=\"M183.2619,-601.7616C183.2619,-590.3597 183.2619,-575.4342 183.2619,-562.494\"/>\n",
       "<polygon fill=\"#000000\" stroke=\"#000000\" points=\"186.762,-562.2121 183.2619,-552.2121 179.762,-562.2121 186.762,-562.2121\"/>\n",
       "<text text-anchor=\"middle\" x=\"186.7619\" y=\"-572.8\" font-family=\"Times,serif\" font-size=\"14.00\" fill=\"#000000\">3</text>\n",
       "</g>\n",
       "<!-- (1, 3) -->\n",
       "<g id=\"node9\" class=\"node\">\n",
       "<title>(1, 3)</title>\n",
       "<ellipse fill=\"none\" stroke=\"#000000\" cx=\"106.2619\" cy=\"-448\" rx=\"29.0257\" ry=\"18\"/>\n",
       "<text text-anchor=\"middle\" x=\"106.2619\" y=\"-443.8\" font-family=\"Times,serif\" font-size=\"14.00\" fill=\"#000000\">(1, 3)</text>\n",
       "</g>\n",
       "<!-- (4, 0)&#45;&gt;(1, 3) -->\n",
       "<g id=\"edge8\" class=\"edge\">\n",
       "<title>(4, 0)&#45;&gt;(1, 3)</title>\n",
       "<path fill=\"none\" stroke=\"#000000\" d=\"M106.2619,-515.7616C106.2619,-504.3597 106.2619,-489.4342 106.2619,-476.494\"/>\n",
       "<polygon fill=\"#000000\" stroke=\"#000000\" points=\"109.762,-476.2121 106.2619,-466.2121 102.762,-476.2121 109.762,-476.2121\"/>\n",
       "<text text-anchor=\"middle\" x=\"109.7619\" y=\"-486.8\" font-family=\"Times,serif\" font-size=\"14.00\" fill=\"#000000\">4</text>\n",
       "</g>\n",
       "<!-- (6, 0) -->\n",
       "<g id=\"node10\" class=\"node\">\n",
       "<title>(6, 0)</title>\n",
       "<ellipse fill=\"none\" stroke=\"#000000\" cx=\"183.2619\" cy=\"-448\" rx=\"29.0257\" ry=\"18\"/>\n",
       "<text text-anchor=\"middle\" x=\"183.2619\" y=\"-443.8\" font-family=\"Times,serif\" font-size=\"14.00\" fill=\"#000000\">(6, 0)</text>\n",
       "</g>\n",
       "<!-- (3, 3)&#45;&gt;(6, 0) -->\n",
       "<g id=\"edge9\" class=\"edge\">\n",
       "<title>(3, 3)&#45;&gt;(6, 0)</title>\n",
       "<path fill=\"none\" stroke=\"#000000\" d=\"M183.2619,-515.7616C183.2619,-504.3597 183.2619,-489.4342 183.2619,-476.494\"/>\n",
       "<polygon fill=\"#000000\" stroke=\"#000000\" points=\"186.762,-476.2121 183.2619,-466.2121 179.762,-476.2121 186.762,-476.2121\"/>\n",
       "<text text-anchor=\"middle\" x=\"186.7619\" y=\"-486.8\" font-family=\"Times,serif\" font-size=\"14.00\" fill=\"#000000\">4</text>\n",
       "</g>\n",
       "<!-- (1, 0) -->\n",
       "<g id=\"node11\" class=\"node\">\n",
       "<title>(1, 0)</title>\n",
       "<ellipse fill=\"none\" stroke=\"#000000\" cx=\"106.2619\" cy=\"-362\" rx=\"29.0257\" ry=\"18\"/>\n",
       "<text text-anchor=\"middle\" x=\"106.2619\" y=\"-357.8\" font-family=\"Times,serif\" font-size=\"14.00\" fill=\"#000000\">(1, 0)</text>\n",
       "</g>\n",
       "<!-- (1, 3)&#45;&gt;(1, 0) -->\n",
       "<g id=\"edge10\" class=\"edge\">\n",
       "<title>(1, 3)&#45;&gt;(1, 0)</title>\n",
       "<path fill=\"none\" stroke=\"#000000\" d=\"M106.2619,-429.7616C106.2619,-418.3597 106.2619,-403.4342 106.2619,-390.494\"/>\n",
       "<polygon fill=\"#000000\" stroke=\"#000000\" points=\"109.762,-390.2121 106.2619,-380.2121 102.762,-390.2121 109.762,-390.2121\"/>\n",
       "<text text-anchor=\"middle\" x=\"109.7619\" y=\"-400.8\" font-family=\"Times,serif\" font-size=\"14.00\" fill=\"#000000\">5</text>\n",
       "</g>\n",
       "<!-- (6, 3) -->\n",
       "<g id=\"node12\" class=\"node\">\n",
       "<title>(6, 3)</title>\n",
       "<ellipse fill=\"none\" stroke=\"#000000\" cx=\"183.2619\" cy=\"-362\" rx=\"29.0257\" ry=\"18\"/>\n",
       "<text text-anchor=\"middle\" x=\"183.2619\" y=\"-357.8\" font-family=\"Times,serif\" font-size=\"14.00\" fill=\"#000000\">(6, 3)</text>\n",
       "</g>\n",
       "<!-- (6, 0)&#45;&gt;(6, 3) -->\n",
       "<g id=\"edge11\" class=\"edge\">\n",
       "<title>(6, 0)&#45;&gt;(6, 3)</title>\n",
       "<path fill=\"none\" stroke=\"#000000\" d=\"M183.2619,-429.7616C183.2619,-418.3597 183.2619,-403.4342 183.2619,-390.494\"/>\n",
       "<polygon fill=\"#000000\" stroke=\"#000000\" points=\"186.762,-390.2121 183.2619,-380.2121 179.762,-390.2121 186.762,-390.2121\"/>\n",
       "<text text-anchor=\"middle\" x=\"186.7619\" y=\"-400.8\" font-family=\"Times,serif\" font-size=\"14.00\" fill=\"#000000\">5</text>\n",
       "</g>\n",
       "<!-- (0, 1) -->\n",
       "<g id=\"node13\" class=\"node\">\n",
       "<title>(0, 1)</title>\n",
       "<ellipse fill=\"none\" stroke=\"#000000\" cx=\"106.2619\" cy=\"-276\" rx=\"29.0257\" ry=\"18\"/>\n",
       "<text text-anchor=\"middle\" x=\"106.2619\" y=\"-271.8\" font-family=\"Times,serif\" font-size=\"14.00\" fill=\"#000000\">(0, 1)</text>\n",
       "</g>\n",
       "<!-- (1, 0)&#45;&gt;(0, 1) -->\n",
       "<g id=\"edge12\" class=\"edge\">\n",
       "<title>(1, 0)&#45;&gt;(0, 1)</title>\n",
       "<path fill=\"none\" stroke=\"#000000\" d=\"M106.2619,-343.7616C106.2619,-332.3597 106.2619,-317.4342 106.2619,-304.494\"/>\n",
       "<polygon fill=\"#000000\" stroke=\"#000000\" points=\"109.762,-304.2121 106.2619,-294.2121 102.762,-304.2121 109.762,-304.2121\"/>\n",
       "<text text-anchor=\"middle\" x=\"109.7619\" y=\"-314.8\" font-family=\"Times,serif\" font-size=\"14.00\" fill=\"#000000\">6</text>\n",
       "</g>\n",
       "<!-- (7, 2) -->\n",
       "<g id=\"node14\" class=\"node\">\n",
       "<title>(7, 2)</title>\n",
       "<ellipse fill=\"none\" stroke=\"#000000\" cx=\"183.2619\" cy=\"-276\" rx=\"29.0257\" ry=\"18\"/>\n",
       "<text text-anchor=\"middle\" x=\"183.2619\" y=\"-271.8\" font-family=\"Times,serif\" font-size=\"14.00\" fill=\"#000000\">(7, 2)</text>\n",
       "</g>\n",
       "<!-- (6, 3)&#45;&gt;(7, 2) -->\n",
       "<g id=\"edge13\" class=\"edge\">\n",
       "<title>(6, 3)&#45;&gt;(7, 2)</title>\n",
       "<path fill=\"none\" stroke=\"#000000\" d=\"M183.2619,-343.7616C183.2619,-332.3597 183.2619,-317.4342 183.2619,-304.494\"/>\n",
       "<polygon fill=\"#000000\" stroke=\"#000000\" points=\"186.762,-304.2121 183.2619,-294.2121 179.762,-304.2121 186.762,-304.2121\"/>\n",
       "<text text-anchor=\"middle\" x=\"186.7619\" y=\"-314.8\" font-family=\"Times,serif\" font-size=\"14.00\" fill=\"#000000\">6</text>\n",
       "</g>\n",
       "<!-- (7, 1) -->\n",
       "<g id=\"node15\" class=\"node\">\n",
       "<title>(7, 1)</title>\n",
       "<ellipse fill=\"none\" stroke=\"#000000\" cx=\"106.2619\" cy=\"-190\" rx=\"29.0257\" ry=\"18\"/>\n",
       "<text text-anchor=\"middle\" x=\"106.2619\" y=\"-185.8\" font-family=\"Times,serif\" font-size=\"14.00\" fill=\"#000000\">(7, 1)</text>\n",
       "</g>\n",
       "<!-- (0, 1)&#45;&gt;(7, 1) -->\n",
       "<g id=\"edge14\" class=\"edge\">\n",
       "<title>(0, 1)&#45;&gt;(7, 1)</title>\n",
       "<path fill=\"none\" stroke=\"#000000\" d=\"M106.2619,-257.7616C106.2619,-246.3597 106.2619,-231.4342 106.2619,-218.494\"/>\n",
       "<polygon fill=\"#000000\" stroke=\"#000000\" points=\"109.762,-218.2121 106.2619,-208.2121 102.762,-218.2121 109.762,-218.2121\"/>\n",
       "<text text-anchor=\"middle\" x=\"109.7619\" y=\"-228.8\" font-family=\"Times,serif\" font-size=\"14.00\" fill=\"#000000\">7</text>\n",
       "</g>\n",
       "<!-- (0, 2) -->\n",
       "<g id=\"node16\" class=\"node\">\n",
       "<title>(0, 2)</title>\n",
       "<ellipse fill=\"none\" stroke=\"#000000\" cx=\"183.2619\" cy=\"-190\" rx=\"29.0257\" ry=\"18\"/>\n",
       "<text text-anchor=\"middle\" x=\"183.2619\" y=\"-185.8\" font-family=\"Times,serif\" font-size=\"14.00\" fill=\"#000000\">(0, 2)</text>\n",
       "</g>\n",
       "<!-- (7, 2)&#45;&gt;(0, 2) -->\n",
       "<g id=\"edge15\" class=\"edge\">\n",
       "<title>(7, 2)&#45;&gt;(0, 2)</title>\n",
       "<path fill=\"none\" stroke=\"#000000\" d=\"M183.2619,-257.7616C183.2619,-246.3597 183.2619,-231.4342 183.2619,-218.494\"/>\n",
       "<polygon fill=\"#000000\" stroke=\"#000000\" points=\"186.762,-218.2121 183.2619,-208.2121 179.762,-218.2121 186.762,-218.2121\"/>\n",
       "<text text-anchor=\"middle\" x=\"186.7619\" y=\"-228.8\" font-family=\"Times,serif\" font-size=\"14.00\" fill=\"#000000\">7</text>\n",
       "</g>\n",
       "<!-- (5, 3) -->\n",
       "<g id=\"node17\" class=\"node\">\n",
       "<title>(5, 3)</title>\n",
       "<ellipse fill=\"none\" stroke=\"#000000\" cx=\"106.2619\" cy=\"-104\" rx=\"29.0257\" ry=\"18\"/>\n",
       "<text text-anchor=\"middle\" x=\"106.2619\" y=\"-99.8\" font-family=\"Times,serif\" font-size=\"14.00\" fill=\"#000000\">(5, 3)</text>\n",
       "</g>\n",
       "<!-- (7, 1)&#45;&gt;(5, 3) -->\n",
       "<g id=\"edge16\" class=\"edge\">\n",
       "<title>(7, 1)&#45;&gt;(5, 3)</title>\n",
       "<path fill=\"none\" stroke=\"#000000\" d=\"M106.2619,-171.7616C106.2619,-160.3597 106.2619,-145.4342 106.2619,-132.494\"/>\n",
       "<polygon fill=\"#000000\" stroke=\"#000000\" points=\"109.762,-132.2121 106.2619,-122.2121 102.762,-132.2121 109.762,-132.2121\"/>\n",
       "<text text-anchor=\"middle\" x=\"109.7619\" y=\"-142.8\" font-family=\"Times,serif\" font-size=\"14.00\" fill=\"#000000\">8</text>\n",
       "</g>\n",
       "<!-- (2, 0) -->\n",
       "<g id=\"node18\" class=\"node\">\n",
       "<title>(2, 0)</title>\n",
       "<ellipse fill=\"none\" stroke=\"#000000\" cx=\"183.2619\" cy=\"-104\" rx=\"29.0257\" ry=\"18\"/>\n",
       "<text text-anchor=\"middle\" x=\"183.2619\" y=\"-99.8\" font-family=\"Times,serif\" font-size=\"14.00\" fill=\"#000000\">(2, 0)</text>\n",
       "</g>\n",
       "<!-- (0, 2)&#45;&gt;(2, 0) -->\n",
       "<g id=\"edge17\" class=\"edge\">\n",
       "<title>(0, 2)&#45;&gt;(2, 0)</title>\n",
       "<path fill=\"none\" stroke=\"#000000\" d=\"M183.2619,-171.7616C183.2619,-160.3597 183.2619,-145.4342 183.2619,-132.494\"/>\n",
       "<polygon fill=\"#000000\" stroke=\"#000000\" points=\"186.762,-132.2121 183.2619,-122.2121 179.762,-132.2121 186.762,-132.2121\"/>\n",
       "<text text-anchor=\"middle\" x=\"186.7619\" y=\"-142.8\" font-family=\"Times,serif\" font-size=\"14.00\" fill=\"#000000\">8</text>\n",
       "</g>\n",
       "<!-- (5, 0) -->\n",
       "<g id=\"node19\" class=\"node\">\n",
       "<title>(5, 0)</title>\n",
       "<ellipse fill=\"none\" stroke=\"#000000\" cx=\"106.2619\" cy=\"-18\" rx=\"29.0257\" ry=\"18\"/>\n",
       "<text text-anchor=\"middle\" x=\"106.2619\" y=\"-13.8\" font-family=\"Times,serif\" font-size=\"14.00\" fill=\"#000000\">(5, 0)</text>\n",
       "</g>\n",
       "<!-- (5, 3)&#45;&gt;(5, 0) -->\n",
       "<g id=\"edge18\" class=\"edge\">\n",
       "<title>(5, 3)&#45;&gt;(5, 0)</title>\n",
       "<path fill=\"none\" stroke=\"#000000\" d=\"M106.2619,-85.7616C106.2619,-74.3597 106.2619,-59.4342 106.2619,-46.494\"/>\n",
       "<polygon fill=\"#000000\" stroke=\"#000000\" points=\"109.762,-46.2121 106.2619,-36.2121 102.762,-46.2121 109.762,-46.2121\"/>\n",
       "<text text-anchor=\"middle\" x=\"109.7619\" y=\"-56.8\" font-family=\"Times,serif\" font-size=\"14.00\" fill=\"#000000\">9</text>\n",
       "</g>\n",
       "<!-- (2, 3) -->\n",
       "<g id=\"node20\" class=\"node\">\n",
       "<title>(2, 3)</title>\n",
       "<ellipse fill=\"none\" stroke=\"#000000\" cx=\"183.2619\" cy=\"-18\" rx=\"29.0257\" ry=\"18\"/>\n",
       "<text text-anchor=\"middle\" x=\"183.2619\" y=\"-13.8\" font-family=\"Times,serif\" font-size=\"14.00\" fill=\"#000000\">(2, 3)</text>\n",
       "</g>\n",
       "<!-- (2, 0)&#45;&gt;(2, 3) -->\n",
       "<g id=\"edge19\" class=\"edge\">\n",
       "<title>(2, 0)&#45;&gt;(2, 3)</title>\n",
       "<path fill=\"none\" stroke=\"#000000\" d=\"M183.2619,-85.7616C183.2619,-74.3597 183.2619,-59.4342 183.2619,-46.494\"/>\n",
       "<polygon fill=\"#000000\" stroke=\"#000000\" points=\"186.762,-46.2121 183.2619,-36.2121 179.762,-46.2121 186.762,-46.2121\"/>\n",
       "<text text-anchor=\"middle\" x=\"186.7619\" y=\"-56.8\" font-family=\"Times,serif\" font-size=\"14.00\" fill=\"#000000\">9</text>\n",
       "</g>\n",
       "</g>\n",
       "</svg>\n"
      ],
      "text/plain": [
       "<graphviz.dot.Digraph at 0x1110b1b00>"
      ]
     },
     "execution_count": 14,
     "metadata": {},
     "output_type": "execute_result"
    }
   ],
   "source": [
    "from graphviz import Digraph\n",
    "u = Digraph()\n",
    "\n",
    "stat = {}\n",
    "insertStat(0,0,0,None)\n",
    "b = [0,0]\n",
    "\n",
    "Flag = True # Flag 代表是否有新的状态\n",
    "\n",
    "stepnum = 0\n",
    "\n",
    "current = [[0,0]]\n",
    "newstat = []\n",
    "\n",
    "u.node(\"(0, 0)\", shape=\"doublecircle\")\n",
    "\n",
    "while Flag:\n",
    "    Flag = False \n",
    "    newstat.clear()\n",
    "    stepnum = stepnum+1\n",
    "    for s in current:\n",
    "        tmp = s[:]\n",
    "        b = s[:]\n",
    "        for i in range(2):\n",
    "            if(tmp[i]<M[i]):\n",
    "                if(Fill(i)):\n",
    "                    if(insertStat(b[0],b[1],stepnum,(tmp[0],tmp[1]))):\n",
    "                        Flag = True\n",
    "                        newstat.append([b[0],b[1]])\n",
    "                        u.edge(str((tmp[0],tmp[1])), str((b[0], b[1])), label=str(stepnum))\n",
    "                    b = tmp[:]\n",
    "        for i in range(2):\n",
    "            if(tmp[i]>0):\n",
    "                if(Empty(i)):\n",
    "                    if(insertStat(b[0],b[1],stepnum,(tmp[0],tmp[1]))):\n",
    "                        Flag = True\n",
    "                        newstat.append([b[0],b[1]])\n",
    "                        u.edge(str((tmp[0],tmp[1])), str((b[0], b[1])), label=str(stepnum))\n",
    "                    b = tmp[:]\n",
    "\n",
    "        if(Transfer(0,1)):\n",
    "            if(insertStat(b[0],b[1],stepnum,(tmp[0],tmp[1]))):\n",
    "                Flag = True\n",
    "                newstat.append([b[0],b[1]])\n",
    "                u.edge(str((tmp[0],tmp[1])), str((b[0], b[1])), label=str(stepnum))\n",
    "            b = tmp[:]\n",
    "        if(Transfer(1,0)):\n",
    "            if(insertStat(b[0],b[1],stepnum,(tmp[0],tmp[1]))):\n",
    "                Flag = True\n",
    "                newstat.append([b[0],b[1]])\n",
    "                u.edge(str((tmp[0],tmp[1])), str((b[0], b[1])), label=str(stepnum))\n",
    "            b = tmp[:]\n",
    "    current.clear()\n",
    "    current = newstat[:]\n",
    "\n",
    "u"
   ]
  },
  {
   "cell_type": "markdown",
   "metadata": {},
   "source": [
    "- 题目二：有3个水桶的容量为8升，5升和3升。 8升水桶里面装满了水。如果利用另外两个桶，得到4升水？ (没有无限水)"
   ]
  },
  {
   "cell_type": "code",
   "execution_count": 1,
   "metadata": {
    "collapsed": true
   },
   "outputs": [],
   "source": [
    "# 思路与上面一样，代码写在下面"
   ]
  },
  {
   "cell_type": "markdown",
   "metadata": {},
   "source": [
    "其他相似问题\n",
    "- 卖牛奶的人有两桶10升的牛奶，两个顾客各带容器去买2升牛奶，一个带的是5升的容器，一个带的是4升的容器，这位卖牛奶的人应该如何解决问题？\n",
    "- 三个没有刻度，容积分别为160升，119升和77升的空桶，和无限多的水，想要量出76升的水，至少需要进行多少次操作？"
   ]
  },
  {
   "cell_type": "markdown",
   "metadata": {},
   "source": [
    "## 2 狼羊菜过河\n",
    "\n",
    "- 题目一：一个农夫带着狼，羊和白菜想要过河，河边有一艘小船，只有农夫可以驾驶小船，而且农夫每次只能带一样东西过河，已知如果农夫不在旁边，那么，狼会吃掉羊，羊会吃掉白菜，农夫应该怎么过河？\n",
    "\n",
    "题目分析：农夫狼羊菜都在左边构成初始状态，农夫狼羊菜都在右边构成最后状态。可以用集合来表示这些组合的元素。根据题目要求设置一些限制条件。然后设置农夫可以带某样东西过河，或者带某样东西返回。这样就可以形成很多状态。如果达到终局状态则退出。"
   ]
  },
  {
   "cell_type": "code",
   "execution_count": 1,
   "metadata": {
    "collapsed": true
   },
   "outputs": [],
   "source": [
    "farmer = 0\n",
    "wolf = 1\n",
    "sheep = 2\n",
    "cabbage = 3\n",
    "\n",
    "left = {farmer, wolf, sheep, cabbage}\n",
    "right = set()"
   ]
  },
  {
   "cell_type": "markdown",
   "metadata": {},
   "source": [
    "定义行动"
   ]
  },
  {
   "cell_type": "code",
   "execution_count": 2,
   "metadata": {
    "collapsed": true
   },
   "outputs": [],
   "source": [
    "def left2right(obj):\n",
    "    if farmer in left:\n",
    "        if obj is not None:\n",
    "            if obj in left:\n",
    "                right.add(farmer)\n",
    "                right.add(obj)\n",
    "                left.remove(farmer)\n",
    "                left.remove(obj)\n",
    "                return True\n",
    "        else:\n",
    "            right.add(farmer)\n",
    "            left.remove(farmer)\n",
    "            return True\n",
    "    return False\n",
    "\n",
    "def right2left(obj):\n",
    "    if farmer in right:\n",
    "        if obj is not None:\n",
    "            if obj in right:\n",
    "                left.add(farmer)\n",
    "                left.add(obj)\n",
    "                right.remove(farmer)\n",
    "                right.remove(obj)\n",
    "                return True\n",
    "        else:\n",
    "            left.add(farmer)\n",
    "            right.remove(farmer)\n",
    "            return True\n",
    "    return False\n",
    "\n",
    "def isValid(objs):\n",
    "    if not farmer in objs:\n",
    "        if wolf in objs and sheep in objs:\n",
    "            return False\n",
    "        if cabbage in objs and sheep in objs:\n",
    "            return False\n",
    "    return True\n"
   ]
  },
  {
   "cell_type": "markdown",
   "metadata": {},
   "source": [
    "测试行动函数"
   ]
  },
  {
   "cell_type": "code",
   "execution_count": 3,
   "metadata": {},
   "outputs": [
    {
     "name": "stdout",
     "output_type": "stream",
     "text": [
      "{2, 3}\n",
      "{0, 1}\n",
      "False\n",
      "True\n"
     ]
    }
   ],
   "source": [
    "left2right(wolf)\n",
    "print(left)\n",
    "print(right)\n",
    "print(isValid(left))\n",
    "print(isValid(right))"
   ]
  },
  {
   "cell_type": "markdown",
   "metadata": {},
   "source": [
    "定义状态字典"
   ]
  },
  {
   "cell_type": "code",
   "execution_count": 13,
   "metadata": {
    "collapsed": true
   },
   "outputs": [],
   "source": [
    "leftstat = {}\n",
    "rightstat = {}"
   ]
  },
  {
   "cell_type": "raw",
   "metadata": {},
   "source": [
    "每次农夫从河两边走过，可能会产生新的状态\n",
    "\n",
    "集合这种数据结构不能hash，所以要做一下转换"
   ]
  },
  {
   "cell_type": "code",
   "execution_count": 14,
   "metadata": {
    "collapsed": true
   },
   "outputs": [],
   "source": [
    "def set2numstring(objs):\n",
    "    num = 0\n",
    "    for obj in objs:\n",
    "        num |= 1<<obj;\n",
    "    return str(num)\n",
    "\n",
    "def numstring2set(string):\n",
    "    num = int(string)\n",
    "    s = set()\n",
    "    if(num&(1<<farmer)!=0):\n",
    "        s.add(farmer)\n",
    "    if(num&(1<<wolf)!=0):\n",
    "        s.add(wolf)\n",
    "    if(num&(1<<sheep)!=0):\n",
    "        s.add(sheep)\n",
    "    if(num&(1<<cabbage)!=0):\n",
    "        s.add(cabbage)\n",
    "    return s\n",
    "    \n",
    "        \n",
    "def insertStat(stat, objs, stepnum, laststat):\n",
    "    s = set2numstring(objs)\n",
    "    if (not s in stat):\n",
    "        stat[s] = (stepnum, laststat)\n",
    "        return True\n",
    "    return False"
   ]
  },
  {
   "cell_type": "markdown",
   "metadata": {},
   "source": [
    "初始状态为农夫狼羊菜都在左边，右边什么都没有"
   ]
  },
  {
   "cell_type": "code",
   "execution_count": 15,
   "metadata": {},
   "outputs": [
    {
     "name": "stdout",
     "output_type": "stream",
     "text": [
      "{'15': (0, None)}\n",
      "{'0': (0, None)}\n"
     ]
    }
   ],
   "source": [
    "left = {farmer, wolf, sheep, cabbage}\n",
    "right = set()\n",
    "insertStat(leftstat, left, 0, None)\n",
    "insertStat(rightstat, right, 0, None)\n",
    "print(leftstat)\n",
    "print(rightstat)"
   ]
  },
  {
   "cell_type": "markdown",
   "metadata": {},
   "source": [
    "第一层次，遍历农夫带物品过河，符合条件者保存新状态"
   ]
  },
  {
   "cell_type": "code",
   "execution_count": 16,
   "metadata": {},
   "outputs": [
    {
     "name": "stdout",
     "output_type": "stream",
     "text": [
      "left: {'15': (0, None), '10': (1, '15')}\n",
      "right: {'0': (0, None), '5': (1, '0')}\n"
     ]
    }
   ],
   "source": [
    "stepnum = 1\n",
    "tmpl = set2numstring(left) \n",
    "tmpr = set2numstring(right) \n",
    "\n",
    "for obj in {wolf, sheep, cabbage, None}:\n",
    "    if farmer in left:\n",
    "        if(left2right(obj)):\n",
    "            if(isValid(left) and isValid(right)):\n",
    "                insertStat(leftstat, left, stepnum, tmpl)\n",
    "                insertStat(rightstat, right, stepnum, tmpr)\n",
    "            left = numstring2set(tmpl)\n",
    "            right = numstring2set(tmpr)\n",
    "    else: # farmer in right:\n",
    "        if(right2left(obj)):\n",
    "            if(isValid(left) and isValid(right)):\n",
    "                insertStat(leftstat, left, stepnum, tmpl)\n",
    "                insertStat(rightstat, right, stepnum, tmpr)\n",
    "            left = numstring2set(tmpl)\n",
    "            right = numstring2set(tmpr)\n",
    "                            \n",
    "print(\"left:\", leftstat)\n",
    "print(\"right:\", rightstat)"
   ]
  },
  {
   "cell_type": "markdown",
   "metadata": {},
   "source": [
    "将此过程写成一个循环判断，不断增加新的层次"
   ]
  },
  {
   "cell_type": "code",
   "execution_count": 3,
   "metadata": {},
   "outputs": [
    {
     "ename": "NameError",
     "evalue": "name 'farmer' is not defined",
     "output_type": "error",
     "traceback": [
      "\u001b[1;31m---------------------------------------------------------------------------\u001b[0m",
      "\u001b[1;31mNameError\u001b[0m                                 Traceback (most recent call last)",
      "\u001b[1;32m<ipython-input-3-fccba6971b8f>\u001b[0m in \u001b[0;36m<module>\u001b[1;34m()\u001b[0m\n\u001b[0;32m      1\u001b[0m \u001b[0mleftstat\u001b[0m \u001b[1;33m=\u001b[0m \u001b[1;33m{\u001b[0m\u001b[1;33m}\u001b[0m\u001b[1;33m\u001b[0m\u001b[0m\n\u001b[0;32m      2\u001b[0m \u001b[0mrightstat\u001b[0m \u001b[1;33m=\u001b[0m \u001b[1;33m{\u001b[0m\u001b[1;33m}\u001b[0m\u001b[1;33m\u001b[0m\u001b[0m\n\u001b[1;32m----> 3\u001b[1;33m \u001b[0mleft\u001b[0m \u001b[1;33m=\u001b[0m \u001b[1;33m{\u001b[0m\u001b[0mfarmer\u001b[0m\u001b[1;33m,\u001b[0m \u001b[0mwolf\u001b[0m\u001b[1;33m,\u001b[0m \u001b[0msheep\u001b[0m\u001b[1;33m,\u001b[0m \u001b[0mcabbage\u001b[0m\u001b[1;33m}\u001b[0m\u001b[1;33m\u001b[0m\u001b[0m\n\u001b[0m\u001b[0;32m      4\u001b[0m \u001b[0mright\u001b[0m \u001b[1;33m=\u001b[0m \u001b[0mset\u001b[0m\u001b[1;33m(\u001b[0m\u001b[1;33m)\u001b[0m\u001b[1;33m\u001b[0m\u001b[0m\n\u001b[0;32m      5\u001b[0m \u001b[0minsertStat\u001b[0m\u001b[1;33m(\u001b[0m\u001b[0mleftstat\u001b[0m\u001b[1;33m,\u001b[0m \u001b[0mleft\u001b[0m\u001b[1;33m,\u001b[0m \u001b[1;36m0\u001b[0m\u001b[1;33m,\u001b[0m \u001b[1;32mNone\u001b[0m\u001b[1;33m)\u001b[0m\u001b[1;33m\u001b[0m\u001b[0m\n",
      "\u001b[1;31mNameError\u001b[0m: name 'farmer' is not defined"
     ]
    }
   ],
   "source": [
    "leftstat = {}\n",
    "rightstat = {}\n",
    "left = {farmer, wolf, sheep, cabbage}\n",
    "right = set()\n",
    "insertStat(leftstat, left, 0, None)\n",
    "insertStat(rightstat, right, 0, None)\n",
    "\n",
    "Flag = True # Flag 代表是否有新的状态\n",
    "\n",
    "stepnum = 0\n",
    "\n",
    "current = [[set2numstring(left), set2numstring(right)]]\n",
    "newstat = []\n",
    "\n",
    "while Flag:\n",
    "#for i in range(2):\n",
    "    Flag = False \n",
    "    newstat.clear()\n",
    "    stepnum = stepnum+1\n",
    "    for s in current:\n",
    "        left = numstring2set(s[0])\n",
    "        right = numstring2set(s[1])\n",
    "        for obj in {wolf, sheep, cabbage, None}:\n",
    "            if farmer in left:\n",
    "                if(left2right(obj)):\n",
    "                    if(isValid(left) and isValid(right)):\n",
    "                        if(insertStat(leftstat, left, stepnum, s[0])):\n",
    "                            insertStat(rightstat, right, stepnum, s[1])\n",
    "                            Flag = True\n",
    "                            newstat.append([set2numstring(left), set2numstring(right)])\n",
    "                    left = numstring2set(s[0])\n",
    "                    right = numstring2set(s[1])\n",
    "            else: # farmer in right:\n",
    "                if(right2left(obj)):\n",
    "                    if(isValid(left) and isValid(right)):\n",
    "                        if(insertStat(leftstat, left, stepnum, s[0])):\n",
    "                            insertStat(rightstat, right, stepnum, s[1])\n",
    "                            Flag = True\n",
    "                            newstat.append([set2numstring(left), set2numstring(right)])\n",
    "                    left = numstring2set(s[0])\n",
    "                    right = numstring2set(s[1])\n",
    "    current.clear()\n",
    "    current = newstat[:]\n",
    "    if Flag:\n",
    "        print(stepnum, \":\", current)\n",
    "\n",
    "print(\"left:\", leftstat)\n",
    "print(\"right:\", rightstat)"
   ]
  },
  {
   "cell_type": "markdown",
   "metadata": {},
   "source": [
    "通过状态集合进行追溯"
   ]
  },
  {
   "cell_type": "code",
   "execution_count": 4,
   "metadata": {},
   "outputs": [
    {
     "name": "stdout",
     "output_type": "stream",
     "text": [
      "目前条件无法达到需要的状态\n"
     ]
    }
   ],
   "source": [
    "objstr = [\"farmer\", \"wolf\", \"sheep\", \"cabbage\"]\n",
    "\n",
    "def printstr(s):\n",
    "    objs = numstring2set(s)\n",
    "    for obj in objs:\n",
    "        print(objstr[obj], end=\" \")\n",
    "        \n",
    "\n",
    "def findTarget(target):\n",
    "    for key, value in rightstat.items():\n",
    "        if(key==target):\n",
    "            return key\n",
    "    return None\n",
    "\n",
    "target = '15'\n",
    "\n",
    "# 左侧状态数值与右侧状态数值相加刚好为15，所以可以由右侧状态推断左侧状态\n",
    "\n",
    "s = findTarget(target)\n",
    "\n",
    "if s is not None:\n",
    "    print(\"需要达到的河右侧状态：\")\n",
    "    printstr('15')\n",
    "    \n",
    "    print(\"\\n河左右侧状态变化如下：\")\n",
    "\n",
    "    trace = []\n",
    "    t = s\n",
    "    trace.append(t)\n",
    "    while True:\n",
    "        tmp = rightstat[t][1]\n",
    "        if tmp is not None:\n",
    "            trace.append(tmp)\n",
    "        else:\n",
    "            break\n",
    "        t = tmp\n",
    "    idx = 0\n",
    "    while trace:\n",
    "        print(\"%d : \"%idx, end=\"\")\n",
    "        r = trace.pop()\n",
    "        l = str(15-int(r))\n",
    "        printstr(l)\n",
    "        print(\" | \", end=\" \")\n",
    "        printstr(r)\n",
    "        idx = idx+1\n",
    "        print(\"\")\n",
    "else:\n",
    "    print(\"目前条件无法达到需要的状态\")\n",
    "\n"
   ]
  },
  {
   "cell_type": "markdown",
   "metadata": {},
   "source": [
    "- 题目2: 一个猎人要带一棵胡萝卜，一只狗，两只老虎和一只羊过河，现在小船上只有三个座位，猎人最多只能带两样东西过去。没有人或狗在，老虎会吃羊，狗和羊单独在一起就会吵架，羊和胡萝卜在一起就会吃掉胡萝卜，有什么办法可以一起过河？"
   ]
  },
  {
   "cell_type": "markdown",
   "metadata": {},
   "source": [
    "## 3 华容道"
   ]
  },
  {
   "cell_type": "markdown",
   "metadata": {},
   "source": [
    "## 4 博弈树"
   ]
  },
  {
   "cell_type": "markdown",
   "metadata": {},
   "source": [
    "## 5 简单AI"
   ]
  },
  {
   "cell_type": "code",
   "execution_count": null,
   "metadata": {
    "collapsed": true
   },
   "outputs": [],
   "source": []
  }
 ],
 "metadata": {
  "kernelspec": {
   "display_name": "Python 3",
   "language": "python",
   "name": "python3"
  },
  "language_info": {
   "codemirror_mode": {
    "name": "ipython",
    "version": 3
   },
   "file_extension": ".py",
   "mimetype": "text/x-python",
   "name": "python",
   "nbconvert_exporter": "python",
   "pygments_lexer": "ipython3",
   "version": "3.6.5"
  },
  "toc": {
   "base_numbering": 1,
   "nav_menu": {},
   "number_sections": true,
   "sideBar": true,
   "skip_h1_title": false,
   "title_cell": "Table of Contents",
   "title_sidebar": "Contents",
   "toc_cell": false,
   "toc_position": {},
   "toc_section_display": true,
   "toc_window_display": true
  }
 },
 "nbformat": 4,
 "nbformat_minor": 2
}
