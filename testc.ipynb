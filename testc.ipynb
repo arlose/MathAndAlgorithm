{
 "cells": [
  {
   "cell_type": "code",
   "execution_count": 1,
   "metadata": {
    "ExecuteTime": {
     "end_time": "2019-04-29T09:37:24Z\u0000",
     "start_time": "2019-04-29T09:37:24Z\u0000"
    }
   },
   "outputs": [],
   "source": [
    "#include <stdio.h>"
   ]
  },
  {
   "cell_type": "code",
   "execution_count": 2,
   "metadata": {
    "ExecuteTime": {
     "end_time": "2019-04-29T09:37:25Z\u0000",
     "start_time": "2019-04-29T09:37:25Z\u0000"
    }
   },
   "outputs": [],
   "source": [
    "int main()\n",
    "{\n",
    "    printf(\"hello\\n\");\n",
    "}"
   ]
  },
  {
   "cell_type": "code",
   "execution_count": 3,
   "metadata": {
    "ExecuteTime": {
     "end_time": "2019-04-29T09:38:04Z\u0000",
     "start_time": "2019-04-29T09:38:04Z\u0000"
    }
   },
   "outputs": [
    {
     "name": "stderr",
     "output_type": "stream",
     "text": [
      "No documentation found for std::vector\n"
     ]
    }
   ],
   "source": [
    "?std::vector"
   ]
  },
  {
   "cell_type": "code",
   "execution_count": 4,
   "metadata": {
    "ExecuteTime": {
     "end_time": "2019-04-29T09:38:46Z\u0000",
     "start_time": "2019-04-29T09:38:46Z\u0000"
    }
   },
   "outputs": [],
   "source": [
    "class Rectangle {  \n",
    "    private:\n",
    "        double w;\n",
    "        double h;\n",
    " \n",
    "    public:\n",
    " \n",
    "        Rectangle(double w_, double h_) {\n",
    "            w = w_;\n",
    "            h = h_;\n",
    "        }\n",
    "        double area(void) {\n",
    "            return w * h;\n",
    "        }\n",
    "        double perimiter(void) {\n",
    "            return 2 * (w + h);\n",
    "        }\n",
    "};"
   ]
  },
  {
   "cell_type": "code",
   "execution_count": 5,
   "metadata": {
    "ExecuteTime": {
     "end_time": "2019-04-29T09:39:05Z\u0000",
     "start_time": "2019-04-29T09:39:05Z\u0000"
    }
   },
   "outputs": [],
   "source": [
    "Rectangle r = Rectangle(5, 4); \n",
    "r.area();"
   ]
  },
  {
   "cell_type": "code",
   "execution_count": 6,
   "metadata": {
    "ExecuteTime": {
     "end_time": "2019-04-29T09:40:01Z\u0000",
     "start_time": "2019-04-29T09:40:01Z\u0000"
    }
   },
   "outputs": [
    {
     "name": "stderr",
     "output_type": "stream",
     "text": [
      "In file included from input_line_11:3:\n",
      "In file included from /Users/fengjie/anaconda3/include/xtl/xbase64.hpp:16:\n",
      "In file included from /Users/fengjie/anaconda3/include/xtl/xsequence.hpp:19:\n",
      "\u001b[1m/Users/fengjie/anaconda3/include/xtl/xmeta_utils.hpp:451:59: \u001b[0m\u001b[0;1;31merror: \u001b[0m\u001b[1mno template named 'conditional_t' in namespace 'std'; did you mean 'conditional'?\u001b[0m\n",
      "            struct find_if_impl<Test, I, T0, T...> : std::conditional_t<Test<T0>::value,\n",
      "\u001b[0;1;32m                                                     ~~~~~^~~~~~~~~~~~~\n",
      "\u001b[0m\u001b[0;32m                                                          conditional\n",
      "\u001b[0m\u001b[1m/Users/fengjie/anaconda3/include/c++/v1/type_traits:409:33: \u001b[0m\u001b[0;1;30mnote: \u001b[0m'conditional' declared here\u001b[0m\n",
      "    struct _LIBCPP_TEMPLATE_VIS conditional {typedef _If type;};\n",
      "\u001b[0;1;32m                                ^\n",
      "\u001b[0mIn file included from input_line_11:3:\n",
      "In file included from /Users/fengjie/anaconda3/include/xtl/xbase64.hpp:16:\n",
      "In file included from /Users/fengjie/anaconda3/include/xtl/xsequence.hpp:19:\n",
      "\u001b[1m/Users/fengjie/anaconda3/include/xtl/xmeta_utils.hpp:529:18: \u001b[0m\u001b[0;1;35mwarning: \u001b[0m\u001b[1m'decltype(auto)' type specifier is a C++14 extension [-Wc++14-extensions]\u001b[0m\n",
      "        decltype(auto) static_if(std::true_type, const TF& tf, const FF&)\n",
      "\u001b[0;1;32m                 ^\n",
      "\u001b[0m\u001b[1m/Users/fengjie/anaconda3/include/xtl/xmeta_utils.hpp:529:9: \u001b[0m\u001b[0;1;31merror: \u001b[0m\u001b[1mdeduced return types are a C++14 extension\u001b[0m\n",
      "        decltype(auto) static_if(std::true_type, const TF& tf, const FF&)\n",
      "\u001b[0;1;32m        ^\n",
      "\u001b[0m\u001b[1m/Users/fengjie/anaconda3/include/xtl/xmeta_utils.hpp:535:18: \u001b[0m\u001b[0;1;35mwarning: \u001b[0m\u001b[1m'decltype(auto)' type specifier is a C++14 extension [-Wc++14-extensions]\u001b[0m\n",
      "        decltype(auto) static_if(std::false_type, const TF&, const FF& ff)\n",
      "\u001b[0;1;32m                 ^\n",
      "\u001b[0m\u001b[1m/Users/fengjie/anaconda3/include/xtl/xmeta_utils.hpp:535:9: \u001b[0m\u001b[0;1;31merror: \u001b[0m\u001b[1mdeduced return types are a C++14 extension\u001b[0m\n",
      "        decltype(auto) static_if(std::false_type, const TF&, const FF& ff)\n",
      "\u001b[0;1;32m        ^\n",
      "\u001b[0m\u001b[1m/Users/fengjie/anaconda3/include/xtl/xmeta_utils.hpp:541:18: \u001b[0m\u001b[0;1;35mwarning: \u001b[0m\u001b[1m'decltype(auto)' type specifier is a C++14 extension [-Wc++14-extensions]\u001b[0m\n",
      "        decltype(auto) static_if(const TF& tf, const FF& ff)\n",
      "\u001b[0;1;32m                 ^\n",
      "\u001b[0m\u001b[1m/Users/fengjie/anaconda3/include/xtl/xmeta_utils.hpp:541:9: \u001b[0m\u001b[0;1;31merror: \u001b[0m\u001b[1mdeduced return types are a C++14 extension\u001b[0m\n",
      "        decltype(auto) static_if(const TF& tf, const FF& ff)\n",
      "\u001b[0;1;32m        ^\n",
      "\u001b[0mIn file included from input_line_11:3:\n",
      "In file included from /Users/fengjie/anaconda3/include/xtl/xbase64.hpp:16:\n",
      "\u001b[1m/Users/fengjie/anaconda3/include/xtl/xsequence.hpp:30:14: \u001b[0m\u001b[0;1;35mwarning: \u001b[0m\u001b[1m'decltype(auto)' type specifier is a C++14 extension [-Wc++14-extensions]\u001b[0m\n",
      "    decltype(auto) forward_sequence(A&& s);\n",
      "\u001b[0;1;32m             ^\n",
      "\u001b[0m\u001b[1m/Users/fengjie/anaconda3/include/xtl/xsequence.hpp:30:5: \u001b[0m\u001b[0;1;31merror: \u001b[0m\u001b[1mdeduced return types are a C++14 extension\u001b[0m\n",
      "    decltype(auto) forward_sequence(A&& s);\n",
      "\u001b[0;1;32m    ^\n",
      "\u001b[0m\u001b[1m/Users/fengjie/anaconda3/include/xtl/xsequence.hpp:119:27: \u001b[0m\u001b[0;1;31merror: \u001b[0m\u001b[1m'auto' return without trailing return type; deduced return types are a C++14 extension\u001b[0m\n",
      "            static inline auto forward(const T& r)\n",
      "\u001b[0;1;32m                          ^\n",
      "\u001b[0m\u001b[1m/Users/fengjie/anaconda3/include/xtl/xsequence.hpp:143:18: \u001b[0m\u001b[0;1;31merror: \u001b[0m\u001b[1mno template named 'decay_t' in namespace 'std'; did you mean 'decay'?\u001b[0m\n",
      "            std::decay_t<R>,\n",
      "\u001b[0;1;32m            ~~~~~^~~~~~~\n",
      "\u001b[0m\u001b[0;32m                 decay\n",
      "\u001b[0m\u001b[1m/Users/fengjie/anaconda3/include/c++/v1/type_traits:1276:29: \u001b[0m\u001b[0;1;30mnote: \u001b[0m'decay' declared here\u001b[0m\n",
      "struct _LIBCPP_TEMPLATE_VIS decay\n",
      "\u001b[0;1;32m                            ^\n",
      "\u001b[0mIn file included from input_line_11:3:\n",
      "In file included from /Users/fengjie/anaconda3/include/xtl/xbase64.hpp:16:\n",
      "\u001b[1m/Users/fengjie/anaconda3/include/xtl/xsequence.hpp:144:18: \u001b[0m\u001b[0;1;31merror: \u001b[0m\u001b[1mno template named 'remove_cv_t' in namespace 'std'; did you mean 'remove_cv'?\u001b[0m\n",
      "            std::remove_cv_t<std::remove_reference_t<A>>\n",
      "\u001b[0;1;32m            ~~~~~^~~~~~~~~~~\n",
      "\u001b[0m\u001b[0;32m                 remove_cv\n",
      "\u001b[0m\u001b[1m/Users/fengjie/anaconda3/include/c++/v1/type_traits:643:50: \u001b[0m\u001b[0;1;30mnote: \u001b[0m'remove_cv' declared here\u001b[0m\n",
      "template <class _Tp> struct _LIBCPP_TEMPLATE_VIS remove_cv\n",
      "\u001b[0;1;32m                                                 ^\n",
      "\u001b[0mIn file included from input_line_11:3:\n",
      "In file included from /Users/fengjie/anaconda3/include/xtl/xbase64.hpp:16:\n",
      "\u001b[1m/Users/fengjie/anaconda3/include/xtl/xsequence.hpp:144:35: \u001b[0m\u001b[0;1;31merror: \u001b[0m\u001b[1mno template named 'remove_reference_t' in namespace 'std'; did you mean 'remove_reference'?\u001b[0m\n",
      "            std::remove_cv_t<std::remove_reference_t<A>>\n",
      "\u001b[0;1;32m                             ~~~~~^~~~~~~~~~~~~~~~~~\n",
      "\u001b[0m\u001b[0;32m                                  remove_reference\n",
      "\u001b[0m\u001b[1m/Users/fengjie/anaconda3/include/c++/v1/type_traits:1065:50: \u001b[0m\u001b[0;1;30mnote: \u001b[0m'remove_reference' declared here\u001b[0m\n",
      "template <class _Tp> struct _LIBCPP_TEMPLATE_VIS remove_reference        {typedef _Tp type;};\n",
      "\u001b[0;1;32m                                                 ^\n",
      "\u001b[0mIn file included from input_line_11:3:\n",
      "In file included from /Users/fengjie/anaconda3/include/xtl/xbase64.hpp:16:\n",
      "\u001b[1m/Users/fengjie/anaconda3/include/xtl/xsequence.hpp:149:21: \u001b[0m\u001b[0;1;35mwarning: \u001b[0m\u001b[1m'decltype(auto)' type specifier is a C++14 extension [-Wc++14-extensions]\u001b[0m\n",
      "    inline decltype(auto) forward_sequence(typename std::remove_reference<A>::type& s)\n",
      "\u001b[0;1;32m                    ^\n",
      "\u001b[0m\u001b[1m/Users/fengjie/anaconda3/include/xtl/xsequence.hpp:149:12: \u001b[0m\u001b[0;1;31merror: \u001b[0m\u001b[1mdeduced return types are a C++14 extension\u001b[0m\n",
      "    inline decltype(auto) forward_sequence(typename std::remove_reference<A>::type& s)\n",
      "\u001b[0;1;32m           ^\n",
      "\u001b[0m\u001b[1m/Users/fengjie/anaconda3/include/xtl/xsequence.hpp:156:21: \u001b[0m\u001b[0;1;35mwarning: \u001b[0m\u001b[1m'decltype(auto)' type specifier is a C++14 extension [-Wc++14-extensions]\u001b[0m\n",
      "    inline decltype(auto) forward_sequence(typename std::remove_reference<A>::type&& s)\n",
      "\u001b[0;1;32m                    ^\n",
      "\u001b[0m\u001b[1m/Users/fengjie/anaconda3/include/xtl/xsequence.hpp:156:12: \u001b[0m\u001b[0;1;31merror: \u001b[0m\u001b[1mdeduced return types are a C++14 extension\u001b[0m\n",
      "    inline decltype(auto) forward_sequence(typename std::remove_reference<A>::type&& s)\n",
      "\u001b[0;1;32m           ^\n",
      "\u001b[0m"
     ]
    },
    {
     "ename": "Interpreter Error",
     "evalue": "",
     "output_type": "error",
     "traceback": [
      "Interpreter Error: "
     ]
    }
   ],
   "source": [
    "#include <string>\n",
    "#include <fstream>\n",
    "\n",
    "#include \"xtl/xbase64.hpp\"\n",
    "#include \"nlohmann/json.hpp\"\n",
    "\n",
    "namespace im\n",
    "{\n",
    "    struct image\n",
    "    {\n",
    "        inline image(const std::string& filename)\n",
    "        {\n",
    "            std::ifstream fin(filename, std::ios::binary);\n",
    "            m_buffer << fin.rdbuf();\n",
    "        }\n",
    "\n",
    "        std::stringstream m_buffer;\n",
    "    };\n",
    "\n",
    "    nlohmann::json mime_bundle_repr(const image& i)\n",
    "    {\n",
    "        auto bundle = nlohmann::json::object();\n",
    "        bundle[\"image/png\"] = xtl::base64encode(i.m_buffer.str());\n",
    "        return bundle;\n",
    "    }\n",
    "}"
   ]
  },
  {
   "cell_type": "code",
   "execution_count": null,
   "metadata": {},
   "outputs": [],
   "source": []
  }
 ],
 "metadata": {
  "kernelspec": {
   "display_name": "C++11",
   "language": "C++11",
   "name": "xeus-cling-cpp11"
  },
  "language_info": {
   "codemirror_mode": "text/x-c++src",
   "file_extension": ".cpp",
   "mimetype": "text/x-c++src",
   "name": "c++",
   "version": "-std=c++11"
  },
  "toc": {
   "base_numbering": 1,
   "nav_menu": {},
   "number_sections": true,
   "sideBar": true,
   "skip_h1_title": false,
   "title_cell": "Table of Contents",
   "title_sidebar": "Contents",
   "toc_cell": false,
   "toc_position": {},
   "toc_section_display": true,
   "toc_window_display": false
  }
 },
 "nbformat": 4,
 "nbformat_minor": 2
}
