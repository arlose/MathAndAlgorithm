{
 "cells": [
  {
   "cell_type": "markdown",
   "metadata": {},
   "source": [
    "### 打印输出"
   ]
  },
  {
   "cell_type": "code",
   "execution_count": 1,
   "metadata": {},
   "outputs": [
    {
     "name": "stdout",
     "output_type": "stream",
     "text": [
      "hello jupyter\n",
      "a is: 3\n"
     ]
    }
   ],
   "source": [
    "h = \"hello jupyter\"\n",
    "print(h)\n",
    "\n",
    "a = 3\n",
    "print(\"a is:\", a)"
   ]
  },
  {
   "cell_type": "markdown",
   "metadata": {},
   "source": [
    "### 算术运算"
   ]
  },
  {
   "cell_type": "code",
   "execution_count": 7,
   "metadata": {},
   "outputs": [
    {
     "name": "stdout",
     "output_type": "stream",
     "text": [
      "1+3的结果是： 4\n",
      "1-3的结果是： -2\n",
      "1*3的结果是： 3\n",
      "1/3的结果是： 0.3333333333333333\n",
      "1%3的结果是： 1\n",
      "1&3的结果是： 1\n",
      "1|3的结果是： 3\n",
      "1^3的结果是： 2\n",
      "~3的结果是： -4\n",
      "1>>3的结果是： 0\n",
      "1<<3的结果是： 8\n"
     ]
    }
   ],
   "source": [
    "# +-*/%\n",
    "a = 1 + 3\n",
    "print(\"1+3的结果是：\", a)\n",
    "a = 1 - 3\n",
    "print(\"1-3的结果是：\", a)\n",
    "a = 1 * 3\n",
    "print(\"1*3的结果是：\", a)\n",
    "a = 1 / 3\n",
    "print(\"1/3的结果是：\", a)\n",
    "a = 1 % 3\n",
    "print(\"1%3的结果是：\", a)\n",
    "\n",
    "# 位运算\n",
    "b = 1 & 3\n",
    "print(\"1&3的结果是：\", b)\n",
    "b = 1 | 3\n",
    "print(\"1|3的结果是：\", b)\n",
    "b = 1 ^ 3\n",
    "print(\"1^3的结果是：\", b)\n",
    "b = ~3\n",
    "print(\"~3的结果是：\", b)\n",
    "b = 1 >> 3\n",
    "print(\"1>>3的结果是：\", b)\n",
    "b = 1 << 3\n",
    "print(\"1<<3的结果是：\", b)"
   ]
  },
  {
   "cell_type": "markdown",
   "metadata": {},
   "source": [
    "### 基本数据类型"
   ]
  },
  {
   "cell_type": "code",
   "execution_count": 12,
   "metadata": {},
   "outputs": [
    {
     "name": "stdout",
     "output_type": "stream",
     "text": [
      "<class 'int'>\n",
      "<class 'float'>\n",
      "<class 'str'>\n",
      "<class 'str'>\n",
      "<class 'bool'>\n"
     ]
    },
    {
     "data": {
      "text/plain": [
       "False"
      ]
     },
     "execution_count": 12,
     "metadata": {},
     "output_type": "execute_result"
    }
   ],
   "source": [
    "a = 1\n",
    "print(type(a))  # 自动类型判断 整型\n",
    "\n",
    "b = 1.0\n",
    "print(type(b))  # 自动类型判断 浮点型\n",
    "\n",
    "c = \"test\"\n",
    "print(type(c))  # str 字符串类型\n",
    "c = 'test'\n",
    "print(type(c))  # str 也可以用单引号\n",
    "\n",
    "d = True\n",
    "print(type(d))  # 自动类型判断 布尔型 True False\n",
    "\n",
    "# 判断是否属于某个类型\n",
    "isinstance(3.1, int)"
   ]
  },
  {
   "cell_type": "markdown",
   "metadata": {},
   "source": [
    "### 条件判断"
   ]
  },
  {
   "cell_type": "code",
   "execution_count": 13,
   "metadata": {},
   "outputs": [
    {
     "name": "stdout",
     "output_type": "stream",
     "text": [
      "false\n"
     ]
    }
   ],
   "source": [
    "# f = True\n",
    "f = False  # 布尔型\n",
    "if f:  # 后面有冒号\n",
    "    print(\"true\")  # tab缩进\n",
    "else:  # 后面有冒号\n",
    "    print(\"false\")"
   ]
  },
  {
   "cell_type": "markdown",
   "metadata": {},
   "source": [
    "### 循环"
   ]
  },
  {
   "cell_type": "code",
   "execution_count": 2,
   "metadata": {},
   "outputs": [
    {
     "name": "stdout",
     "output_type": "stream",
     "text": [
      "0 1 2 3 4 5 6 7 8 9 \n",
      "1 3 5 7 9 "
     ]
    }
   ],
   "source": [
    "for i in range(10): # 后面有冒号，默认从0开始，range参数为终点值，但不包含该值\n",
    "    print(i, end=\" \") # tab缩进\n",
    "\n",
    "print(\"\")\n",
    "\n",
    "for i in range(1,10,2): # range中分别为 start，end（不包含），step\n",
    "    print(i, end=\" \")"
   ]
  },
  {
   "cell_type": "markdown",
   "metadata": {},
   "source": [
    "### 函数"
   ]
  },
  {
   "cell_type": "code",
   "execution_count": 4,
   "metadata": {},
   "outputs": [
    {
     "name": "stdout",
     "output_type": "stream",
     "text": [
      "3\n"
     ]
    }
   ],
   "source": [
    "def func(a, b):  # 用def来定义函数，后面加冒号\n",
    "    c = a + b  # tab缩进\n",
    "    return c\n",
    "\n",
    "\n",
    "x = 1\n",
    "y = 2\n",
    "res = func(x, y)  # 函数调用\n",
    "\n",
    "print(res)"
   ]
  },
  {
   "cell_type": "markdown",
   "metadata": {},
   "source": [
    "### 导入库"
   ]
  },
  {
   "cell_type": "code",
   "execution_count": 5,
   "metadata": {},
   "outputs": [
    {
     "name": "stdout",
     "output_type": "stream",
     "text": [
      "[[ 1.  1.  1.]\n",
      " [ 1.  1.  1.]\n",
      " [ 1.  1.  1.]]\n",
      "1.0\n",
      "[[ 0.  1.  2.]\n",
      " [ 1.  2.  3.]\n",
      " [ 2.  3.  4.]]\n"
     ]
    }
   ],
   "source": [
    "import numpy as np  # 大部分例子用的矩阵库\n",
    "\n",
    "a = np.ones((3, 3))  # 3x3的矩阵，全为1\n",
    "print(a)\n",
    "\n",
    "print(a[0][1])  # 访问矩阵数据\n",
    "\n",
    "# 矩阵赋值\n",
    "for j in range(3):\n",
    "    for i in range(3):\n",
    "        a[j][i] = i + j\n",
    "print(a)"
   ]
  },
  {
   "cell_type": "markdown",
   "metadata": {},
   "source": [
    "### 数据结构"
   ]
  },
  {
   "cell_type": "markdown",
   "metadata": {},
   "source": [
    "#### 1 列表"
   ]
  },
  {
   "cell_type": "code",
   "execution_count": 6,
   "metadata": {},
   "outputs": [
    {
     "name": "stdout",
     "output_type": "stream",
     "text": [
      "<class 'list'>\n",
      "[0, 1, 2, 3, 4, 5, 6, 7, 8, 9]\n",
      "[0, 1, 3, 4, 5, 6, 7, 8, 9]\n"
     ]
    }
   ],
   "source": [
    "lst = []\n",
    "print(type(lst))\n",
    "\n",
    "# 添加元素\n",
    "for i in range(10):\n",
    "    lst.append(i)\n",
    "print(lst)\n",
    "\n",
    "# 删除元素\n",
    "lst.remove(2)\n",
    "print(lst)"
   ]
  },
  {
   "cell_type": "markdown",
   "metadata": {},
   "source": [
    "#### 2 集合"
   ]
  },
  {
   "cell_type": "code",
   "execution_count": null,
   "metadata": {
    "collapsed": true
   },
   "outputs": [],
   "source": [
    "d = {1, 2, 3}\n",
    "print(type(d), d)\n",
    "\n",
    "s = set()\n",
    "print(type(s), s)\n",
    "\n",
    "# 列表与集合的转换\n",
    "lst = []\n",
    "for i in range(10):\n",
    "    lst.append(i)\n",
    "lst.append(1)\n",
    "print(\"list:\", lst)\n",
    "\n",
    "s = set(lst)\n",
    "print(\"set:\", s)\n",
    "\n",
    "# 集合操作，判断某个元素是否在集合中\n",
    "if 9 in s:\n",
    "    print(\"true\")\n",
    "else:\n",
    "    print(\"false\")"
   ]
  },
  {
   "cell_type": "markdown",
   "metadata": {},
   "source": [
    "#### 3 字典"
   ]
  },
  {
   "cell_type": "code",
   "execution_count": 17,
   "metadata": {},
   "outputs": [
    {
     "name": "stdout",
     "output_type": "stream",
     "text": [
      "<class 'dict'> {}\n",
      "{'a': 1, 'b': 2}\n",
      "a : 1\n",
      "b : 2\n",
      "false\n"
     ]
    }
   ],
   "source": [
    "d = {}\n",
    "print(type(d), d)\n",
    "\n",
    "d['a'] = 1\n",
    "d['b'] = 2\n",
    "print(d)\n",
    "\n",
    "# 遍历字典\n",
    "for key, val in d.items():\n",
    "    print(key, \":\", val)\n",
    "\n",
    "# 判断关键字是否在字典中\n",
    "if 'c' in d:\n",
    "    print(\"true\")\n",
    "else:\n",
    "    print(\"false\")"
   ]
  },
  {
   "cell_type": "markdown",
   "metadata": {},
   "source": [
    "#### 4 元组"
   ]
  },
  {
   "cell_type": "code",
   "execution_count": 16,
   "metadata": {},
   "outputs": [
    {
     "name": "stdout",
     "output_type": "stream",
     "text": [
      "<class 'tuple'> (1, 2, 3)\n"
     ]
    },
    {
     "ename": "AttributeError",
     "evalue": "'tuple' object has no attribute 'append'",
     "output_type": "error",
     "traceback": [
      "\u001b[0;31m---------------------------------------------------------------------------\u001b[0m",
      "\u001b[0;31mAttributeError\u001b[0m                            Traceback (most recent call last)",
      "\u001b[0;32m<ipython-input-16-ca2b517fed5a>\u001b[0m in \u001b[0;36m<module>\u001b[0;34m\u001b[0m\n\u001b[1;32m      3\u001b[0m \u001b[0;34m\u001b[0m\u001b[0m\n\u001b[1;32m      4\u001b[0m \u001b[0;31m# 元组不能动态添加，元组一旦创建不能修改\u001b[0m\u001b[0;34m\u001b[0m\u001b[0;34m\u001b[0m\u001b[0;34m\u001b[0m\u001b[0m\n\u001b[0;32m----> 5\u001b[0;31m \u001b[0mt\u001b[0m\u001b[0;34m.\u001b[0m\u001b[0mappend\u001b[0m\u001b[0;34m(\u001b[0m\u001b[0;36m4\u001b[0m\u001b[0;34m)\u001b[0m\u001b[0;34m\u001b[0m\u001b[0;34m\u001b[0m\u001b[0m\n\u001b[0m",
      "\u001b[0;31mAttributeError\u001b[0m: 'tuple' object has no attribute 'append'"
     ]
    }
   ],
   "source": [
    "t = (1, 2, 3)\n",
    "print(type(t), t)\n",
    "\n",
    "# 元组不能动态添加，元组一旦创建不能修改\n",
    "t.append(4)"
   ]
  },
  {
   "cell_type": "markdown",
   "metadata": {
    "collapsed": true
   },
   "source": [
    "### 时间统计"
   ]
  },
  {
   "cell_type": "code",
   "execution_count": 14,
   "metadata": {},
   "outputs": [
    {
     "name": "stderr",
     "output_type": "stream",
     "text": [
      "/Users/fengjie/anaconda3/lib/python3.7/site-packages/ipykernel_launcher.py:3: DeprecationWarning: time.clock has been deprecated in Python 3.3 and will be removed from Python 3.8: use time.perf_counter or time.process_time instead\n",
      "  This is separate from the ipykernel package so we can avoid doing imports until\n"
     ]
    },
    {
     "name": "stdout",
     "output_type": "stream",
     "text": [
      "0.0019459999999966726\n"
     ]
    },
    {
     "name": "stderr",
     "output_type": "stream",
     "text": [
      "/Users/fengjie/anaconda3/lib/python3.7/site-packages/ipykernel_launcher.py:6: DeprecationWarning: time.clock has been deprecated in Python 3.3 and will be removed from Python 3.8: use time.perf_counter or time.process_time instead\n",
      "  \n"
     ]
    }
   ],
   "source": [
    "import time  # 导入时间库\n",
    "\n",
    "start = time.clock()\n",
    "for i in range(10):\n",
    "    time.sleep(0.1)  # sleep参数单位为秒\n",
    "end = time.clock()\n",
    "\n",
    "print(end - start)"
   ]
  },
  {
   "cell_type": "code",
   "execution_count": 3,
   "metadata": {},
   "outputs": [
    {
     "name": "stdout",
     "output_type": "stream",
     "text": [
      "3.6.1 |Anaconda 4.4.0 (64-bit)| (default, May 11 2017, 13:25:24) [MSC v.1900 64 bit (AMD64)]\n"
     ]
    }
   ],
   "source": [
    "import sys\n",
    "print(sys.version)"
   ]
  },
  {
   "cell_type": "code",
   "execution_count": 2,
   "metadata": {},
   "outputs": [
    {
     "ename": "SyntaxError",
     "evalue": "Missing parentheses in call to 'print'. Did you mean print(111)? (<ipython-input-2-99daca9b8a37>, line 1)",
     "output_type": "error",
     "traceback": [
      "\u001b[0;36m  File \u001b[0;32m\"<ipython-input-2-99daca9b8a37>\"\u001b[0;36m, line \u001b[0;32m1\u001b[0m\n\u001b[0;31m    print 111\u001b[0m\n\u001b[0m            ^\u001b[0m\n\u001b[0;31mSyntaxError\u001b[0m\u001b[0;31m:\u001b[0m Missing parentheses in call to 'print'. Did you mean print(111)?\n"
     ]
    }
   ],
   "source": [
    "print 111"
   ]
  },
  {
   "cell_type": "code",
   "execution_count": 3,
   "metadata": {},
   "outputs": [
    {
     "data": {
      "text/html": [
       "<button onclick=\"$('.input, .prompt, .output_stderr, .output_error').toggle();\">Toggle Code</button>"
      ]
     },
     "metadata": {},
     "output_type": "display_data"
    }
   ],
   "source": [
    "from IPython.display import display_html\n",
    "display_html(\"\"\"<button onclick=\"$('.input, .prompt, .output_stderr, .output_error').toggle();\">Toggle Code</button>\"\"\", raw=True)\n"
   ]
  },
  {
   "cell_type": "code",
   "execution_count": 5,
   "metadata": {},
   "outputs": [
    {
     "name": "stdout",
     "output_type": "stream",
     "text": [
      "Collecting jupyter_nbextensions_configurator\n",
      "\u001b[?25l  Downloading https://files.pythonhosted.org/packages/51/a3/d72d5f2dc10c5ccf5a6f4c79f636bf071a5ce462dedd07af2f70384db6cb/jupyter_nbextensions_configurator-0.4.1.tar.gz (479kB)\n",
      "\u001b[K    100% |████████████████████████████████| 481kB 14kB/s ta 0:00:01\n",
      "\u001b[?25hCollecting jupyter_contrib_core>=0.3.3 (from jupyter_nbextensions_configurator)\n",
      "  Downloading https://files.pythonhosted.org/packages/e6/8f/04a752a8b66a66e7092c035e5d87d2502ac7ec07f9fb6059059b6c0dc272/jupyter_contrib_core-0.3.3-py2.py3-none-any.whl\n",
      "Requirement already satisfied: jupyter_core in /Users/fengjie/anaconda3/lib/python3.7/site-packages (from jupyter_nbextensions_configurator) (4.4.0)\n",
      "Requirement already satisfied: notebook>=4.0 in /Users/fengjie/anaconda3/lib/python3.7/site-packages (from jupyter_nbextensions_configurator) (5.7.4)\n",
      "Requirement already satisfied: pyyaml in /Users/fengjie/anaconda3/lib/python3.7/site-packages (from jupyter_nbextensions_configurator) (3.13)\n",
      "Requirement already satisfied: tornado in /Users/fengjie/anaconda3/lib/python3.7/site-packages (from jupyter_nbextensions_configurator) (5.1.1)\n",
      "Requirement already satisfied: traitlets in /Users/fengjie/anaconda3/lib/python3.7/site-packages (from jupyter_nbextensions_configurator) (4.3.2)\n",
      "Requirement already satisfied: setuptools in /Users/fengjie/anaconda3/lib/python3.7/site-packages (from jupyter_contrib_core>=0.3.3->jupyter_nbextensions_configurator) (40.6.3)\n",
      "Requirement already satisfied: ipython-genutils in /Users/fengjie/anaconda3/lib/python3.7/site-packages (from notebook>=4.0->jupyter_nbextensions_configurator) (0.2.0)\n",
      "Requirement already satisfied: jinja2 in /Users/fengjie/anaconda3/lib/python3.7/site-packages (from notebook>=4.0->jupyter_nbextensions_configurator) (2.10)\n",
      "Requirement already satisfied: jupyter-client>=5.2.0 in /Users/fengjie/anaconda3/lib/python3.7/site-packages (from notebook>=4.0->jupyter_nbextensions_configurator) (5.2.4)\n",
      "Requirement already satisfied: prometheus-client in /Users/fengjie/anaconda3/lib/python3.7/site-packages (from notebook>=4.0->jupyter_nbextensions_configurator) (0.5.0)\n",
      "Requirement already satisfied: nbformat in /Users/fengjie/anaconda3/lib/python3.7/site-packages (from notebook>=4.0->jupyter_nbextensions_configurator) (4.4.0)\n",
      "Requirement already satisfied: ipykernel in /Users/fengjie/anaconda3/lib/python3.7/site-packages (from notebook>=4.0->jupyter_nbextensions_configurator) (5.1.0)\n",
      "Requirement already satisfied: Send2Trash in /Users/fengjie/anaconda3/lib/python3.7/site-packages (from notebook>=4.0->jupyter_nbextensions_configurator) (1.5.0)\n",
      "Requirement already satisfied: terminado>=0.8.1 in /Users/fengjie/anaconda3/lib/python3.7/site-packages (from notebook>=4.0->jupyter_nbextensions_configurator) (0.8.1)\n",
      "Requirement already satisfied: nbconvert in /Users/fengjie/anaconda3/lib/python3.7/site-packages (from notebook>=4.0->jupyter_nbextensions_configurator) (5.4.0)\n",
      "Requirement already satisfied: pyzmq>=17 in /Users/fengjie/anaconda3/lib/python3.7/site-packages (from notebook>=4.0->jupyter_nbextensions_configurator) (17.1.2)\n",
      "Requirement already satisfied: six in /Users/fengjie/anaconda3/lib/python3.7/site-packages (from traitlets->jupyter_nbextensions_configurator) (1.12.0)\n",
      "Requirement already satisfied: decorator in /Users/fengjie/anaconda3/lib/python3.7/site-packages (from traitlets->jupyter_nbextensions_configurator) (4.3.0)\n",
      "Requirement already satisfied: MarkupSafe>=0.23 in /Users/fengjie/anaconda3/lib/python3.7/site-packages (from jinja2->notebook>=4.0->jupyter_nbextensions_configurator) (1.1.0)\n",
      "Requirement already satisfied: python-dateutil>=2.1 in /Users/fengjie/anaconda3/lib/python3.7/site-packages (from jupyter-client>=5.2.0->notebook>=4.0->jupyter_nbextensions_configurator) (2.7.5)\n",
      "Requirement already satisfied: jsonschema!=2.5.0,>=2.4 in /Users/fengjie/anaconda3/lib/python3.7/site-packages (from nbformat->notebook>=4.0->jupyter_nbextensions_configurator) (2.6.0)\n",
      "Requirement already satisfied: ipython>=5.0.0 in /Users/fengjie/anaconda3/lib/python3.7/site-packages (from ipykernel->notebook>=4.0->jupyter_nbextensions_configurator) (7.2.0)\n",
      "Requirement already satisfied: mistune>=0.8.1 in /Users/fengjie/anaconda3/lib/python3.7/site-packages (from nbconvert->notebook>=4.0->jupyter_nbextensions_configurator) (0.8.4)\n",
      "Requirement already satisfied: pygments in /Users/fengjie/anaconda3/lib/python3.7/site-packages (from nbconvert->notebook>=4.0->jupyter_nbextensions_configurator) (2.3.1)\n",
      "Requirement already satisfied: entrypoints>=0.2.2 in /Users/fengjie/anaconda3/lib/python3.7/site-packages (from nbconvert->notebook>=4.0->jupyter_nbextensions_configurator) (0.2.3)\n",
      "Requirement already satisfied: bleach in /Users/fengjie/anaconda3/lib/python3.7/site-packages (from nbconvert->notebook>=4.0->jupyter_nbextensions_configurator) (3.0.2)\n",
      "Requirement already satisfied: pandocfilters>=1.4.1 in /Users/fengjie/anaconda3/lib/python3.7/site-packages (from nbconvert->notebook>=4.0->jupyter_nbextensions_configurator) (1.4.2)\n",
      "Requirement already satisfied: testpath in /Users/fengjie/anaconda3/lib/python3.7/site-packages (from nbconvert->notebook>=4.0->jupyter_nbextensions_configurator) (0.4.2)\n",
      "Requirement already satisfied: defusedxml in /Users/fengjie/anaconda3/lib/python3.7/site-packages (from nbconvert->notebook>=4.0->jupyter_nbextensions_configurator) (0.5.0)\n",
      "Requirement already satisfied: prompt-toolkit<2.1.0,>=2.0.0 in /Users/fengjie/anaconda3/lib/python3.7/site-packages (from ipython>=5.0.0->ipykernel->notebook>=4.0->jupyter_nbextensions_configurator) (2.0.7)\n",
      "Requirement already satisfied: backcall in /Users/fengjie/anaconda3/lib/python3.7/site-packages (from ipython>=5.0.0->ipykernel->notebook>=4.0->jupyter_nbextensions_configurator) (0.1.0)\n",
      "Requirement already satisfied: appnope; sys_platform == \"darwin\" in /Users/fengjie/anaconda3/lib/python3.7/site-packages (from ipython>=5.0.0->ipykernel->notebook>=4.0->jupyter_nbextensions_configurator) (0.1.0)\n",
      "Requirement already satisfied: jedi>=0.10 in /Users/fengjie/anaconda3/lib/python3.7/site-packages (from ipython>=5.0.0->ipykernel->notebook>=4.0->jupyter_nbextensions_configurator) (0.13.2)\n",
      "Requirement already satisfied: pickleshare in /Users/fengjie/anaconda3/lib/python3.7/site-packages (from ipython>=5.0.0->ipykernel->notebook>=4.0->jupyter_nbextensions_configurator) (0.7.5)\n",
      "Requirement already satisfied: pexpect; sys_platform != \"win32\" in /Users/fengjie/anaconda3/lib/python3.7/site-packages (from ipython>=5.0.0->ipykernel->notebook>=4.0->jupyter_nbextensions_configurator) (4.6.0)\n",
      "Requirement already satisfied: webencodings in /Users/fengjie/anaconda3/lib/python3.7/site-packages (from bleach->nbconvert->notebook>=4.0->jupyter_nbextensions_configurator) (0.5.1)\n",
      "Requirement already satisfied: wcwidth in /Users/fengjie/anaconda3/lib/python3.7/site-packages (from prompt-toolkit<2.1.0,>=2.0.0->ipython>=5.0.0->ipykernel->notebook>=4.0->jupyter_nbextensions_configurator) (0.1.7)\n",
      "Requirement already satisfied: parso>=0.3.0 in /Users/fengjie/anaconda3/lib/python3.7/site-packages (from jedi>=0.10->ipython>=5.0.0->ipykernel->notebook>=4.0->jupyter_nbextensions_configurator) (0.3.1)\n",
      "Requirement already satisfied: ptyprocess>=0.5 in /Users/fengjie/anaconda3/lib/python3.7/site-packages (from pexpect; sys_platform != \"win32\"->ipython>=5.0.0->ipykernel->notebook>=4.0->jupyter_nbextensions_configurator) (0.6.0)\n",
      "Building wheels for collected packages: jupyter-nbextensions-configurator\n",
      "  Running setup.py bdist_wheel for jupyter-nbextensions-configurator ... \u001b[?25ldone\n",
      "\u001b[?25h  Stored in directory: /Users/fengjie/Library/Caches/pip/wheels/15/df/fe/2a74fe34709e7fdc5ae153a768675d9fda93cc7d5133ed1fb0\n",
      "Successfully built jupyter-nbextensions-configurator\n",
      "Installing collected packages: jupyter-contrib-core, jupyter-nbextensions-configurator\n",
      "Successfully installed jupyter-contrib-core-0.3.3 jupyter-nbextensions-configurator-0.4.1\n"
     ]
    }
   ],
   "source": [
    "!pip install jupyter_nbextensions_configurator"
   ]
  },
  {
   "cell_type": "code",
   "execution_count": 10,
   "metadata": {
    "scrolled": true
   },
   "outputs": [
    {
     "name": "stdout",
     "output_type": "stream",
     "text": [
      "Collecting https://github.com/ipython-contrib/jupyter_contrib_nbextensions/tarball/master\n",
      "  Downloading https://github.com/ipython-contrib/jupyter_contrib_nbextensions/tarball/master\n",
      "\u001b[K     - 24.8MB 19kB/ss\n",
      "Requirement already satisfied: ipython_genutils in /Users/fengjie/anaconda3/lib/python3.7/site-packages (from jupyter-contrib-nbextensions==0.5.1) (0.2.0)\n",
      "Requirement already satisfied: jupyter_contrib_core>=0.3.3 in /Users/fengjie/anaconda3/lib/python3.7/site-packages (from jupyter-contrib-nbextensions==0.5.1) (0.3.3)\n",
      "Requirement already satisfied: jupyter_core in /Users/fengjie/anaconda3/lib/python3.7/site-packages (from jupyter-contrib-nbextensions==0.5.1) (4.4.0)\n",
      "Collecting jupyter_highlight_selected_word>=0.1.1 (from jupyter-contrib-nbextensions==0.5.1)\n",
      "  Downloading https://files.pythonhosted.org/packages/50/d7/19ab7cfd60bf268d2abbacc52d4295a40f52d74dfc0d938e4761ee5e598b/jupyter_highlight_selected_word-0.2.0-py2.py3-none-any.whl\n",
      "Collecting jupyter_latex_envs>=1.3.8 (from jupyter-contrib-nbextensions==0.5.1)\n",
      "\u001b[?25l  Downloading https://files.pythonhosted.org/packages/0e/15/55805de080d5542f76920364635e96e64d3b37f678befdfe3b16aa154205/jupyter_latex_envs-1.4.6.tar.gz (861kB)\n",
      "\u001b[K    100% |████████████████████████████████| 870kB 12kB/s ta 0:00:01\n",
      "\u001b[?25hRequirement already satisfied: jupyter_nbextensions_configurator>=0.4.0 in /Users/fengjie/anaconda3/lib/python3.7/site-packages (from jupyter-contrib-nbextensions==0.5.1) (0.4.1)\n",
      "Requirement already satisfied: nbconvert>=4.2 in /Users/fengjie/anaconda3/lib/python3.7/site-packages (from jupyter-contrib-nbextensions==0.5.1) (5.4.0)\n",
      "Requirement already satisfied: notebook>=4.0 in /Users/fengjie/anaconda3/lib/python3.7/site-packages (from jupyter-contrib-nbextensions==0.5.1) (5.7.4)\n",
      "Requirement already satisfied: pyyaml in /Users/fengjie/anaconda3/lib/python3.7/site-packages (from jupyter-contrib-nbextensions==0.5.1) (3.13)\n",
      "Requirement already satisfied: tornado in /Users/fengjie/anaconda3/lib/python3.7/site-packages (from jupyter-contrib-nbextensions==0.5.1) (5.1.1)\n",
      "Requirement already satisfied: traitlets>=4.1 in /Users/fengjie/anaconda3/lib/python3.7/site-packages (from jupyter-contrib-nbextensions==0.5.1) (4.3.2)\n",
      "Requirement already satisfied: lxml in /Users/fengjie/anaconda3/lib/python3.7/site-packages (from jupyter-contrib-nbextensions==0.5.1) (4.2.5)\n",
      "Requirement already satisfied: setuptools in /Users/fengjie/anaconda3/lib/python3.7/site-packages (from jupyter_contrib_core>=0.3.3->jupyter-contrib-nbextensions==0.5.1) (40.6.3)\n",
      "Requirement already satisfied: ipython in /Users/fengjie/anaconda3/lib/python3.7/site-packages (from jupyter_latex_envs>=1.3.8->jupyter-contrib-nbextensions==0.5.1) (7.2.0)\n",
      "Requirement already satisfied: mistune>=0.8.1 in /Users/fengjie/anaconda3/lib/python3.7/site-packages (from nbconvert>=4.2->jupyter-contrib-nbextensions==0.5.1) (0.8.4)\n",
      "Requirement already satisfied: jinja2 in /Users/fengjie/anaconda3/lib/python3.7/site-packages (from nbconvert>=4.2->jupyter-contrib-nbextensions==0.5.1) (2.10)\n",
      "Requirement already satisfied: pygments in /Users/fengjie/anaconda3/lib/python3.7/site-packages (from nbconvert>=4.2->jupyter-contrib-nbextensions==0.5.1) (2.3.1)\n",
      "Requirement already satisfied: nbformat>=4.4 in /Users/fengjie/anaconda3/lib/python3.7/site-packages (from nbconvert>=4.2->jupyter-contrib-nbextensions==0.5.1) (4.4.0)\n",
      "Requirement already satisfied: entrypoints>=0.2.2 in /Users/fengjie/anaconda3/lib/python3.7/site-packages (from nbconvert>=4.2->jupyter-contrib-nbextensions==0.5.1) (0.2.3)\n",
      "Requirement already satisfied: bleach in /Users/fengjie/anaconda3/lib/python3.7/site-packages (from nbconvert>=4.2->jupyter-contrib-nbextensions==0.5.1) (3.0.2)\n",
      "Requirement already satisfied: pandocfilters>=1.4.1 in /Users/fengjie/anaconda3/lib/python3.7/site-packages (from nbconvert>=4.2->jupyter-contrib-nbextensions==0.5.1) (1.4.2)\n",
      "Requirement already satisfied: testpath in /Users/fengjie/anaconda3/lib/python3.7/site-packages (from nbconvert>=4.2->jupyter-contrib-nbextensions==0.5.1) (0.4.2)\n",
      "Requirement already satisfied: defusedxml in /Users/fengjie/anaconda3/lib/python3.7/site-packages (from nbconvert>=4.2->jupyter-contrib-nbextensions==0.5.1) (0.5.0)\n",
      "Requirement already satisfied: ipykernel in /Users/fengjie/anaconda3/lib/python3.7/site-packages (from notebook>=4.0->jupyter-contrib-nbextensions==0.5.1) (5.1.0)\n",
      "Requirement already satisfied: pyzmq>=17 in /Users/fengjie/anaconda3/lib/python3.7/site-packages (from notebook>=4.0->jupyter-contrib-nbextensions==0.5.1) (17.1.2)\n",
      "Requirement already satisfied: terminado>=0.8.1 in /Users/fengjie/anaconda3/lib/python3.7/site-packages (from notebook>=4.0->jupyter-contrib-nbextensions==0.5.1) (0.8.1)\n",
      "Requirement already satisfied: prometheus-client in /Users/fengjie/anaconda3/lib/python3.7/site-packages (from notebook>=4.0->jupyter-contrib-nbextensions==0.5.1) (0.5.0)\n",
      "Requirement already satisfied: jupyter-client>=5.2.0 in /Users/fengjie/anaconda3/lib/python3.7/site-packages (from notebook>=4.0->jupyter-contrib-nbextensions==0.5.1) (5.2.4)\n",
      "Requirement already satisfied: Send2Trash in /Users/fengjie/anaconda3/lib/python3.7/site-packages (from notebook>=4.0->jupyter-contrib-nbextensions==0.5.1) (1.5.0)\n",
      "Requirement already satisfied: six in /Users/fengjie/anaconda3/lib/python3.7/site-packages (from traitlets>=4.1->jupyter-contrib-nbextensions==0.5.1) (1.12.0)\n",
      "Requirement already satisfied: decorator in /Users/fengjie/anaconda3/lib/python3.7/site-packages (from traitlets>=4.1->jupyter-contrib-nbextensions==0.5.1) (4.3.0)\n",
      "Requirement already satisfied: prompt-toolkit<2.1.0,>=2.0.0 in /Users/fengjie/anaconda3/lib/python3.7/site-packages (from ipython->jupyter_latex_envs>=1.3.8->jupyter-contrib-nbextensions==0.5.1) (2.0.7)\n",
      "Requirement already satisfied: jedi>=0.10 in /Users/fengjie/anaconda3/lib/python3.7/site-packages (from ipython->jupyter_latex_envs>=1.3.8->jupyter-contrib-nbextensions==0.5.1) (0.13.2)\n",
      "Requirement already satisfied: pexpect; sys_platform != \"win32\" in /Users/fengjie/anaconda3/lib/python3.7/site-packages (from ipython->jupyter_latex_envs>=1.3.8->jupyter-contrib-nbextensions==0.5.1) (4.6.0)\n",
      "Requirement already satisfied: appnope; sys_platform == \"darwin\" in /Users/fengjie/anaconda3/lib/python3.7/site-packages (from ipython->jupyter_latex_envs>=1.3.8->jupyter-contrib-nbextensions==0.5.1) (0.1.0)\n",
      "Requirement already satisfied: pickleshare in /Users/fengjie/anaconda3/lib/python3.7/site-packages (from ipython->jupyter_latex_envs>=1.3.8->jupyter-contrib-nbextensions==0.5.1) (0.7.5)\n",
      "Requirement already satisfied: backcall in /Users/fengjie/anaconda3/lib/python3.7/site-packages (from ipython->jupyter_latex_envs>=1.3.8->jupyter-contrib-nbextensions==0.5.1) (0.1.0)\n",
      "Requirement already satisfied: MarkupSafe>=0.23 in /Users/fengjie/anaconda3/lib/python3.7/site-packages (from jinja2->nbconvert>=4.2->jupyter-contrib-nbextensions==0.5.1) (1.1.0)\n",
      "Requirement already satisfied: jsonschema!=2.5.0,>=2.4 in /Users/fengjie/anaconda3/lib/python3.7/site-packages (from nbformat>=4.4->nbconvert>=4.2->jupyter-contrib-nbextensions==0.5.1) (2.6.0)\n",
      "Requirement already satisfied: webencodings in /Users/fengjie/anaconda3/lib/python3.7/site-packages (from bleach->nbconvert>=4.2->jupyter-contrib-nbextensions==0.5.1) (0.5.1)\n",
      "Requirement already satisfied: python-dateutil>=2.1 in /Users/fengjie/anaconda3/lib/python3.7/site-packages (from jupyter-client>=5.2.0->notebook>=4.0->jupyter-contrib-nbextensions==0.5.1) (2.7.5)\n",
      "Requirement already satisfied: wcwidth in /Users/fengjie/anaconda3/lib/python3.7/site-packages (from prompt-toolkit<2.1.0,>=2.0.0->ipython->jupyter_latex_envs>=1.3.8->jupyter-contrib-nbextensions==0.5.1) (0.1.7)\n",
      "Requirement already satisfied: parso>=0.3.0 in /Users/fengjie/anaconda3/lib/python3.7/site-packages (from jedi>=0.10->ipython->jupyter_latex_envs>=1.3.8->jupyter-contrib-nbextensions==0.5.1) (0.3.1)\n",
      "Requirement already satisfied: ptyprocess>=0.5 in /Users/fengjie/anaconda3/lib/python3.7/site-packages (from pexpect; sys_platform != \"win32\"->ipython->jupyter_latex_envs>=1.3.8->jupyter-contrib-nbextensions==0.5.1) (0.6.0)\n",
      "Building wheels for collected packages: jupyter-contrib-nbextensions, jupyter-latex-envs\n",
      "  Running setup.py bdist_wheel for jupyter-contrib-nbextensions ... \u001b[?25ldone\n",
      "\u001b[?25h  Stored in directory: /private/var/folders/4q/gq66l7zj5d92l2fxgx_msk2r0000gn/T/pip-ephem-wheel-cache-g1km7192/wheels/22/4a/9f/df59e985684a10ea0e025300581870b5b3a300ee3525f0eef5\n",
      "  Running setup.py bdist_wheel for jupyter-latex-envs ... \u001b[?25ldone\n",
      "\u001b[?25h  Stored in directory: /Users/fengjie/Library/Caches/pip/wheels/0d/71/2a/164491997299b9f2479a251e254323fe35d946779e18f27956\n",
      "Successfully built jupyter-contrib-nbextensions jupyter-latex-envs\n",
      "Installing collected packages: jupyter-highlight-selected-word, jupyter-latex-envs, jupyter-contrib-nbextensions\n",
      "Successfully installed jupyter-contrib-nbextensions-0.5.1 jupyter-highlight-selected-word-0.2.0 jupyter-latex-envs-1.4.6\n"
     ]
    }
   ],
   "source": [
    "!pip install https://github.com/ipython-contrib/jupyter_contrib_nbextensions/tarball/master "
   ]
  },
  {
   "cell_type": "code",
   "execution_count": 11,
   "metadata": {},
   "outputs": [
    {
     "name": "stdout",
     "output_type": "stream",
     "text": [
      "jupyter contrib nbextension install takes no extra arguments\r\n"
     ]
    }
   ],
   "source": [
    "!jupyter contrib nbextension install –user "
   ]
  },
  {
   "cell_type": "code",
   "execution_count": 18,
   "metadata": {},
   "outputs": [
    {
     "name": "stdout",
     "output_type": "stream",
     "text": [
      "jupyter nbextensions_configurator enable takes no extra arguments\r\n"
     ]
    }
   ],
   "source": [
    "!jupyter nbextensions_configurator enable ExecuteTime --user "
   ]
  },
  {
   "cell_type": "code",
   "execution_count": 20,
   "metadata": {},
   "outputs": [
    {
     "name": "stdout",
     "output_type": "stream",
     "text": [
      "Enabling notebook extension execute_time/ExecuteTime...\r\n",
      "      - Validating: problems found:\r\n",
      "        - require? \u001b[31m X\u001b[0m execute_time/ExecuteTime\r\n"
     ]
    }
   ],
   "source": [
    "!jupyter nbextension enable execute_time/ExecuteTime"
   ]
  },
  {
   "cell_type": "code",
   "execution_count": 1,
   "metadata": {
    "ExecuteTime": {
     "end_time": "2019-04-29T08:42:32.860947Z",
     "start_time": "2019-04-29T08:42:32.848352Z"
    }
   },
   "outputs": [],
   "source": [
    "%config IPCompleter.greedy=True"
   ]
  }
 ],
 "metadata": {
  "kernelspec": {
   "display_name": "Python 3",
   "language": "python",
   "name": "python3"
  },
  "language_info": {
   "codemirror_mode": {
    "name": "ipython",
    "version": 3
   },
   "file_extension": ".py",
   "mimetype": "text/x-python",
   "name": "python",
   "nbconvert_exporter": "python",
   "pygments_lexer": "ipython3",
   "version": "3.7.1"
  },
  "toc": {
   "base_numbering": 1,
   "nav_menu": {},
   "number_sections": true,
   "sideBar": true,
   "skip_h1_title": false,
   "title_cell": "Table of Contents",
   "title_sidebar": "Contents",
   "toc_cell": false,
   "toc_position": {
    "height": "calc(100% - 180px)",
    "left": "10px",
    "top": "150px",
    "width": "172.188px"
   },
   "toc_section_display": true,
   "toc_window_display": false
  }
 },
 "nbformat": 4,
 "nbformat_minor": 2
}
