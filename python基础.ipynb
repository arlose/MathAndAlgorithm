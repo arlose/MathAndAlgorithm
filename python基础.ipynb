{
 "cells": [
  {
   "cell_type": "markdown",
   "metadata": {},
   "source": [
    "### 打印结果"
   ]
  },
  {
   "cell_type": "code",
   "execution_count": null,
   "metadata": {
    "collapsed": true
   },
   "outputs": [],
   "source": [
    "h = \"hello jupyter\"\n",
    "print(h)\n",
    "\n",
    "a = 3\n",
    "print(\"a is:\",a)"
   ]
  },
  {
   "cell_type": "markdown",
   "metadata": {},
   "source": [
    "### 算术运算"
   ]
  },
  {
   "cell_type": "code",
   "execution_count": null,
   "metadata": {
    "collapsed": true
   },
   "outputs": [],
   "source": [
    "# +-*/%\n",
    "a = 1+3\n",
    "print(\"1+3\",a)\n",
    "a = 1-3\n",
    "print(\"1-3\",a)\n",
    "a = 1*3\n",
    "print(\"1*3\",a)\n",
    "a = 1/3\n",
    "print(\"1/3\",a)\n",
    "a = 1%3\n",
    "print(\"1%3\",a)\n",
    "\n",
    "# 位运算\n",
    "b = 1&3 \n",
    "print(\"1&3\",b)\n",
    "b = 1|3\n",
    "print(\"1|3\",b)\n",
    "b = 1^3\n",
    "print(\"1^3\",b)\n",
    "b = ~3\n",
    "print(\"~3\",b)\n",
    "b = 1>>3\n",
    "print(\"1>>3\",b)\n",
    "b = 1<<3\n",
    "print(\"1<<3\",b)"
   ]
  },
  {
   "cell_type": "markdown",
   "metadata": {},
   "source": [
    "数据类型（TODO）"
   ]
  },
  {
   "cell_type": "markdown",
   "metadata": {},
   "source": [
    "### 条件判断"
   ]
  },
  {
   "cell_type": "code",
   "execution_count": null,
   "metadata": {
    "collapsed": true
   },
   "outputs": [],
   "source": [
    "# a = True\n",
    "a = False\n",
    "if a: # 后面有冒号\n",
    "    print(\"true\") # tab缩进\n",
    "else: # 后面有冒号\n",
    "    print(\"false\")"
   ]
  },
  {
   "cell_type": "markdown",
   "metadata": {},
   "source": [
    "### 循环"
   ]
  },
  {
   "cell_type": "code",
   "execution_count": null,
   "metadata": {
    "collapsed": true
   },
   "outputs": [],
   "source": [
    "for i in range(10): # 后面有冒号，默认从0开始，range参数为终点值，但不包含该值\n",
    "    print(i) # tab缩进\n",
    "\n",
    "print(\"\")\n",
    "\n",
    "for i in range(1,10,2): # range中分别为 start，end（不包含），step\n",
    "    print(i)"
   ]
  },
  {
   "cell_type": "markdown",
   "metadata": {},
   "source": [
    "函数（TODO）"
   ]
  },
  {
   "cell_type": "markdown",
   "metadata": {},
   "source": [
    "### 导入库"
   ]
  },
  {
   "cell_type": "code",
   "execution_count": null,
   "metadata": {
    "collapsed": true
   },
   "outputs": [],
   "source": [
    "import numpy as np # 大部分例子用的矩阵库\n",
    "\n",
    "a = np.ones((3,3)) # 3x3的矩阵，全为1\n",
    "print(a)\n",
    "\n",
    "print(a[0][1]) # 访问矩阵数据\n",
    "\n",
    "# 矩阵赋值\n",
    "for j in range(3):\n",
    "    for i in range(3):\n",
    "        a[j][i] = i+j\n",
    "print(a)"
   ]
  },
  {
   "cell_type": "markdown",
   "metadata": {},
   "source": [
    "### 数据结构"
   ]
  },
  {
   "cell_type": "markdown",
   "metadata": {},
   "source": [
    "#### 1 列表"
   ]
  },
  {
   "cell_type": "code",
   "execution_count": null,
   "metadata": {
    "collapsed": true
   },
   "outputs": [],
   "source": [
    "lst = []\n",
    "print(type(lst))\n",
    "\n",
    "# 添加元素\n",
    "for i in range(10):\n",
    "    lst.append(i)\n",
    "print(lst)\n",
    "\n",
    "# 删除元素\n",
    "lst.remove(2)\n",
    "print(lst)"
   ]
  },
  {
   "cell_type": "markdown",
   "metadata": {},
   "source": [
    "#### 2 集合"
   ]
  },
  {
   "cell_type": "code",
   "execution_count": null,
   "metadata": {
    "collapsed": true
   },
   "outputs": [],
   "source": [
    "d = {1,2,3}\n",
    "print(type(d), d)\n",
    "\n",
    "s = set()\n",
    "print(type(s), s)\n",
    "\n",
    "# 列表与集合的转换\n",
    "lst = []\n",
    "for i in range(10):\n",
    "    lst.append(i)\n",
    "lst.append(1)\n",
    "print(\"list:\",lst)\n",
    "\n",
    "s = set(lst)\n",
    "print(\"set:\",s)\n",
    "\n",
    "# 集合操作，判断某个元素是否在集合中\n",
    "if 9 in s:\n",
    "    print(\"true\")\n",
    "else:\n",
    "    print(\"false\")"
   ]
  },
  {
   "cell_type": "markdown",
   "metadata": {},
   "source": [
    "#### 3 字典"
   ]
  },
  {
   "cell_type": "code",
   "execution_count": null,
   "metadata": {
    "collapsed": true
   },
   "outputs": [],
   "source": [
    "d = {}\n",
    "print(type(d), d)\n",
    "\n",
    "d['a'] = 1\n",
    "d['b'] = 2\n",
    "print(d)\n",
    "\n",
    "# 遍历字典\n",
    "for key, val in d.items():\n",
    "    print(key,\":\", val)\n",
    "    \n",
    "# 判断关键字是否在字典中\n",
    "if 'c' in d:\n",
    "    print(\"true\")\n",
    "else:\n",
    "    print(\"false\")"
   ]
  },
  {
   "cell_type": "markdown",
   "metadata": {},
   "source": [
    "#### 4 元组"
   ]
  },
  {
   "cell_type": "code",
   "execution_count": null,
   "metadata": {
    "collapsed": true
   },
   "outputs": [],
   "source": [
    "t = (1,2,3)\n",
    "print(type(t), t)\n",
    "\n",
    "# 元组不能动态添加，元组一旦创建不能修改\n",
    "t.append(4)\n"
   ]
  },
  {
   "cell_type": "markdown",
   "metadata": {
    "collapsed": true
   },
   "source": [
    "### 时间统计"
   ]
  },
  {
   "cell_type": "code",
   "execution_count": null,
   "metadata": {
    "collapsed": true
   },
   "outputs": [],
   "source": [
    "import time # 导入时间库\n",
    "\n",
    "start = time.clock()\n",
    "for i in range(10):\n",
    "    time.sleep(0.1) # sleep参数单位为秒\n",
    "end = time.clock()\n",
    "\n",
    "print(end-start)"
   ]
  },
  {
   "cell_type": "code",
   "execution_count": null,
   "metadata": {
    "collapsed": true
   },
   "outputs": [],
   "source": []
  }
 ],
 "metadata": {
  "kernelspec": {
   "display_name": "Python 3",
   "language": "python",
   "name": "python3"
  },
  "language_info": {
   "codemirror_mode": {
    "name": "ipython",
    "version": 3
   },
   "file_extension": ".py",
   "mimetype": "text/x-python",
   "name": "python",
   "nbconvert_exporter": "python",
   "pygments_lexer": "ipython3",
   "version": "3.6.1"
  }
 },
 "nbformat": 4,
 "nbformat_minor": 2
}
