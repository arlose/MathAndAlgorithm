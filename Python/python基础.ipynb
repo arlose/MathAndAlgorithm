{
 "cells": [
  {
   "cell_type": "markdown",
   "metadata": {},
   "source": [
    "### 打印输出"
   ]
  },
  {
   "cell_type": "code",
   "execution_count": 1,
   "metadata": {},
   "outputs": [
    {
     "name": "stdout",
     "output_type": "stream",
     "text": [
      "hello jupyter\n",
      "a is: 3\n"
     ]
    }
   ],
   "source": [
    "h = \"hello jupyter\"\n",
    "print(h)\n",
    "\n",
    "a = 3\n",
    "print(\"a is:\", a)"
   ]
  },
  {
   "cell_type": "markdown",
   "metadata": {},
   "source": [
    "### 算术运算"
   ]
  },
  {
   "cell_type": "code",
   "execution_count": 7,
   "metadata": {},
   "outputs": [
    {
     "name": "stdout",
     "output_type": "stream",
     "text": [
      "1+3的结果是： 4\n",
      "1-3的结果是： -2\n",
      "1*3的结果是： 3\n",
      "1/3的结果是： 0.3333333333333333\n",
      "1%3的结果是： 1\n",
      "1&3的结果是： 1\n",
      "1|3的结果是： 3\n",
      "1^3的结果是： 2\n",
      "~3的结果是： -4\n",
      "1>>3的结果是： 0\n",
      "1<<3的结果是： 8\n"
     ]
    }
   ],
   "source": [
    "# +-*/%\n",
    "a = 1 + 3\n",
    "print(\"1+3的结果是：\", a)\n",
    "a = 1 - 3\n",
    "print(\"1-3的结果是：\", a)\n",
    "a = 1 * 3\n",
    "print(\"1*3的结果是：\", a)\n",
    "a = 1 / 3\n",
    "print(\"1/3的结果是：\", a)\n",
    "a = 1 % 3\n",
    "print(\"1%3的结果是：\", a)\n",
    "\n",
    "# 位运算\n",
    "b = 1 & 3\n",
    "print(\"1&3的结果是：\", b)\n",
    "b = 1 | 3\n",
    "print(\"1|3的结果是：\", b)\n",
    "b = 1 ^ 3\n",
    "print(\"1^3的结果是：\", b)\n",
    "b = ~3\n",
    "print(\"~3的结果是：\", b)\n",
    "b = 1 >> 3\n",
    "print(\"1>>3的结果是：\", b)\n",
    "b = 1 << 3\n",
    "print(\"1<<3的结果是：\", b)"
   ]
  },
  {
   "cell_type": "markdown",
   "metadata": {},
   "source": [
    "### 基本数据类型"
   ]
  },
  {
   "cell_type": "code",
   "execution_count": 12,
   "metadata": {},
   "outputs": [
    {
     "name": "stdout",
     "output_type": "stream",
     "text": [
      "<class 'int'>\n",
      "<class 'float'>\n",
      "<class 'str'>\n",
      "<class 'str'>\n",
      "<class 'bool'>\n"
     ]
    },
    {
     "data": {
      "text/plain": [
       "False"
      ]
     },
     "execution_count": 12,
     "metadata": {},
     "output_type": "execute_result"
    }
   ],
   "source": [
    "a = 1\n",
    "print(type(a))  # 自动类型判断 整型\n",
    "\n",
    "b = 1.0\n",
    "print(type(b))  # 自动类型判断 浮点型\n",
    "\n",
    "c = \"test\"\n",
    "print(type(c))  # str 字符串类型\n",
    "c = 'test'\n",
    "print(type(c))  # str 也可以用单引号\n",
    "\n",
    "d = True\n",
    "print(type(d))  # 自动类型判断 布尔型 True False\n",
    "\n",
    "# 判断是否属于某个类型\n",
    "isinstance(3.1, int)"
   ]
  },
  {
   "cell_type": "markdown",
   "metadata": {},
   "source": [
    "### 条件判断"
   ]
  },
  {
   "cell_type": "code",
   "execution_count": 13,
   "metadata": {},
   "outputs": [
    {
     "name": "stdout",
     "output_type": "stream",
     "text": [
      "false\n"
     ]
    }
   ],
   "source": [
    "# f = True\n",
    "f = False  # 布尔型\n",
    "if f:  # 后面有冒号\n",
    "    print(\"true\")  # tab缩进\n",
    "else:  # 后面有冒号\n",
    "    print(\"false\")"
   ]
  },
  {
   "cell_type": "markdown",
   "metadata": {},
   "source": [
    "### 循环"
   ]
  },
  {
   "cell_type": "code",
   "execution_count": 2,
   "metadata": {},
   "outputs": [
    {
     "name": "stdout",
     "output_type": "stream",
     "text": [
      "0 1 2 3 4 5 6 7 8 9 \n",
      "1 3 5 7 9 "
     ]
    }
   ],
   "source": [
    "for i in range(10): # 后面有冒号，默认从0开始，range参数为终点值，但不包含该值\n",
    "    print(i, end=\" \") # tab缩进\n",
    "\n",
    "print(\"\")\n",
    "\n",
    "for i in range(1,10,2): # range中分别为 start，end（不包含），step\n",
    "    print(i, end=\" \")"
   ]
  },
  {
   "cell_type": "markdown",
   "metadata": {},
   "source": [
    "### 函数"
   ]
  },
  {
   "cell_type": "code",
   "execution_count": 4,
   "metadata": {},
   "outputs": [
    {
     "name": "stdout",
     "output_type": "stream",
     "text": [
      "3\n"
     ]
    }
   ],
   "source": [
    "def func(a, b):  # 用def来定义函数，后面加冒号\n",
    "    c = a + b  # tab缩进\n",
    "    return c\n",
    "\n",
    "\n",
    "x = 1\n",
    "y = 2\n",
    "res = func(x, y)  # 函数调用\n",
    "\n",
    "print(res)"
   ]
  },
  {
   "cell_type": "markdown",
   "metadata": {},
   "source": [
    "### 导入库"
   ]
  },
  {
   "cell_type": "code",
   "execution_count": 5,
   "metadata": {},
   "outputs": [
    {
     "name": "stdout",
     "output_type": "stream",
     "text": [
      "[[ 1.  1.  1.]\n",
      " [ 1.  1.  1.]\n",
      " [ 1.  1.  1.]]\n",
      "1.0\n",
      "[[ 0.  1.  2.]\n",
      " [ 1.  2.  3.]\n",
      " [ 2.  3.  4.]]\n"
     ]
    }
   ],
   "source": [
    "import numpy as np  # 大部分例子用的矩阵库\n",
    "\n",
    "a = np.ones((3, 3))  # 3x3的矩阵，全为1\n",
    "print(a)\n",
    "\n",
    "print(a[0][1])  # 访问矩阵数据\n",
    "\n",
    "# 矩阵赋值\n",
    "for j in range(3):\n",
    "    for i in range(3):\n",
    "        a[j][i] = i + j\n",
    "print(a)"
   ]
  },
  {
   "cell_type": "markdown",
   "metadata": {},
   "source": [
    "### 数据结构"
   ]
  },
  {
   "cell_type": "markdown",
   "metadata": {},
   "source": [
    "#### 1 列表"
   ]
  },
  {
   "cell_type": "code",
   "execution_count": 6,
   "metadata": {},
   "outputs": [
    {
     "name": "stdout",
     "output_type": "stream",
     "text": [
      "<class 'list'>\n",
      "[0, 1, 2, 3, 4, 5, 6, 7, 8, 9]\n",
      "[0, 1, 3, 4, 5, 6, 7, 8, 9]\n"
     ]
    }
   ],
   "source": [
    "lst = []\n",
    "print(type(lst))\n",
    "\n",
    "# 添加元素\n",
    "for i in range(10):\n",
    "    lst.append(i)\n",
    "print(lst)\n",
    "\n",
    "# 删除元素\n",
    "lst.remove(2)\n",
    "print(lst)"
   ]
  },
  {
   "cell_type": "markdown",
   "metadata": {},
   "source": [
    "#### 2 集合"
   ]
  },
  {
   "cell_type": "code",
   "execution_count": null,
   "metadata": {
    "collapsed": true
   },
   "outputs": [],
   "source": [
    "d = {1, 2, 3}\n",
    "print(type(d), d)\n",
    "\n",
    "s = set()\n",
    "print(type(s), s)\n",
    "\n",
    "# 列表与集合的转换\n",
    "lst = []\n",
    "for i in range(10):\n",
    "    lst.append(i)\n",
    "lst.append(1)\n",
    "print(\"list:\", lst)\n",
    "\n",
    "s = set(lst)\n",
    "print(\"set:\", s)\n",
    "\n",
    "# 集合操作，判断某个元素是否在集合中\n",
    "if 9 in s:\n",
    "    print(\"true\")\n",
    "else:\n",
    "    print(\"false\")"
   ]
  },
  {
   "cell_type": "markdown",
   "metadata": {},
   "source": [
    "#### 3 字典"
   ]
  },
  {
   "cell_type": "code",
   "execution_count": 17,
   "metadata": {},
   "outputs": [
    {
     "name": "stdout",
     "output_type": "stream",
     "text": [
      "<class 'dict'> {}\n",
      "{'a': 1, 'b': 2}\n",
      "a : 1\n",
      "b : 2\n",
      "false\n"
     ]
    }
   ],
   "source": [
    "d = {}\n",
    "print(type(d), d)\n",
    "\n",
    "d['a'] = 1\n",
    "d['b'] = 2\n",
    "print(d)\n",
    "\n",
    "# 遍历字典\n",
    "for key, val in d.items():\n",
    "    print(key, \":\", val)\n",
    "\n",
    "# 判断关键字是否在字典中\n",
    "if 'c' in d:\n",
    "    print(\"true\")\n",
    "else:\n",
    "    print(\"false\")"
   ]
  },
  {
   "cell_type": "markdown",
   "metadata": {},
   "source": [
    "#### 4 元组"
   ]
  },
  {
   "cell_type": "code",
   "execution_count": 16,
   "metadata": {},
   "outputs": [
    {
     "name": "stdout",
     "output_type": "stream",
     "text": [
      "<class 'tuple'> (1, 2, 3)\n"
     ]
    },
    {
     "ename": "AttributeError",
     "evalue": "'tuple' object has no attribute 'append'",
     "output_type": "error",
     "traceback": [
      "\u001b[0;31m---------------------------------------------------------------------------\u001b[0m",
      "\u001b[0;31mAttributeError\u001b[0m                            Traceback (most recent call last)",
      "\u001b[0;32m<ipython-input-16-ca2b517fed5a>\u001b[0m in \u001b[0;36m<module>\u001b[0;34m\u001b[0m\n\u001b[1;32m      3\u001b[0m \u001b[0;34m\u001b[0m\u001b[0m\n\u001b[1;32m      4\u001b[0m \u001b[0;31m# 元组不能动态添加，元组一旦创建不能修改\u001b[0m\u001b[0;34m\u001b[0m\u001b[0;34m\u001b[0m\u001b[0;34m\u001b[0m\u001b[0m\n\u001b[0;32m----> 5\u001b[0;31m \u001b[0mt\u001b[0m\u001b[0;34m.\u001b[0m\u001b[0mappend\u001b[0m\u001b[0;34m(\u001b[0m\u001b[0;36m4\u001b[0m\u001b[0;34m)\u001b[0m\u001b[0;34m\u001b[0m\u001b[0;34m\u001b[0m\u001b[0m\n\u001b[0m",
      "\u001b[0;31mAttributeError\u001b[0m: 'tuple' object has no attribute 'append'"
     ]
    }
   ],
   "source": [
    "t = (1, 2, 3)\n",
    "print(type(t), t)\n",
    "\n",
    "# 元组不能动态添加，元组一旦创建不能修改\n",
    "t.append(4)"
   ]
  },
  {
   "cell_type": "markdown",
   "metadata": {
    "collapsed": true
   },
   "source": [
    "### 时间统计"
   ]
  },
  {
   "cell_type": "code",
   "execution_count": 14,
   "metadata": {},
   "outputs": [
    {
     "name": "stderr",
     "output_type": "stream",
     "text": [
      "/Users/fengjie/anaconda3/lib/python3.7/site-packages/ipykernel_launcher.py:3: DeprecationWarning: time.clock has been deprecated in Python 3.3 and will be removed from Python 3.8: use time.perf_counter or time.process_time instead\n",
      "  This is separate from the ipykernel package so we can avoid doing imports until\n"
     ]
    },
    {
     "name": "stdout",
     "output_type": "stream",
     "text": [
      "0.0019459999999966726\n"
     ]
    },
    {
     "name": "stderr",
     "output_type": "stream",
     "text": [
      "/Users/fengjie/anaconda3/lib/python3.7/site-packages/ipykernel_launcher.py:6: DeprecationWarning: time.clock has been deprecated in Python 3.3 and will be removed from Python 3.8: use time.perf_counter or time.process_time instead\n",
      "  \n"
     ]
    }
   ],
   "source": [
    "import time  # 导入时间库\n",
    "\n",
    "start = time.clock()\n",
    "for i in range(10):\n",
    "    time.sleep(0.1)  # sleep参数单位为秒\n",
    "end = time.clock()\n",
    "\n",
    "print(end - start)"
   ]
  },
  {
   "cell_type": "code",
   "execution_count": 1,
   "metadata": {
    "ExecuteTime": {
     "end_time": "2019-05-05T09:28:05.144541Z",
     "start_time": "2019-05-05T09:28:05.137439Z"
    }
   },
   "outputs": [
    {
     "name": "stdout",
     "output_type": "stream",
     "text": [
      "3.6.5 (default, May 22 2018, 16:47:04) \n",
      "[GCC 4.2.1 Compatible Apple LLVM 9.0.0 (clang-900.0.37)]\n"
     ]
    }
   ],
   "source": [
    "import sys\n",
    "print(sys.version)"
   ]
  },
  {
   "cell_type": "code",
   "execution_count": 2,
   "metadata": {},
   "outputs": [
    {
     "ename": "SyntaxError",
     "evalue": "Missing parentheses in call to 'print'. Did you mean print(111)? (<ipython-input-2-99daca9b8a37>, line 1)",
     "output_type": "error",
     "traceback": [
      "\u001b[0;36m  File \u001b[0;32m\"<ipython-input-2-99daca9b8a37>\"\u001b[0;36m, line \u001b[0;32m1\u001b[0m\n\u001b[0;31m    print 111\u001b[0m\n\u001b[0m            ^\u001b[0m\n\u001b[0;31mSyntaxError\u001b[0m\u001b[0;31m:\u001b[0m Missing parentheses in call to 'print'. Did you mean print(111)?\n"
     ]
    }
   ],
   "source": [
    "print 111"
   ]
  },
  {
   "cell_type": "markdown",
   "metadata": {},
   "source": [
    "## other\n",
    "Python字典的可视化探秘 https://github.com/eleweek/inside_python_dict"
   ]
  }
 ],
 "metadata": {
  "kernelspec": {
   "display_name": "Python 3",
   "language": "python",
   "name": "python3"
  },
  "language_info": {
   "codemirror_mode": {
    "name": "ipython",
    "version": 3
   },
   "file_extension": ".py",
   "mimetype": "text/x-python",
   "name": "python",
   "nbconvert_exporter": "python",
   "pygments_lexer": "ipython3",
   "version": "3.6.5"
  },
  "toc": {
   "base_numbering": 1,
   "nav_menu": {},
   "number_sections": true,
   "sideBar": true,
   "skip_h1_title": false,
   "title_cell": "Table of Contents",
   "title_sidebar": "Contents",
   "toc_cell": false,
   "toc_position": {
    "height": "calc(100% - 180px)",
    "left": "10px",
    "top": "150px",
    "width": "172.188px"
   },
   "toc_section_display": true,
   "toc_window_display": false
  }
 },
 "nbformat": 4,
 "nbformat_minor": 2
}
