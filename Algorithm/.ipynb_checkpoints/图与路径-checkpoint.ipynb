{
 "cells": [
  {
   "cell_type": "markdown",
   "metadata": {},
   "source": [
    "# 图与路径"
   ]
  },
  {
   "cell_type": "markdown",
   "metadata": {},
   "source": [
    "## 生成迷宫\n",
    "\n",
    "ref: https://github.com/tpof314/maze\n",
    "\n",
    "- 生成一张网格，把网格里面的所有边都存进一个列表edgeList里面.\n",
    "- 从(0, 0)开始，做DFS。每次DFS的时候，随机地选择四周一个没有走过的格子，凿墙过去，把道路打通。凿墙的时候，把edgeList列表中相对应的那堵墙删除掉。\n",
    "- 将剩下的没有凿开过的墙画出来，就是一个完整的迷宫了。"
   ]
  },
  {
   "cell_type": "code",
   "execution_count": 2,
   "metadata": {},
   "outputs": [
    {
     "data": {
      "image/png": "[encoded data removed]",
      "text/plain": [
       "<matplotlib.figure.Figure at 0x20d495e7978>"
      ]
     },
     "metadata": {},
     "output_type": "display_data"
    }
   ],
   "source": [
    "import sys\n",
    "import matplotlib\n",
    "import matplotlib.pyplot as plt\n",
    "from random import randint\n",
    "from IPython import display\n",
    "%matplotlib inline\n",
    "\n",
    "WIDTH  = 10\n",
    "HEIGHT = 10\n",
    "# sys.setrecursionlimit(WIDTH * HEIGHT)\n",
    "\n",
    "def initVisitedList():\n",
    "    visited = []\n",
    "    for y in range(HEIGHT):\n",
    "        line = []\n",
    "        for x in range(WIDTH):\n",
    "            line.append(False)\n",
    "        visited.append(line)\n",
    "    return visited\n",
    "\n",
    "def drawLine(x1, y1, x2, y2):\n",
    "    plt.plot([x1, x2], [y1, y2], color=\"black\")\n",
    "\n",
    "def removeLine(x1, y1, x2, y2):\n",
    "    plt.plot([x1, x2], [y1, y2], color=\"white\")\n",
    "\n",
    "def get_edges(x, y):\n",
    "    result = []\n",
    "    result.append((x, y, x, y+1))\n",
    "    result.append((x+1, y, x+1, y+1))\n",
    "    result.append((x, y, x+1, y))\n",
    "    result.append((x, y+1, x+1, y+1))\n",
    "\n",
    "    return result\n",
    "\n",
    "def drawCell(x, y):\n",
    "    edges = get_edges(x, y)\n",
    "    for item in edges:\n",
    "        drawLine(item[0], item[1], item[2], item[3])\n",
    "\n",
    "def getCommonEdge(cell1_x, cell1_y, cell2_x, cell2_y):\n",
    "    edges1 = get_edges(cell1_x, cell1_y)\n",
    "    edges2 = set(get_edges(cell2_x, cell2_y))\n",
    "    for edge in edges1:\n",
    "        if edge in edges2:\n",
    "            return edge\n",
    "    return None\n",
    "\n",
    "def initEdgeList():\n",
    "    edges = set()\n",
    "    for x in range(WIDTH):\n",
    "        for y in range(HEIGHT):\n",
    "            cellEdges = get_edges(x, y)\n",
    "            for edge in cellEdges:\n",
    "                edges.add(edge)\n",
    "    return edges\n",
    "\n",
    "def isValidPosition(x, y):\n",
    "    if x < 0 or x >= WIDTH:\n",
    "        return False\n",
    "    elif y < 0 or y >= HEIGHT:\n",
    "        return False\n",
    "    else:\n",
    "        return True\n",
    "\n",
    "def shuffle(dX, dY):\n",
    "    for t in range(4):\n",
    "        i = randint(0, 3)\n",
    "        j = randint(0, 3)\n",
    "        dX[i], dX[j] = dX[j], dX[i]\n",
    "        dY[i], dY[j] = dY[j], dY[i]\n",
    "\n",
    "def DFS(X, Y, edgeList, visited):\n",
    "    dX = [0,  0, -1, 1]\n",
    "    dY = [-1, 1, 0,  0]\n",
    "    shuffle(dX, dY)\n",
    "    for i in range(len(dX)):\n",
    "        nextX = X + dX[i]\n",
    "        nextY = Y + dY[i]\n",
    "        if isValidPosition(nextX, nextY):\n",
    "            if not visited[nextY][nextX]:\n",
    "                visited[nextY][nextX] = True\n",
    "                commonEdge = getCommonEdge(X, Y, nextX, nextY)\n",
    "                if commonEdge in edgeList:\n",
    "                    edgeList.remove(commonEdge)\n",
    "                DFS(nextX, nextY, edgeList, visited)\n",
    "\n",
    "plt.axis('equal')\n",
    "plt.title('Maze')\n",
    "edgeList = initEdgeList()\n",
    "visited  = initVisitedList()\n",
    "DFS(0, 0, edgeList, visited)\n",
    "edgeList.remove((0, 0, 0, 1))\n",
    "edgeList.remove((WIDTH, HEIGHT-1, WIDTH, HEIGHT))\n",
    "for edge in edgeList:\n",
    "    drawLine(edge[0], edge[1], edge[2], edge[3])\n",
    "    # display.clear_output(wait=True)\n",
    "    # plt.pause(0.01)\n",
    "plt.show()"
   ]
  },
  {
   "cell_type": "code",
   "execution_count": 3,
   "metadata": {},
   "outputs": [
    {
     "name": "stdout",
     "output_type": "stream",
     "text": [
      "{(7, 8, 7, 9), (6, 4, 7, 4), (6, 8, 6, 9), (8, 4, 9, 4), (2, 9, 2, 10), (5, 4, 5, 5), (3, 4, 4, 4), (7, 2, 7, 3), (9, 10, 10, 10), (1, 8, 1, 9), (1, 4, 2, 4), (4, 6, 5, 6), (9, 1, 10, 1), (2, 2, 3, 2), (5, 1, 6, 1), (6, 0, 6, 1), (8, 10, 9, 10), (2, 1, 2, 2), (9, 2, 10, 2), (0, 8, 0, 9), (9, 5, 10, 5), (10, 8, 10, 9), (5, 2, 6, 2), (0, 3, 1, 3), (5, 8, 6, 8), (10, 4, 10, 5), (3, 0, 3, 1), (6, 3, 6, 4), (3, 5, 4, 5), (0, 7, 1, 7), (5, 9, 6, 9), (0, 5, 0, 6), (8, 2, 9, 2), (10, 0, 10, 1), (3, 4, 3, 5), (0, 0, 0, 1), (3, 1, 3, 2), (4, 2, 5, 2), (5, 10, 6, 10), (1, 3, 2, 3), (3, 3, 4, 3), (0, 4, 0, 5), (7, 2, 8, 2), (8, 9, 9, 9), (10, 3, 10, 4), (0, 8, 1, 8), (1, 7, 2, 7), (4, 9, 4, 10), (3, 10, 4, 10), (2, 6, 2, 7), (3, 9, 3, 10), (4, 10, 5, 10), (5, 4, 6, 4), (8, 3, 8, 4), (2, 8, 3, 8), (8, 1, 9, 1), (2, 2, 2, 3), (1, 5, 1, 6), (4, 3, 4, 4), (4, 1, 5, 1), (5, 8, 5, 9), (7, 4, 8, 4), (8, 5, 9, 5), (6, 3, 7, 3), (2, 10, 3, 10), (1, 2, 1, 3), (2, 0, 3, 0), (4, 7, 5, 7), (4, 5, 4, 6), (6, 6, 6, 7), (9, 0, 10, 0), (7, 4, 7, 5), (4, 9, 5, 9), (8, 2, 8, 3), (9, 3, 9, 4), (5, 0, 6, 0), (1, 6, 1, 7), (0, 7, 0, 8), (1, 9, 2, 9), (4, 2, 4, 3), (5, 3, 5, 4), (3, 2, 3, 3), (10, 5, 10, 6), (4, 4, 4, 5), (8, 6, 8, 7), (9, 7, 9, 8), (0, 4, 1, 4), (1, 10, 2, 10), (5, 7, 6, 7), (7, 5, 8, 5), (3, 6, 3, 7), (7, 3, 7, 4), (1, 1, 2, 1), (8, 1, 8, 2), (7, 1, 8, 1), (4, 1, 4, 2), (0, 10, 1, 10), (1, 2, 2, 2), (2, 8, 2, 9), (5, 5, 5, 6), (1, 5, 2, 5), (3, 2, 4, 2), (4, 8, 5, 8), (10, 7, 10, 8), (2, 4, 2, 5), (6, 9, 7, 9), (9, 9, 9, 10), (3, 7, 3, 8), (7, 9, 8, 9), (9, 6, 10, 6), (9, 0, 9, 1), (0, 2, 1, 2), (2, 0, 2, 1), (5, 0, 5, 1), (5, 6, 5, 7), (9, 4, 9, 5), (6, 1, 7, 1), (9, 1, 9, 2), (0, 9, 1, 9), (2, 3, 2, 4), (5, 1, 5, 2), (4, 4, 5, 4), (8, 6, 9, 6), (9, 8, 10, 8), (3, 6, 4, 6), (3, 5, 3, 6), (6, 4, 6, 5), (7, 6, 7, 7), (0, 3, 0, 4), (0, 1, 1, 1), (5, 7, 5, 8), (5, 9, 5, 10), (5, 5, 6, 5), (6, 9, 6, 10), (0, 5, 1, 5), (8, 9, 8, 10), (8, 0, 9, 0), (3, 7, 4, 7), (4, 0, 5, 0), (1, 0, 2, 0), (2, 7, 3, 7), (3, 1, 4, 1), (0, 2, 0, 3), (1, 3, 1, 4), (6, 2, 7, 2), (7, 0, 8, 0), (6, 1, 6, 2), (10, 9, 10, 10), (2, 6, 3, 6), (2, 3, 3, 3), (2, 5, 2, 6), (9, 8, 9, 9), (0, 6, 0, 7), (1, 7, 1, 8), (9, 4, 10, 4), (3, 3, 3, 4), (3, 9, 4, 9), (7, 5, 7, 6), (7, 8, 8, 8), (10, 1, 10, 2), (8, 8, 8, 9), (0, 1, 0, 2), (6, 7, 7, 7), (8, 3, 9, 3), (7, 9, 7, 10), (4, 3, 5, 3), (6, 6, 7, 6), (2, 7, 2, 8), (4, 7, 4, 8), (6, 5, 6, 6), (4, 5, 5, 5), (7, 0, 7, 1), (8, 5, 8, 6), (7, 6, 8, 6), (1, 9, 1, 10), (8, 7, 9, 7), (8, 0, 8, 1), (1, 6, 2, 6), (1, 0, 1, 1), (4, 0, 4, 1), (9, 3, 10, 3), (7, 1, 7, 2), (5, 3, 6, 3), (6, 8, 7, 8), (8, 4, 8, 5), (6, 2, 6, 3), (8, 8, 9, 8), (1, 4, 1, 5), (9, 7, 10, 7), (1, 1, 1, 2), (2, 9, 3, 9), (4, 6, 4, 7), (6, 7, 6, 8), (0, 6, 1, 6), (1, 8, 2, 8), (10, 6, 10, 7), (4, 8, 4, 9), (6, 10, 7, 10), (2, 5, 3, 5), (7, 7, 8, 7), (3, 8, 3, 9), (6, 0, 7, 0), (9, 5, 9, 6), (10, 2, 10, 3), (3, 0, 4, 0), (2, 4, 3, 4), (7, 7, 7, 8), (2, 1, 3, 1), (7, 3, 8, 3), (9, 2, 9, 3), (9, 6, 9, 7), (7, 10, 8, 10), (0, 9, 0, 10), (0, 0, 1, 0), (5, 2, 5, 3), (3, 8, 4, 8), (5, 6, 6, 6), (6, 5, 7, 5), (8, 7, 8, 8), (9, 9, 10, 9)}\n"
     ]
    }
   ],
   "source": [
    "edgeList = initEdgeList()\n",
    "print(edgeList)"
   ]
  },
  {
   "cell_type": "code",
   "execution_count": null,
   "metadata": {
    "collapsed": true
   },
   "outputs": [],
   "source": []
  },
  {
   "cell_type": "markdown",
   "metadata": {},
   "source": [
    "## 1 走迷宫"
   ]
  },
  {
   "cell_type": "markdown",
   "metadata": {},
   "source": [
    "迷宫设计，使用二维数组（python中为二维列表）\n"
   ]
  },
  {
   "cell_type": "code",
   "execution_count": null,
   "metadata": {
    "collapsed": true
   },
   "outputs": [],
   "source": [
    "map = [[1,0,1,1,1,1,1,1,1,1,1,1],\n",
    "       [1,0,1,0,1,0,0,0,1,0,0,1],\n",
    "       [1,0,1,0,1,0,1,0,1,1,0,1],\n",
    "       [1,0,1,0,1,0,1,0,0,0,0,1],\n",
    "       [1,0,1,0,1,0,1,0,1,1,0,1],\n",
    "       [1,0,1,0,0,0,1,0,1,0,0,1],\n",
    "       [1,0,1,0,1,0,1,0,1,1,0,1],\n",
    "       [1,0,1,0,1,0,0,0,1,0,0,1],\n",
    "       [1,0,1,0,1,0,1,0,1,0,1,1],\n",
    "       [1,0,1,0,1,1,1,0,1,0,0,1],\n",
    "       [1,0,0,0,0,0,1,0,1,1,0,0],\n",
    "       [1,1,1,1,1,1,1,1,1,1,1,1]]\n",
    "\n",
    "print(map)"
   ]
  },
  {
   "cell_type": "code",
   "execution_count": null,
   "metadata": {
    "collapsed": true
   },
   "outputs": [],
   "source": []
  },
  {
   "cell_type": "markdown",
   "metadata": {},
   "source": [
    "### 1.1 沿墙走迷宫"
   ]
  },
  {
   "cell_type": "markdown",
   "metadata": {},
   "source": [
    "### 1.2 深度优先搜索"
   ]
  },
  {
   "cell_type": "markdown",
   "metadata": {},
   "source": [
    "### 1.3 广度优先搜索"
   ]
  },
  {
   "cell_type": "markdown",
   "metadata": {},
   "source": [
    "## 2 最短路径"
   ]
  },
  {
   "cell_type": "markdown",
   "metadata": {},
   "source": [
    "### 2.1 Dijkstra算法"
   ]
  },
  {
   "cell_type": "markdown",
   "metadata": {},
   "source": [
    "### 2.2 双向搜索（A*算法）"
   ]
  },
  {
   "cell_type": "code",
   "execution_count": null,
   "metadata": {
    "collapsed": true
   },
   "outputs": [],
   "source": []
  },
  {
   "cell_type": "code",
   "execution_count": null,
   "metadata": {
    "collapsed": true
   },
   "outputs": [],
   "source": []
  },
  {
   "cell_type": "code",
   "execution_count": null,
   "metadata": {
    "collapsed": true
   },
   "outputs": [],
   "source": []
  }
 ],
 "metadata": {
  "kernelspec": {
   "display_name": "Python 3",
   "language": "python",
   "name": "python3"
  },
  "language_info": {
   "codemirror_mode": {
    "name": "ipython",
    "version": 3
   },
   "file_extension": ".py",
   "mimetype": "text/x-python",
   "name": "python",
   "nbconvert_exporter": "python",
   "pygments_lexer": "ipython3",
   "version": "3.6.5"
  },
  "toc": {
   "base_numbering": 1,
   "nav_menu": {},
   "number_sections": true,
   "sideBar": true,
   "skip_h1_title": false,
   "title_cell": "Table of Contents",
   "title_sidebar": "Contents",
   "toc_cell": false,
   "toc_position": {},
   "toc_section_display": true,
   "toc_window_display": false
  }
 },
 "nbformat": 4,
 "nbformat_minor": 2
}
