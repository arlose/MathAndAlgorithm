{
 "cells": [
  {
   "cell_type": "markdown",
   "metadata": {
    "toc": true
   },
   "source": [
    "<h1>Table of Contents<span class=\"tocSkip\"></span></h1>\n",
    "<div class=\"toc\"><ul class=\"toc-item\"><li><span><a href=\"#一道Google面试题：如何分解棘手问题\" data-toc-modified-id=\"一道Google面试题：如何分解棘手问题-1\"><span class=\"toc-item-num\">1&nbsp;&nbsp;</span>一道Google面试题：如何分解棘手问题</a></span></li><li><span><a href=\"#Dijkstra最短距离算法的多对多变体\" data-toc-modified-id=\"Dijkstra最短距离算法的多对多变体-2\"><span class=\"toc-item-num\">2&nbsp;&nbsp;</span>Dijkstra最短距离算法的多对多变体</a></span></li><li><span><a href=\"#acm-challenge-workbook-《挑战程序设计竞赛》习题册攻略，含约-200-道题，可配合书籍或笔记，系统学习算法\" data-toc-modified-id=\"acm-challenge-workbook-《挑战程序设计竞赛》习题册攻略，含约-200-道题，可配合书籍或笔记，系统学习算法-3\"><span class=\"toc-item-num\">3&nbsp;&nbsp;</span>acm-challenge-workbook 《挑战程序设计竞赛》习题册攻略，含约 200 道题，可配合书籍或笔记，系统学习算法</a></span></li><li><span><a href=\"#3min利用Python实现9种经典排序算法可视化!\" data-toc-modified-id=\"3min利用Python实现9种经典排序算法可视化!-4\"><span class=\"toc-item-num\">4&nbsp;&nbsp;</span>3min利用Python实现9种经典排序算法可视化!</a></span></li></ul></div>"
   ]
  },
  {
   "cell_type": "markdown",
   "metadata": {},
   "source": [
    "## 一道Google面试题：如何分解棘手问题\n",
    "链接: https://pan.baidu.com/s/1AbibuzRrvDNqfq3ERdmr7Q 提取码: nr5f \n",
    "\n",
    "![google1.jpg](../Images/Google1.jpg)\n",
    "如何找到图中面积最大的纯色区域\n"
   ]
  },
  {
   "cell_type": "markdown",
   "metadata": {},
   "source": [
    "## Dijkstra最短距离算法的多对多变体\n",
    "https://github.com/facebookresearch/many-to-many-dijkstra"
   ]
  },
  {
   "cell_type": "markdown",
   "metadata": {},
   "source": [
    "## acm-challenge-workbook 《挑战程序设计竞赛》习题册攻略，含约 200 道题，可配合书籍或笔记，系统学习算法\n",
    "https://github.com/yogykwan/acm-challenge-workbook"
   ]
  },
  {
   "cell_type": "markdown",
   "metadata": {},
   "source": [
    "## 3min利用Python实现9种经典排序算法可视化!\n",
    "https://bigquant.com/community/t/topic/148054?utm_source=weibo&utm_medium=weibo_algorithm&utm_campaign=190309_L1"
   ]
  }
 ],
 "metadata": {
  "kernelspec": {
   "display_name": "Python 3",
   "language": "python",
   "name": "python3"
  },
  "language_info": {
   "codemirror_mode": {
    "name": "ipython",
    "version": 3
   },
   "file_extension": ".py",
   "mimetype": "text/x-python",
   "name": "python",
   "nbconvert_exporter": "python",
   "pygments_lexer": "ipython3",
   "version": "3.6.1"
  },
  "toc": {
   "base_numbering": 1,
   "nav_menu": {},
   "number_sections": true,
   "sideBar": true,
   "skip_h1_title": true,
   "title_cell": "Table of Contents",
   "title_sidebar": "Contents",
   "toc_cell": true,
   "toc_position": {},
   "toc_section_display": true,
   "toc_window_display": false
  }
 },
 "nbformat": 4,
 "nbformat_minor": 2
}
