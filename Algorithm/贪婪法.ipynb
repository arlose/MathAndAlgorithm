{
 "cells": [
  {
   "cell_type": "markdown",
   "metadata": {
    "toc": true
   },
   "source": [
    "<h1>Table of Contents<span class=\"tocSkip\"></span></h1>\n",
    "<div class=\"toc\"><ul class=\"toc-item\"><li><span><a href=\"#1-背包问题\" data-toc-modified-id=\"1-背包问题-1\"><span class=\"toc-item-num\">1&nbsp;&nbsp;</span>1 背包问题</a></span></li><li><span><a href=\"#2-教室调度\" data-toc-modified-id=\"2-教室调度-2\"><span class=\"toc-item-num\">2&nbsp;&nbsp;</span>2 教室调度</a></span></li><li><span><a href=\"#3-夜过吊桥\" data-toc-modified-id=\"3-夜过吊桥-3\"><span class=\"toc-item-num\">3&nbsp;&nbsp;</span>3 夜过吊桥</a></span></li><li><span><a href=\"#4-不可互攻的王\" data-toc-modified-id=\"4-不可互攻的王-4\"><span class=\"toc-item-num\">4&nbsp;&nbsp;</span>4 不可互攻的王</a></span></li><li><span><a href=\"#5-集合覆盖\" data-toc-modified-id=\"5-集合覆盖-5\"><span class=\"toc-item-num\">5&nbsp;&nbsp;</span>5 集合覆盖</a></span></li></ul></div>"
   ]
  },
  {
   "cell_type": "markdown",
   "metadata": {},
   "source": [
    "# 贪婪法"
   ]
  },
  {
   "cell_type": "markdown",
   "metadata": {},
   "source": [
    "## 1 背包问题"
   ]
  },
  {
   "cell_type": "markdown",
   "metadata": {},
   "source": [
    "## 2 教室调度"
   ]
  },
  {
   "cell_type": "markdown",
   "metadata": {},
   "source": [
    "## 3 夜过吊桥"
   ]
  },
  {
   "cell_type": "markdown",
   "metadata": {},
   "source": [
    "## 4 不可互攻的王"
   ]
  },
  {
   "cell_type": "markdown",
   "metadata": {},
   "source": [
    "## 5 集合覆盖"
   ]
  },
  {
   "cell_type": "code",
   "execution_count": null,
   "metadata": {
    "collapsed": true
   },
   "outputs": [],
   "source": []
  }
 ],
 "metadata": {
  "kernelspec": {
   "display_name": "Python 3",
   "language": "python",
   "name": "python3"
  },
  "language_info": {
   "codemirror_mode": {
    "name": "ipython",
    "version": 3
   },
   "file_extension": ".py",
   "mimetype": "text/x-python",
   "name": "python",
   "nbconvert_exporter": "python",
   "pygments_lexer": "ipython3",
   "version": "3.6.1"
  },
  "toc": {
   "base_numbering": 1,
   "nav_menu": {},
   "number_sections": true,
   "sideBar": true,
   "skip_h1_title": true,
   "title_cell": "Table of Contents",
   "title_sidebar": "Contents",
   "toc_cell": true,
   "toc_position": {},
   "toc_section_display": true,
   "toc_window_display": false
  }
 },
 "nbformat": 4,
 "nbformat_minor": 2
}
