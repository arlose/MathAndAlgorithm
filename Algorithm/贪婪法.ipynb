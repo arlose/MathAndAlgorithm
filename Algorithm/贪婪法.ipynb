{
 "cells": [
  {
   "cell_type": "markdown",
   "metadata": {
    "toc": true
   },
   "source": [
    "<h1>Table of Contents<span class=\"tocSkip\"></span></h1>\n",
    "<div class=\"toc\"><ul class=\"toc-item\"><li><span><a href=\"#股票买卖\" data-toc-modified-id=\"股票买卖-1\"><span class=\"toc-item-num\">1&nbsp;&nbsp;</span>股票买卖</a></span></li><li><span><a href=\"#背包问题\" data-toc-modified-id=\"背包问题-2\"><span class=\"toc-item-num\">2&nbsp;&nbsp;</span>背包问题</a></span></li><li><span><a href=\"#教室调度\" data-toc-modified-id=\"教室调度-3\"><span class=\"toc-item-num\">3&nbsp;&nbsp;</span>教室调度</a></span></li><li><span><a href=\"#夜过吊桥\" data-toc-modified-id=\"夜过吊桥-4\"><span class=\"toc-item-num\">4&nbsp;&nbsp;</span>夜过吊桥</a></span></li><li><span><a href=\"#不可互攻的王\" data-toc-modified-id=\"不可互攻的王-5\"><span class=\"toc-item-num\">5&nbsp;&nbsp;</span>不可互攻的王</a></span></li><li><span><a href=\"#集合覆盖\" data-toc-modified-id=\"集合覆盖-6\"><span class=\"toc-item-num\">6&nbsp;&nbsp;</span>集合覆盖</a></span></li></ul></div>"
   ]
  },
  {
   "cell_type": "markdown",
   "metadata": {},
   "source": [
    "# 贪婪法"
   ]
  },
  {
   "cell_type": "markdown",
   "metadata": {},
   "source": [
    "## 股票买卖\n",
    "- 已知：一段时间段股票价格\n",
    "- 限制条件：不能卖空（只能在持有股票时才能购买），可以买卖无数次，当天可以买卖同一只股票，没有交易手续费\n",
    "- 要求：如何获取最大收益"
   ]
  },
  {
   "cell_type": "markdown",
   "metadata": {},
   "source": [
    "## 背包问题"
   ]
  },
  {
   "cell_type": "markdown",
   "metadata": {},
   "source": [
    "## 教室调度"
   ]
  },
  {
   "cell_type": "markdown",
   "metadata": {},
   "source": [
    "## 夜过吊桥"
   ]
  },
  {
   "cell_type": "markdown",
   "metadata": {},
   "source": [
    "## 不可互攻的王"
   ]
  },
  {
   "cell_type": "markdown",
   "metadata": {},
   "source": [
    "## 集合覆盖"
   ]
  },
  {
   "cell_type": "code",
   "execution_count": null,
   "metadata": {
    "collapsed": true
   },
   "outputs": [],
   "source": []
  }
 ],
 "metadata": {
  "kernelspec": {
   "display_name": "Python 3",
   "language": "python",
   "name": "python3"
  },
  "language_info": {
   "codemirror_mode": {
    "name": "ipython",
    "version": 3
   },
   "file_extension": ".py",
   "mimetype": "text/x-python",
   "name": "python",
   "nbconvert_exporter": "python",
   "pygments_lexer": "ipython3",
   "version": "3.6.5"
  },
  "toc": {
   "base_numbering": 1,
   "nav_menu": {},
   "number_sections": true,
   "sideBar": true,
   "skip_h1_title": true,
   "title_cell": "Table of Contents",
   "title_sidebar": "Contents",
   "toc_cell": true,
   "toc_position": {},
   "toc_section_display": true,
   "toc_window_display": false
  }
 },
 "nbformat": 4,
 "nbformat_minor": 2
}
