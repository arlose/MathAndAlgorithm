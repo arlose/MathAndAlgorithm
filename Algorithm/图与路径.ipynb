{
 "cells": [
  {
   "cell_type": "markdown",
   "metadata": {},
   "source": [
    "## 迷宫随机生成\n",
    "\n",
    "ref: https://github.com/tpof314/maze\n",
    "\n",
    "- 生成一张网格，把网格里面的所有边都存进一个列表edgeList里面.\n",
    "- 从(0, 0)开始，做DFS。每次DFS的时候，随机地选择四周一个没有走过的格子，凿墙过去，把道路打通。凿墙的时候，把edgeList列表中相对应的那堵墙删除掉。\n",
    "- 将剩下的没有凿开过的墙画出来，就是一个完整的迷宫了。"
   ]
  },
  {
   "cell_type": "code",
   "execution_count": 11,
   "metadata": {
    "ExecuteTime": {
     "end_time": "2019-05-17T11:00:45.829535Z",
     "start_time": "2019-05-17T11:00:44.696762Z"
    }
   },
   "outputs": [
    {
     "data": {
      "image/png": "[encoded data removed]",
      "text/plain": [
       "<Figure size 576x576 with 1 Axes>"
      ]
     },
     "metadata": {
      "needs_background": "light"
     },
     "output_type": "display_data"
    }
   ],
   "source": [
    "import sys\n",
    "import matplotlib\n",
    "import matplotlib.pyplot as plt\n",
    "from random import randint\n",
    "from IPython import display\n",
    "import time\n",
    "%matplotlib inline\n",
    "\n",
    "WIDTH  = 10\n",
    "HEIGHT = 10\n",
    "# sys.setrecursionlimit(WIDTH * HEIGHT)\n",
    "\n",
    "def initVisitedList():\n",
    "    visited = []\n",
    "    for y in range(HEIGHT):\n",
    "        line = []\n",
    "        for x in range(WIDTH):\n",
    "            line.append(False)\n",
    "        visited.append(line)\n",
    "    return visited\n",
    "\n",
    "def drawLine(x1, y1, x2, y2):\n",
    "    plt.plot([x1, x2], [y1, y2], color=\"black\")\n",
    "\n",
    "def removeLine(x1, y1, x2, y2):\n",
    "    plt.plot([x1, x2], [y1, y2], color=\"white\")\n",
    "\n",
    "def get_edges(x, y):\n",
    "    result = []\n",
    "    result.append((x, y, x, y+1))\n",
    "    result.append((x+1, y, x+1, y+1))\n",
    "    result.append((x, y, x+1, y))\n",
    "    result.append((x, y+1, x+1, y+1))\n",
    "\n",
    "    return result\n",
    "\n",
    "def drawCell(x, y):\n",
    "    edges = get_edges(x, y)\n",
    "    for item in edges:\n",
    "        drawLine(item[0], item[1], item[2], item[3])\n",
    "\n",
    "def getCommonEdge(cell1_x, cell1_y, cell2_x, cell2_y):\n",
    "    edges1 = get_edges(cell1_x, cell1_y)\n",
    "    edges2 = set(get_edges(cell2_x, cell2_y))\n",
    "    for edge in edges1:\n",
    "        if edge in edges2:\n",
    "            return edge\n",
    "    return None\n",
    "\n",
    "def initEdgeList():\n",
    "    edges = set()\n",
    "    for x in range(WIDTH):\n",
    "        for y in range(HEIGHT):\n",
    "            cellEdges = get_edges(x, y)\n",
    "            for edge in cellEdges:\n",
    "                edges.add(edge)\n",
    "    return edges\n",
    "\n",
    "def isValidPosition(x, y):\n",
    "    if x < 0 or x >= WIDTH:\n",
    "        return False\n",
    "    elif y < 0 or y >= HEIGHT:\n",
    "        return False\n",
    "    else:\n",
    "        return True\n",
    "\n",
    "def shuffle(dX, dY):\n",
    "    for t in range(4):\n",
    "        i = randint(0, 3)\n",
    "        j = randint(0, 3)\n",
    "        dX[i], dX[j] = dX[j], dX[i]\n",
    "        dY[i], dY[j] = dY[j], dY[i]\n",
    "\n",
    "def DFS(X, Y, edgeList, visited):\n",
    "    dX = [0,  0, -1, 1]\n",
    "    dY = [-1, 1, 0,  0]\n",
    "    shuffle(dX, dY)\n",
    "    for i in range(len(dX)):\n",
    "        nextX = X + dX[i]\n",
    "        nextY = Y + dY[i]\n",
    "        if isValidPosition(nextX, nextY):\n",
    "            if not visited[nextY][nextX]:\n",
    "                visited[nextY][nextX] = True\n",
    "                commonEdge = getCommonEdge(X, Y, nextX, nextY)\n",
    "                if commonEdge in edgeList:\n",
    "                    edgeList.remove(commonEdge)\n",
    "                DFS(nextX, nextY, edgeList, visited)\n",
    "\n",
    "plt.figure(figsize=(8,8))\n",
    "plt.axis('equal')\n",
    "plt.title('Maze')\n",
    "edgeList = initEdgeList()\n",
    "visited  = initVisitedList()\n",
    "DFS(0, 0, edgeList, visited)\n",
    "edgeList.remove((0, 0, 0, 1))\n",
    "edgeList.remove((WIDTH, HEIGHT-1, WIDTH, HEIGHT))\n",
    "for edge in edgeList:\n",
    "    drawLine(edge[0], edge[1], edge[2], edge[3])\n",
    "plt.show()"
   ]
  },
  {
   "cell_type": "code",
   "execution_count": null,
   "metadata": {
    "ExecuteTime": {
     "end_time": "2019-05-07T05:58:38.556830Z",
     "start_time": "2019-05-07T05:58:38.552633Z"
    }
   },
   "outputs": [],
   "source": [
    "# edgeList = initEdgeList()\n",
    "print(edgeList)"
   ]
  },
  {
   "cell_type": "markdown",
   "metadata": {},
   "source": [
    "## 走迷宫"
   ]
  },
  {
   "cell_type": "markdown",
   "metadata": {},
   "source": [
    "### 沿墙走迷宫\n",
    "\n",
    "可以选择沿左边墙走或者沿右边墙走\n",
    "\n",
    "沿左侧墙走流程如下：\n",
    "```\n",
    "while（没有到达终点）\n",
    "    if(左边有墙)\n",
    "        if（前面没有墙）\n",
    "            向前走\n",
    "        else\n",
    "            右转\n",
    "    else\n",
    "        左转\n",
    "        走一步\n",
    "```\n",
    "\n",
    "首先定义几个基本动作，是否到达终点，左边是否有墙，前面是否有墙，向前走一步，左转，右转，还有根据方向画当前的小人"
   ]
  },
  {
   "cell_type": "code",
   "execution_count": 12,
   "metadata": {
    "ExecuteTime": {
     "end_time": "2019-05-17T11:00:59.792862Z",
     "start_time": "2019-05-17T11:00:58.766959Z"
    },
    "scrolled": true
   },
   "outputs": [
    {
     "data": {
      "image/png": "[encoded data removed]",
      "text/plain": [
       "<Figure size 576x576 with 1 Axes>"
      ]
     },
     "metadata": {
      "needs_background": "light"
     },
     "output_type": "display_data"
    }
   ],
   "source": [
    "UP = 0\n",
    "RIGHT = 1\n",
    "DOWN = 2\n",
    "LEFT = 3\n",
    "ENDX = WIDTH-1\n",
    "ENDY = HEIGHT-1\n",
    "posx = 0\n",
    "posy = 0\n",
    "direction = UP\n",
    "# 根据方向画小人\n",
    "def drawPerson():\n",
    "    global posx\n",
    "    global posy\n",
    "    global direction\n",
    "    newx = posx+0.5\n",
    "    newy = posy+0.5\n",
    "    plt.scatter(newx, newy, color='', marker='o', edgecolors='g', s=200)\n",
    "    if(direction==UP):\n",
    "        plt.plot([newx, newx], [newy, newy+0.5], color=\"red\")\n",
    "    if(direction==RIGHT):\n",
    "        plt.plot([newx, newx+0.5], [newy, newy], color=\"red\")\n",
    "    if(direction==DOWN):\n",
    "        plt.plot([newx, newx], [newy, newy-0.5], color=\"red\")\n",
    "    if(direction==LEFT):\n",
    "        plt.plot([newx, newx-0.5], [newy, newy], color=\"red\")\n",
    "    return\n",
    "\n",
    "def clearPerson():\n",
    "    global posx\n",
    "    global posy\n",
    "    global direction\n",
    "    newx = posx+0.5\n",
    "    newy = posy+0.5\n",
    "    plt.scatter(newx, newy, color='', marker='o', edgecolors='w', s=200)\n",
    "    if(direction==UP):\n",
    "        plt.plot([newx, newx], [newy, newy+0.5], color=\"white\")\n",
    "    if(direction==RIGHT):\n",
    "        plt.plot([newx, newx+0.5], [newy, newy], color=\"white\")\n",
    "    if(direction==DOWN):\n",
    "        plt.plot([newx, newx], [newy, newy-0.5], color=\"white\")\n",
    "    if(direction==LEFT):\n",
    "        plt.plot([newx, newx-0.5], [newy, newy], color=\"white\")\n",
    "    return\n",
    "\n",
    "# 是否到达终点\n",
    "def isEnd():\n",
    "    global posx\n",
    "    global posy\n",
    "    if(posx==ENDX and posy==ENDY):\n",
    "        return True\n",
    "    else:\n",
    "        return False\n",
    "    \n",
    "# 前面是否是墙\n",
    "def isFrontWall():\n",
    "    global posx\n",
    "    global posy\n",
    "    global direction\n",
    "    x = posx\n",
    "    y = posy\n",
    "    if(direction==UP):\n",
    "        e = (x, y+1, x+1, y+1)\n",
    "    if(direction==RIGHT):\n",
    "        e = (x+1, y, x+1, y+1)\n",
    "    if(direction==DOWN):\n",
    "        e = (x, y, x+1, y)\n",
    "    if(direction==LEFT):\n",
    "        e = (x, y, x, y+1)\n",
    "    if e in edgeList:\n",
    "        return True\n",
    "    else:\n",
    "        return False\n",
    "\n",
    "# 左边是否是墙\n",
    "def isLeftWall():\n",
    "    global posx\n",
    "    global posy\n",
    "    global direction\n",
    "    x = posx\n",
    "    y = posy\n",
    "    if(direction==UP):\n",
    "        e = (x, y, x, y+1) \n",
    "    if(direction==RIGHT):\n",
    "        e = (x, y+1, x+1, y+1)\n",
    "    if(direction==DOWN):\n",
    "        e = (x+1, y, x+1, y+1)\n",
    "    if(direction==LEFT):\n",
    "        e = (x, y, x+1, y)\n",
    "    if e in edgeList:\n",
    "        return True\n",
    "    else:\n",
    "        return False\n",
    "\n",
    "# 向前走一步\n",
    "def step():\n",
    "    global posx\n",
    "    global posy\n",
    "    global direction\n",
    "    clearPerson()\n",
    "    if(direction==UP):\n",
    "        posy = min(posy+1, HEIGHT-1)\n",
    "    if(direction==RIGHT):\n",
    "        posx = min(posx+1, WIDTH-1)\n",
    "    if(direction==DOWN):\n",
    "        posy = max(posy-1, 0)\n",
    "    if(direction==LEFT):\n",
    "        posx = max(posx-1, 0)\n",
    "    drawPerson()\n",
    "    return \n",
    "    \n",
    "# 向左转\n",
    "def turnLeft():\n",
    "    global direction\n",
    "    clearPerson()\n",
    "    direction = (direction+3)%4\n",
    "    drawPerson()\n",
    "    return \n",
    "\n",
    "# 向右转\n",
    "def turnRight():\n",
    "    global direction\n",
    "    clearPerson()\n",
    "    direction = (direction+1)%4\n",
    "    drawPerson()\n",
    "    return \n",
    "\n",
    "# 画迷宫\n",
    "def drawMaze():\n",
    "    plt.figure(figsize=(8,8))\n",
    "    plt.axis('equal')\n",
    "    plt.title('Maze')\n",
    "    for edge in edgeList:\n",
    "        drawLine(edge[0], edge[1], edge[2], edge[3])\n",
    "\n",
    "# 测试代码\n",
    "drawMaze()\n",
    "drawPerson()\n",
    "step()\n",
    "step()\n",
    "turnRight()\n",
    "step()\n",
    "turnLeft()\n",
    "step()\n",
    "plt.show()"
   ]
  },
  {
   "cell_type": "code",
   "execution_count": 13,
   "metadata": {
    "ExecuteTime": {
     "end_time": "2019-05-17T11:01:05.425062Z",
     "start_time": "2019-05-17T11:01:03.360186Z"
    }
   },
   "outputs": [
    {
     "data": {
      "image/png": "[encoded data removed]",
      "text/plain": [
       "<Figure size 576x576 with 1 Axes>"
      ]
     },
     "metadata": {
      "needs_background": "light"
     },
     "output_type": "display_data"
    }
   ],
   "source": [
    "posx = 0\n",
    "posy = 0\n",
    "direction = UP\n",
    "\n",
    "# 沿左侧墙走到终点\n",
    "def gotoEnd():\n",
    "    while(not isEnd()):\n",
    "        if(isLeftWall()):\n",
    "            if(isFrontWall()):\n",
    "                turnRight()\n",
    "            else:\n",
    "                step()\n",
    "        else:\n",
    "            turnLeft()\n",
    "            step()\n",
    "    return\n",
    "\n",
    "drawMaze()\n",
    "step()\n",
    "gotoEnd()"
   ]
  },
  {
   "cell_type": "markdown",
   "metadata": {},
   "source": [
    "练习：沿右侧墙走迷宫（首先画框图，再写判断右侧是否是墙的函数，最后重写gotoEnd函数）"
   ]
  },
  {
   "cell_type": "markdown",
   "metadata": {},
   "source": [
    "### 广度优先搜索"
   ]
  },
  {
   "cell_type": "code",
   "execution_count": 14,
   "metadata": {
    "ExecuteTime": {
     "end_time": "2019-05-17T11:01:25.052897Z",
     "start_time": "2019-05-17T11:01:25.041896Z"
    }
   },
   "outputs": [],
   "source": [
    "import numpy as np\n",
    "Counts = np.ones((HEIGHT, WIDTH))\n",
    "\n",
    "def initCount(x, y):\n",
    "    global Counts\n",
    "    Counts = Counts*(WIDTH*HEIGHT)\n",
    "    Counts[y][x] = 0\n",
    "\n",
    "initCount(0, 0)\n",
    "# print(Counts)"
   ]
  },
  {
   "cell_type": "markdown",
   "metadata": {},
   "source": [
    "从count为0位置出发，判断上下左右各个位置哪里可以走，在此位置置count值为原始位置count值+1"
   ]
  },
  {
   "cell_type": "code",
   "execution_count": 15,
   "metadata": {
    "ExecuteTime": {
     "end_time": "2019-05-17T11:01:27.221039Z",
     "start_time": "2019-05-17T11:01:27.157047Z"
    }
   },
   "outputs": [
    {
     "name": "stdout",
     "output_type": "stream",
     "text": [
      "22.0\n"
     ]
    }
   ],
   "source": [
    "# 上下左右相邻隔与当前格的边坐标\n",
    "x0off = [0, 0, 0, 1]\n",
    "y0off = [1, 0, 0, 0]\n",
    "x1off = [1, 1, 0, 1]\n",
    "y1off = [1, 0, 1, 1]\n",
    "xoff = [0, 0, -1, 1]\n",
    "yoff = [1, -1, 0, 0]\n",
    "MAXCOUNT = WIDTH*HEIGHT\n",
    "\n",
    "def findcount(count):\n",
    "    l = []\n",
    "    for j in range(HEIGHT):\n",
    "        for i in range(WIDTH):\n",
    "            if Counts[j][i] == count:\n",
    "                l.append((i,j))\n",
    "    return l\n",
    "\n",
    "def setCount():\n",
    "    for i in range(MAXCOUNT):\n",
    "        xylist = findcount(i)\n",
    "        for (x, y) in xylist:\n",
    "            for k in range(4):\n",
    "                if (x+x0off[k], y+y0off[k], x+x1off[k], y+y1off[k]) not in edgeList:\n",
    "                    if y+yoff[k]>=0 and y+yoff[k]<HEIGHT and x+xoff[k]>=0 and x+xoff[k]<WIDTH:\n",
    "                        if Counts[y+yoff[k]][x+xoff[k]] > i+1:\n",
    "                            Counts[y+yoff[k]][x+xoff[k]]  = i+1   \n",
    "    return\n",
    "\n",
    "Counts = np.ones((HEIGHT, WIDTH))\n",
    "initCount(ENDX, ENDY)\n",
    "setCount()\n",
    "print(Counts[0][0])"
   ]
  },
  {
   "cell_type": "markdown",
   "metadata": {},
   "source": [
    "在图中画出到达终点所需的最少步数"
   ]
  },
  {
   "cell_type": "code",
   "execution_count": 16,
   "metadata": {
    "ExecuteTime": {
     "end_time": "2019-05-17T11:01:31.264769Z",
     "start_time": "2019-05-17T11:01:29.550872Z"
    }
   },
   "outputs": [
    {
     "data": {
      "image/png": "[encoded data removed]",
      "text/plain": [
       "<Figure size 576x576 with 1 Axes>"
      ]
     },
     "metadata": {
      "needs_background": "light"
     },
     "output_type": "display_data"
    }
   ],
   "source": [
    "def drawCounts():\n",
    "    for y in range(HEIGHT):\n",
    "        for x in range(WIDTH):\n",
    "            plt.text(x, y, str(int(Counts[y][x])))\n",
    "\n",
    "drawMaze()\n",
    "drawCounts()"
   ]
  },
  {
   "cell_type": "markdown",
   "metadata": {},
   "source": [
    "根据最少步数表格走出迷宫（从起点始终沿着count少1的格子走）"
   ]
  },
  {
   "cell_type": "code",
   "execution_count": 17,
   "metadata": {
    "ExecuteTime": {
     "end_time": "2019-05-17T11:01:51.419530Z",
     "start_time": "2019-05-17T11:01:49.611639Z"
    }
   },
   "outputs": [
    {
     "data": {
      "image/png": "[encoded data removed]",
      "text/plain": [
       "<Figure size 576x576 with 1 Axes>"
      ]
     },
     "metadata": {
      "needs_background": "light"
     },
     "output_type": "display_data"
    }
   ],
   "source": [
    "def stepUp():\n",
    "    global posx\n",
    "    global posy\n",
    "    global direction\n",
    "    clearPerson()\n",
    "    direction = UP\n",
    "    posy = min(posy+1, HEIGHT-1)\n",
    "    drawPerson()\n",
    "\n",
    "def stepDown():\n",
    "    global posx\n",
    "    global posy\n",
    "    global direction\n",
    "    clearPerson()\n",
    "    direction = DOWN\n",
    "    posy = max(posy-1, 0)\n",
    "    drawPerson()\n",
    "\n",
    "def stepRight():\n",
    "    global posx\n",
    "    global posy\n",
    "    global direction\n",
    "    clearPerson()\n",
    "    direction = RIGHT\n",
    "    posx = min(posx+1, WIDTH-1)\n",
    "    drawPerson()\n",
    "    \n",
    "def stepLeft():\n",
    "    global posx\n",
    "    global posy\n",
    "    global direction\n",
    "    clearPerson()\n",
    "    direction = LEFT\n",
    "    posx = max(posx-1, 0)\n",
    "    drawPerson()\n",
    "    \n",
    "posx = 0\n",
    "posy = 0\n",
    "def move():\n",
    "    count = Counts[posy][posx]\n",
    "    while(count!=0):\n",
    "        for k in range(4):\n",
    "            if (posx+x0off[k], posy+y0off[k], posx+x1off[k], posy+y1off[k]) not in edgeList:\n",
    "                if posy+yoff[k]>=0 and posy+yoff[k]<HEIGHT and posx+xoff[k]>=0 and posx+xoff[k]<WIDTH:\n",
    "                    if Counts[posy+yoff[k]][posx+xoff[k]] == count-1:\n",
    "                        break;\n",
    "        if k==0:\n",
    "            stepUp()\n",
    "        if k==1:\n",
    "            stepDown()\n",
    "        if k==2:\n",
    "            stepLeft()\n",
    "        if k==3:\n",
    "            stepRight()\n",
    "        count = Counts[posy][posx]\n",
    "\n",
    "drawMaze()\n",
    "move()"
   ]
  },
  {
   "cell_type": "markdown",
   "metadata": {},
   "source": [
    "改进：\n",
    "\n",
    "findcount函数可以使用队列来做，不用每次遍历整个Counts表格"
   ]
  },
  {
   "cell_type": "markdown",
   "metadata": {},
   "source": [
    "## 最短路径"
   ]
  },
  {
   "cell_type": "code",
   "execution_count": null,
   "metadata": {},
   "outputs": [],
   "source": []
  },
  {
   "cell_type": "markdown",
   "metadata": {},
   "source": [
    "### Dijkstra算法\n"
   ]
  },
  {
   "cell_type": "markdown",
   "metadata": {},
   "source": [
    "### 双向搜索（A*算法）"
   ]
  },
  {
   "cell_type": "code",
   "execution_count": null,
   "metadata": {},
   "outputs": [],
   "source": []
  },
  {
   "cell_type": "code",
   "execution_count": null,
   "metadata": {},
   "outputs": [],
   "source": []
  },
  {
   "cell_type": "code",
   "execution_count": null,
   "metadata": {},
   "outputs": [],
   "source": []
  }
 ],
 "metadata": {
  "kernelspec": {
   "display_name": "Python 3",
   "language": "python",
   "name": "python3"
  },
  "language_info": {
   "codemirror_mode": {
    "name": "ipython",
    "version": 3
   },
   "file_extension": ".py",
   "mimetype": "text/x-python",
   "name": "python",
   "nbconvert_exporter": "python",
   "pygments_lexer": "ipython3",
   "version": "3.6.1"
  },
  "toc": {
   "base_numbering": 1,
   "nav_menu": {},
   "number_sections": true,
   "sideBar": true,
   "skip_h1_title": false,
   "title_cell": "Table of Contents",
   "title_sidebar": "Contents",
   "toc_cell": false,
   "toc_position": {
    "height": "calc(100% - 180px)",
    "left": "10px",
    "top": "150px",
    "width": "325.188px"
   },
   "toc_section_display": true,
   "toc_window_display": true
  }
 },
 "nbformat": 4,
 "nbformat_minor": 2
}
