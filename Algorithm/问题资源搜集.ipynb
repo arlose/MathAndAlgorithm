{
 "cells": [
  {
   "cell_type": "markdown",
   "metadata": {
    "toc": true
   },
   "source": [
    "<h1>Table of Contents<span class=\"tocSkip\"></span></h1>\n",
    "<div class=\"toc\"><ul class=\"toc-item\"><li><span><a href=\"#一道Google面试题：如何分解棘手问题\" data-toc-modified-id=\"一道Google面试题：如何分解棘手问题-1\"><span class=\"toc-item-num\">1&nbsp;&nbsp;</span>一道Google面试题：如何分解棘手问题</a></span></li><li><span><a href=\"#Dijkstra最短距离算法的多对多变体\" data-toc-modified-id=\"Dijkstra最短距离算法的多对多变体-2\"><span class=\"toc-item-num\">2&nbsp;&nbsp;</span>Dijkstra最短距离算法的多对多变体</a></span></li><li><span><a href=\"#acm-challenge-workbook-《挑战程序设计竞赛》习题册攻略，含约-200-道题，可配合书籍或笔记，系统学习算法\" data-toc-modified-id=\"acm-challenge-workbook-《挑战程序设计竞赛》习题册攻略，含约-200-道题，可配合书籍或笔记，系统学习算法-3\"><span class=\"toc-item-num\">3&nbsp;&nbsp;</span>acm-challenge-workbook 《挑战程序设计竞赛》习题册攻略，含约 200 道题，可配合书籍或笔记，系统学习算法</a></span></li><li><span><a href=\"#3min利用Python实现9种经典排序算法可视化!\" data-toc-modified-id=\"3min利用Python实现9种经典排序算法可视化!-4\"><span class=\"toc-item-num\">4&nbsp;&nbsp;</span>3min利用Python实现9种经典排序算法可视化!</a></span></li><li><span><a href=\"#妙趣横生的算法\" data-toc-modified-id=\"妙趣横生的算法-5\"><span class=\"toc-item-num\">5&nbsp;&nbsp;</span>妙趣横生的算法</a></span><ul class=\"toc-item\"><li><span><a href=\"#穷举法\" data-toc-modified-id=\"穷举法-5.1\"><span class=\"toc-item-num\">5.1&nbsp;&nbsp;</span>穷举法</a></span></li><li><span><a href=\"#回溯\" data-toc-modified-id=\"回溯-5.2\"><span class=\"toc-item-num\">5.2&nbsp;&nbsp;</span>回溯</a></span></li><li><span><a href=\"#排序可视化\" data-toc-modified-id=\"排序可视化-5.3\"><span class=\"toc-item-num\">5.3&nbsp;&nbsp;</span>排序可视化</a></span></li><li><span><a href=\"#分治\" data-toc-modified-id=\"分治-5.4\"><span class=\"toc-item-num\">5.4&nbsp;&nbsp;</span>分治</a></span></li><li><span><a href=\"#递推\" data-toc-modified-id=\"递推-5.5\"><span class=\"toc-item-num\">5.5&nbsp;&nbsp;</span>递推</a></span></li></ul></li><li><span><a href=\"#参考文献\" data-toc-modified-id=\"参考文献-6\"><span class=\"toc-item-num\">6&nbsp;&nbsp;</span>参考文献</a></span></li><li><span><a href=\"#资源\" data-toc-modified-id=\"资源-7\"><span class=\"toc-item-num\">7&nbsp;&nbsp;</span>资源</a></span></li></ul></div>"
   ]
  },
  {
   "cell_type": "markdown",
   "metadata": {},
   "source": [
    "## 一道Google面试题：如何分解棘手问题\n",
    "链接: https://pan.baidu.com/s/1AbibuzRrvDNqfq3ERdmr7Q 提取码: nr5f \n",
    "\n",
    "![google1.jpg](../Images/Google1.jpg)\n",
    "如何找到图中面积最大的纯色区域\n"
   ]
  },
  {
   "cell_type": "markdown",
   "metadata": {},
   "source": [
    "## Dijkstra最短距离算法的多对多变体\n",
    "https://github.com/facebookresearch/many-to-many-dijkstra"
   ]
  },
  {
   "cell_type": "markdown",
   "metadata": {},
   "source": [
    "## acm-challenge-workbook 《挑战程序设计竞赛》习题册攻略，含约 200 道题，可配合书籍或笔记，系统学习算法\n",
    "https://github.com/yogykwan/acm-challenge-workbook"
   ]
  },
  {
   "cell_type": "markdown",
   "metadata": {},
   "source": [
    "## 3min利用Python实现9种经典排序算法可视化!\n",
    "https://bigquant.com/community/t/topic/148054?utm_source=weibo&utm_medium=weibo_algorithm&utm_campaign=190309_L1"
   ]
  },
  {
   "cell_type": "markdown",
   "metadata": {},
   "source": [
    "## 妙趣横生的算法\n",
    "### 穷举法\n",
    "- TOM的借书方案，ref《妙趣横生的算法》p91。小学奥数题，需要按照一定规律来统计个数。\n",
    "- 部分验证哥德巴赫猜想，ref《妙趣横生的算法》p145。缓存的应用。\n",
    "- 三色球问题，ref《妙趣横生的算法》p148，小学奥数题，循环+规律\n",
    "- 百钱买百鸡，马克思手稿中的数学题，ref《妙趣横生的算法》p150，205，小学奥数题，循环+判断\n",
    "- 填数字游戏，ref《妙趣横生的算法》p153，小学奥数题，循环+判断\n",
    "- 新郎和新娘，ref《妙趣横生的算法》p155，小学奥数题，根据条件抽象，用循环来判断，抽象条件表达式\n",
    "- 爱因斯坦阶梯问题，ref《妙趣横生的算法》p157，小学奥数题，循环，判断\n",
    "- 水仙花数，完全数，亲密数，ref《妙趣横生的算法》p159，176，178，小学奥数题，循环，判断\n",
    "- 数字全排列，ref《妙趣横生的算法》p174，小学奥数题，循环，规律，递归\n",
    "- 谁在说谎，ref《妙趣横生的算法》p185，小学奥数题，如何将逻辑命题转换为解空间\n",
    "- 连续整数和，ref《妙趣横生的算法》p187，多重循环判断，有没有更好的思路？\n",
    "- 两数平方和，验证四方定理，ref《妙趣横生的算法》p189，194，循环，减少循环次数\n",
    "- 具有特殊性质的数，ref《妙趣横生的算法》p191，小学奥数题，从不同角度解题\n",
    "- 判断同构数，ref《妙趣横生的算法》p199，理解题意写条件\n",
    "- 验证尼克彻斯定理，ref《妙趣横生的算法》p201，循环，如何写定理的条件\n",
    "- 验证三重回文数字，ref《妙趣横生的算法》p203，循环，分函数写条件\n",
    "### 回溯\n",
    "- 猴子吃桃问题，渔夫捕鱼问题，ref《妙趣横生的算法》p160，206，小学奥数题，回溯思想\n",
    "- 常胜将军，ref《妙趣横生的算法》p165，小学奥数题，回溯思想\n",
    "- 汉诺塔，ref《妙趣横生的算法》p215，递归，如何形象化？\n",
    "### 排序可视化\n",
    "- 移数字游戏，ref《妙趣横生的算法》p172，冒泡排序的直观显现\n",
    "### 分治\n",
    "- 寻找假币，ref《妙趣横生的算法》p208，小学奥数题，如何将该问题算法化\n",
    "- 求m的n次幂，ref《妙趣横生的算法》p213，临时变量的作用。\n",
    "### 递推\n",
    "- 计算组合数，ref《妙趣横生的算法》p212，公式推倒，动态规划思想"
   ]
  },
  {
   "cell_type": "markdown",
   "metadata": {},
   "source": [
    "## 参考文献\n",
    "- 《妙趣横生的算法 C语言实现》，有pdf版本"
   ]
  },
  {
   "cell_type": "markdown",
   "metadata": {},
   "source": [
    "## 资源\n",
    "- python实现算法的代码，很全 https://github.com/TheAlgorithms/Python"
   ]
  },
  {
   "cell_type": "markdown",
   "metadata": {},
   "source": []
  },
  {
   "cell_type": "markdown",
   "metadata": {},
   "source": []
  }
 ],
 "metadata": {
  "kernelspec": {
   "display_name": "Python 3",
   "language": "python",
   "name": "python3"
  },
  "language_info": {
   "codemirror_mode": {
    "name": "ipython",
    "version": 3
   },
   "file_extension": ".py",
   "mimetype": "text/x-python",
   "name": "python",
   "nbconvert_exporter": "python",
   "pygments_lexer": "ipython3",
   "version": "3.6.5"
  },
  "toc": {
   "base_numbering": 1,
   "nav_menu": {},
   "number_sections": true,
   "sideBar": true,
   "skip_h1_title": true,
   "title_cell": "Table of Contents",
   "title_sidebar": "Contents",
   "toc_cell": true,
   "toc_position": {},
   "toc_section_display": true,
   "toc_window_display": false
  }
 },
 "nbformat": 4,
 "nbformat_minor": 2
}
