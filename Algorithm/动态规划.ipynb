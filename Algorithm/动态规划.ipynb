{
 "cells": [
  {
   "cell_type": "markdown",
   "metadata": {
    "toc": true
   },
   "source": [
    "<h1>Table of Contents<span class=\"tocSkip\"></span></h1>\n",
    "<div class=\"toc\"><ul class=\"toc-item\"><li><span><a href=\"#爬楼梯问题\" data-toc-modified-id=\"爬楼梯问题-1\"><span class=\"toc-item-num\">1&nbsp;&nbsp;</span>爬楼梯问题</a></span></li><li><span><a href=\"#零钱兑换问题\" data-toc-modified-id=\"零钱兑换问题-2\"><span class=\"toc-item-num\">2&nbsp;&nbsp;</span>零钱兑换问题</a></span></li><li><span><a href=\"#背包问题\" data-toc-modified-id=\"背包问题-3\"><span class=\"toc-item-num\">3&nbsp;&nbsp;</span>背包问题</a></span></li><li><span><a href=\"#起点到终点到路径总数\" data-toc-modified-id=\"起点到终点到路径总数-4\"><span class=\"toc-item-num\">4&nbsp;&nbsp;</span>起点到终点到路径总数</a></span></li><li><span><a href=\"#三角形最小路径和\" data-toc-modified-id=\"三角形最小路径和-5\"><span class=\"toc-item-num\">5&nbsp;&nbsp;</span>三角形最小路径和</a></span></li><li><span><a href=\"#维特比算法\" data-toc-modified-id=\"维特比算法-6\"><span class=\"toc-item-num\">6&nbsp;&nbsp;</span>维特比算法</a></span></li><li><span><a href=\"#字符串编辑距离\" data-toc-modified-id=\"字符串编辑距离-7\"><span class=\"toc-item-num\">7&nbsp;&nbsp;</span>字符串编辑距离</a></span></li><li><span><a href=\"#最长公共子串\" data-toc-modified-id=\"最长公共子串-8\"><span class=\"toc-item-num\">8&nbsp;&nbsp;</span>最长公共子串</a></span></li><li><span><a href=\"#最长上升子序列\" data-toc-modified-id=\"最长上升子序列-9\"><span class=\"toc-item-num\">9&nbsp;&nbsp;</span>最长上升子序列</a></span></li><li><span><a href=\"#乘积最大子序列\" data-toc-modified-id=\"乘积最大子序列-10\"><span class=\"toc-item-num\">10&nbsp;&nbsp;</span>乘积最大子序列</a></span></li><li><span><a href=\"#股票买卖\" data-toc-modified-id=\"股票买卖-11\"><span class=\"toc-item-num\">11&nbsp;&nbsp;</span>股票买卖</a></span></li></ul></div>"
   ]
  },
  {
   "cell_type": "markdown",
   "metadata": {},
   "source": [
    "## 爬楼梯问题\n",
    "- 问题描述：有N阶楼梯，一个人每次上一阶或两阶，爬到第N阶时一共有多少种爬法？"
   ]
  },
  {
   "cell_type": "markdown",
   "metadata": {},
   "source": [
    "## 零钱兑换问题\n",
    "- 问题描述：一共有1元，2元，5元三种零钱，每种有无限多个，怎样用最少的零钱个数凑成21块钱？\n",
    "\n",
    "```（与爬楼梯问题相似）```"
   ]
  },
  {
   "cell_type": "markdown",
   "metadata": {},
   "source": [
    "## 背包问题\n",
    "给定一组物品，每种物品都有自己的重量和价格，在限定的总重量内，我们如何选择，才能使得物品的总价格最高。\n",
    "\n",
    "n个物体，m容量的背包，每个物品最多选一个，求能背走的最大价值。\n",
    "n<500 m<10^17 保证数据随机生成\n"
   ]
  },
  {
   "cell_type": "markdown",
   "metadata": {},
   "source": [
    "## 起点到终点到路径总数\n",
    "- 问题描述: 如下矩阵，从1走到2，0的位置可以走，3的位置不能走，只能向下或向右走，从1到2共有多少种不同到走法。\n",
    "```\n",
    "[ \n",
    "  1 0 0 0 0 0 0 0 0 \n",
    "  0 0 3 0 0 0 0 0 0 \n",
    "  0 0 0 0 0 3 0 0 0 \n",
    "  0 0 0 3 0 0 0 3 0 \n",
    "  0 0 0 0 0 3 3 0 0 \n",
    "  0 0 0 0 0 0 0 0 2\n",
    "]\n",
    "小学奥数题，学而思，<极客时间>例子\n",
    "```"
   ]
  },
  {
   "cell_type": "markdown",
   "metadata": {},
   "source": [
    "## 三角形最小路径和\n",
    "- 问题描述：\n",
    "``` \n",
    "从上到下的三角形形状数组，从第一排到最后一排，每向下一排只能向左或向右，怎样走可以使走到最后一排到路径和最小\n",
    "   1\n",
    "  3 2\n",
    " 7 6 7\n",
    "1 2 3 4\n",
    "（启示，人生的路径选择，虽然没有人有上帝视角，但我们应该多看几步）\n",
    "```"
   ]
  },
  {
   "cell_type": "markdown",
   "metadata": {
    "collapsed": true
   },
   "source": [
    "## 维特比算法"
   ]
  },
  {
   "cell_type": "markdown",
   "metadata": {},
   "source": [
    "## 字符串编辑距离"
   ]
  },
  {
   "cell_type": "markdown",
   "metadata": {},
   "source": [
    "## 最长公共子串"
   ]
  },
  {
   "cell_type": "markdown",
   "metadata": {},
   "source": [
    "## 最长上升子序列\n",
    "```\n",
    "\n",
    "有没有Nlog(N)算法\n",
    "```"
   ]
  },
  {
   "cell_type": "markdown",
   "metadata": {},
   "source": [
    "## 乘积最大子序列"
   ]
  },
  {
   "cell_type": "markdown",
   "metadata": {
    "collapsed": true
   },
   "source": [
    "## 股票买卖\n",
    "- 已知：一段时间段股票价格\n",
    "- 限制条件：\n",
    "    - 不能卖空（只能在持有股票时才能购买），可以买卖无数次，当天可以买卖同一只股票（T+0），没有交易手续费（可用贪心法求解）\n",
    "    - 不能卖空（只能在持有股票时才能购买），可以买卖无数次，当天不可以买卖同一只股票（T+1），没有交易手续费（可用贪心法求解）\n",
    "    - 不能卖空（只能在持有股票时才能购买），只能买卖一次，当天不可以买卖同一只股票（T+1），没有交易手续费\n",
    "    - 不能卖空（只能在持有股票时才能购买），最多可以买卖两次，当天不可以买卖同一只股票（T+1），没有交易手续费\n",
    "    - 不能卖空（只能在持有股票时才能购买），最多可以买卖K次，当天不可以买卖同一只股票（T+1），没有交易手续费\n",
    "    - 不能卖空（只能在持有股票时才能购买），最多可以买卖K次，当天不可以买卖同一只股票（T+1），有交易手续费\n",
    "- 要求：如何获取最大收益"
   ]
  },
  {
   "cell_type": "code",
   "execution_count": null,
   "metadata": {},
   "outputs": [],
   "source": []
  }
 ],
 "metadata": {
  "kernelspec": {
   "display_name": "Python 3",
   "language": "python",
   "name": "python3"
  },
  "language_info": {
   "codemirror_mode": {
    "name": "ipython",
    "version": 3
   },
   "file_extension": ".py",
   "mimetype": "text/x-python",
   "name": "python",
   "nbconvert_exporter": "python",
   "pygments_lexer": "ipython3",
   "version": "3.6.5"
  },
  "toc": {
   "base_numbering": 1,
   "nav_menu": {},
   "number_sections": true,
   "sideBar": true,
   "skip_h1_title": true,
   "title_cell": "Table of Contents",
   "title_sidebar": "Contents",
   "toc_cell": true,
   "toc_position": {},
   "toc_section_display": true,
   "toc_window_display": true
  }
 },
 "nbformat": 4,
 "nbformat_minor": 2
}
