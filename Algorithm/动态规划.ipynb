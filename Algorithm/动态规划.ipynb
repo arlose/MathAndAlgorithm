{
 "cells": [
  {
   "cell_type": "markdown",
   "metadata": {
    "toc": true
   },
   "source": [
    "<h1>Table of Contents<span class=\"tocSkip\"></span></h1>\n",
    "<div class=\"toc\"><ul class=\"toc-item\"><li><span><a href=\"#背包问题\" data-toc-modified-id=\"背包问题-1\"><span class=\"toc-item-num\">1&nbsp;&nbsp;</span>背包问题</a></span></li><li><span><a href=\"#字符串编辑距离\" data-toc-modified-id=\"字符串编辑距离-2\"><span class=\"toc-item-num\">2&nbsp;&nbsp;</span>字符串编辑距离</a></span></li><li><span><a href=\"#最长公共子串\" data-toc-modified-id=\"最长公共子串-3\"><span class=\"toc-item-num\">3&nbsp;&nbsp;</span>最长公共子串</a></span></li><li><span><a href=\"#维特比算法\" data-toc-modified-id=\"维特比算法-4\"><span class=\"toc-item-num\">4&nbsp;&nbsp;</span>维特比算法</a></span></li></ul></div>"
   ]
  },
  {
   "cell_type": "markdown",
   "metadata": {},
   "source": [
    "## 背包问题\n",
    "给定一组物品，每种物品都有自己的重量和价格，在限定的总重量内，我们如何选择，才能使得物品的总价格最高。\n",
    "\n",
    "n个物体，m容量的背包，每个物品最多选一个，求能背走的最大价值。\n",
    "n<500 m<10^17 保证数据随机生成\n"
   ]
  },
  {
   "cell_type": "markdown",
   "metadata": {},
   "source": [
    "## 字符串编辑距离"
   ]
  },
  {
   "cell_type": "markdown",
   "metadata": {},
   "source": [
    "## 最长公共子串"
   ]
  },
  {
   "cell_type": "markdown",
   "metadata": {
    "collapsed": true
   },
   "source": [
    "## 维特比算法"
   ]
  },
  {
   "cell_type": "code",
   "execution_count": null,
   "metadata": {
    "collapsed": true
   },
   "outputs": [],
   "source": []
  }
 ],
 "metadata": {
  "kernelspec": {
   "display_name": "Python 3",
   "language": "python",
   "name": "python3"
  },
  "language_info": {
   "codemirror_mode": {
    "name": "ipython",
    "version": 3
   },
   "file_extension": ".py",
   "mimetype": "text/x-python",
   "name": "python",
   "nbconvert_exporter": "python",
   "pygments_lexer": "ipython3",
   "version": "3.6.1"
  },
  "toc": {
   "base_numbering": 1,
   "nav_menu": {},
   "number_sections": true,
   "sideBar": true,
   "skip_h1_title": true,
   "title_cell": "Table of Contents",
   "title_sidebar": "Contents",
   "toc_cell": true,
   "toc_position": {},
   "toc_section_display": true,
   "toc_window_display": true
  }
 },
 "nbformat": 4,
 "nbformat_minor": 2
}
