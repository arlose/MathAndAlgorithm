{
 "cells": [
  {
   "cell_type": "markdown",
   "metadata": {},
   "source": [
    "很多算法都是在解决经典问题的基础上凝练出来的思维方式，再用程序语言描述出来。重点是思维方式，语言仅仅是载体。"
   ]
  },
  {
   "cell_type": "markdown",
   "metadata": {},
   "source": [
    "- 算法思想\n",
    "    - 算法复杂度\n",
    "    - 精确与模糊\n",
    "        - 精确方法（能获得最优解）\n",
    "            - 按顺序的穷举\n",
    "                - 图的遍历\n",
    "                - 状态树\n",
    "            - 有技巧的穷举\n",
    "                - 找到约束条件（九宫格，数阵图，数独）\n",
    "                - 动态规划\n",
    "        - 模糊方法（快速获得次优解）\n",
    "            - 贪婪算法\n",
    "            - 模糊算法\n",
    "    - 思维方式\n",
    "        - 分治思想\n",
    "        - 迭代思想\n",
    "        - 回溯思想\n",
    "        - 遍历思想\n",
    "        - 演化思想"
   ]
  },
  {
   "cell_type": "code",
   "execution_count": null,
   "metadata": {},
   "outputs": [],
   "source": []
  }
 ],
 "metadata": {
  "kernelspec": {
   "display_name": "Python 3",
   "language": "python",
   "name": "python3"
  },
  "language_info": {
   "codemirror_mode": {
    "name": "ipython",
    "version": 3
   },
   "file_extension": ".py",
   "mimetype": "text/x-python",
   "name": "python",
   "nbconvert_exporter": "python",
   "pygments_lexer": "ipython3",
   "version": "3.6.5"
  },
  "toc": {
   "base_numbering": 1,
   "nav_menu": {},
   "number_sections": true,
   "sideBar": true,
   "skip_h1_title": false,
   "title_cell": "Table of Contents",
   "title_sidebar": "Contents",
   "toc_cell": false,
   "toc_position": {},
   "toc_section_display": true,
   "toc_window_display": false
  }
 },
 "nbformat": 4,
 "nbformat_minor": 2
}
