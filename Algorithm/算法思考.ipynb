{
 "cells": [
  {
   "cell_type": "markdown",
   "metadata": {},
   "source": [
    "很多算法都是在解决经典问题的基础上凝练出来的思维方式，再用程序语言描述出来。重点是思维方式，语言仅仅是载体。\n",
    "\n",
    "教是最好的学。\n",
    "一个人只有把知识教给别人，才能真正掌握它。\n",
    "一个人只有把知识教给“计算机”，才能真正掌握它。\n",
    "把想法写成算法程序的时候，就是在教计算机怎么去做的时候。"
   ]
  },
  {
   "cell_type": "markdown",
   "metadata": {},
   "source": [
    "- 算法思想\n",
    "    - 算法复杂度\n",
    "    - 精确与模糊\n",
    "        - 精确方法（能获得最优解）\n",
    "            - 按顺序的穷举\n",
    "                - 图的遍历\n",
    "                - 状态树\n",
    "            - 有技巧的穷举\n",
    "                - 找到约束条件（九宫格，数阵图，数独）\n",
    "                - 动态规划\n",
    "        - 模糊方法（快速获得次优解）\n",
    "            - 贪婪算法\n",
    "            - 模糊算法\n",
    "    - 思维方式\n",
    "        - 分治思想\n",
    "        - 迭代思想\n",
    "        - 回溯思想\n",
    "        - 遍历思想\n",
    "        - 演化思想"
   ]
  },
  {
   "cell_type": "markdown",
   "metadata": {},
   "source": [
    "- 什么是算法\n",
    "  算法是一系列解决问题的明确指令，对于符合一定规范的输入，能够在有限时间内获得要求的输出。\n",
    "  算法是问题程序化的解决方案。\n",
    "    - 按照一定规则执行的\n",
    "        - 手算除法\n",
    "        - 最大公约数求法\n",
    "   \n",
    "- 算法的特点\n",
    "    - 确定性\n",
    "        - 步骤确定\n",
    "            - 实际生活（加盐少许）\n",
    "        - 如果输入确定，那么结果确定\n",
    "    - 有限性\n",
    "        - 在一定时间内可以完成\n",
    "    - 多样性\n",
    "        - 同一问题可能有不同解法\n",
    "            有快有慢，有很多问题已经有了经典的解法，目的1熟悉这些解法2发现相似问题3解决它\n",
    "  \n",
    "  所以可以使用计算机计算\n",
    "  \n",
    "- 衡量算法\n",
    "    - 时间\n",
    "    - 空间\n",
    "    - 适用范围\n",
    "        - 规模\n",
    "    - 阿姆达尔法则\n",
    "  好的算法是不懈努力和反复修正的结果。"
   ]
  }
 ],
 "metadata": {
  "kernelspec": {
   "display_name": "Python 3",
   "language": "python",
   "name": "python3"
  },
  "language_info": {
   "codemirror_mode": {
    "name": "ipython",
    "version": 3
   },
   "file_extension": ".py",
   "mimetype": "text/x-python",
   "name": "python",
   "nbconvert_exporter": "python",
   "pygments_lexer": "ipython3",
   "version": "3.6.1"
  },
  "toc": {
   "base_numbering": 1,
   "nav_menu": {},
   "number_sections": true,
   "sideBar": true,
   "skip_h1_title": false,
   "title_cell": "Table of Contents",
   "title_sidebar": "Contents",
   "toc_cell": false,
   "toc_position": {},
   "toc_section_display": true,
   "toc_window_display": false
  }
 },
 "nbformat": 4,
 "nbformat_minor": 2
}
