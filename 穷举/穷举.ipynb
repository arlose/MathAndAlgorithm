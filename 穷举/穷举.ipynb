{
 "cells": [
  {
   "cell_type": "markdown",
   "metadata": {},
   "source": [
    "# 穷举法\n",
    "\n",
    "穷举法其实是面对很多问题时最容易想到的一种方法，有时显得很笨，但实际上有些问题除了穷举确实没有什么好的办法，所以其实此时使用穷举法并不笨。\n",
    "\n",
    "但穷举也要讲究策略，不能随机探测，而要按照一定的顺序与方法（比如图的遍历）。\n",
    "\n",
    "下面举一些例子：\n"
   ]
  },
  {
   "cell_type": "markdown",
   "metadata": {},
   "source": [
    "## 填数字类型"
   ]
  },
  {
   "cell_type": "markdown",
   "metadata": {},
   "source": [
    "### 幻方\n",
    "\n",
    "最常见的九宫格\n",
    "\n",
    "3x3的格子，从中填入1-9共9个数字，不能重复，使得三行三列和两个对角线三个数字的和都相等。"
   ]
  },
  {
   "cell_type": "code",
   "execution_count": null,
   "metadata": {},
   "outputs": [],
   "source": [
    "# 9个数，分别为i1-i9，排列顺序如下：\n",
    "# i1 i2 i3\n",
    "# i4 i5 i6\n",
    "# i7 i8 i9\n",
    "for i1 in range (1,10):\n",
    "    for i2 in range (1,10):\n",
    "        for i3 in range (1,10):\n",
    "            for i4 in range (1,10):\n",
    "                for i5 in range (1,10):\n",
    "                    for i6 in range (1,10):\n",
    "                        for i7 in range (1,10):\n",
    "                            for i8 in range (1,10):\n",
    "                                for i9 in range (1,10):\n",
    "                                    if (i1+i2+i3)==(i4+i5+i6) and (i1+i2+i3)==(i7+i8+i9) and (i1+i2+i3)==(i1+i4+i7) \\\n",
    "                                        and (i1+i2+i3)==(i2+i5+i8) and (i1+i2+i3)==(i3+i6+i9) and (i1+i2+i3)==(i1+i5+i9) \\\n",
    "                                        and (i1+i2+i3)==(i3+i5+i7) and i1 != i2 and i1 != i3 and i1 != i4 and i1 != i5 \\\n",
    "                                        and i1 != i6 and i1 != i7 and i1 != i8 and i1 != i9 and i2 != i3 and i2 != i4 \\\n",
    "                                        and i2 != i5 and i2 != i6 and i2 != i7 and i2 != i8 and i2 != i9 and i3 != i4 \\\n",
    "                                        and i3 != i5 and i3 != i6 and i3 != i7 and i3 != i8 and i3 != i9 and i4 != i5 \\\n",
    "                                        and i4 != i6 and i4 != i7 and i4 != i8 and i4 != i9 and i5 != i6 and i5 != i7 \\\n",
    "                                        and i5 != i8 and i5 != i9 and i6 != i7 and i6 != i8 and i6 != i9 and i7 != i8 \\\n",
    "                                        and i7 != i8 and i7 != i9 and i8 != i9:\n",
    "                                            print(i1, i2, i3)\n",
    "                                            print(i4, i5, i6)\n",
    "                                            print(i7, i8, i9)\n",
    "                                            print(\"\\n\")"
   ]
  },
  {
   "cell_type": "markdown",
   "metadata": {},
   "source": [
    "这个代码虽然比较长，也很好理解，完全按照题目的意思来写。但运行起来很慢，原因是它做了9的9次方次，并且里面的判断很长。\n",
    "\n",
    "- 如何改进？\n",
    "\n",
    "    首先可以证明三个数的和为15，还可以得到中间的数为5（如何证明？）\n",
    "\n",
    "    下面就可以利用这两个条件进行代码的简化了：（可能看起来并不直观）"
   ]
  },
  {
   "cell_type": "markdown",
   "metadata": {},
   "source": [
    "### 数阵图"
   ]
  },
  {
   "cell_type": "markdown",
   "metadata": {},
   "source": [
    "### 数字填空"
   ]
  },
  {
   "cell_type": "markdown",
   "metadata": {},
   "source": [
    "## 图的遍历"
   ]
  },
  {
   "cell_type": "code",
   "execution_count": null,
   "metadata": {},
   "outputs": [],
   "source": []
  }
 ],
 "metadata": {
  "kernelspec": {
   "display_name": "Python 3",
   "language": "python",
   "name": "python3"
  },
  "language_info": {
   "codemirror_mode": {
    "name": "ipython",
    "version": 3
   },
   "file_extension": ".py",
   "mimetype": "text/x-python",
   "name": "python",
   "nbconvert_exporter": "python",
   "pygments_lexer": "ipython3",
   "version": "3.7.1"
  }
 },
 "nbformat": 4,
 "nbformat_minor": 2
}
