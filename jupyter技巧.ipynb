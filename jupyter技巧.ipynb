{
 "cells": [
  {
   "cell_type": "markdown",
   "metadata": {},
   "source": [
    "jupyter技巧"
   ]
  },
  {
   "cell_type": "markdown",
   "metadata": {},
   "source": [
    "https://blog.csdn.net/tina_ttl/article/details/51031113#\n",
    "\n",
    "https://www.jianshu.com/p/a85bc2a8fa56\n",
    "\n",
    "https://www.zhihu.com/question/59392251\n",
    "\n",
    "http://bokeh.pydata.org/en/latest/docs/user_guide/notebook.html\n",
    "\n",
    "http://liuchengxu.org/pelican-blog/jupyter-notebook-tips.html\n",
    "\n",
    "https://zhuanlan.zhihu.com/p/36389916\n",
    "\n",
    "https://medium.com/m/global-identity?redirectUrl=https%3A%2F%2Ftowardsdatascience.com%2Finteractive-visualizations-in-jupyter-notebook-3be02ab2b8cd\n",
    "\n",
    "https://mortada.net/easily-profile-python-code-in-jupyter.html\n",
    "\n",
    "https://github.com/QuantStack/xeus-cling\n",
    "\n",
    "https://medium.com/m/global-identity?redirectUrl=https%3A%2F%2Fblog.jupyter.org%2Fa-diagram-editor-for-jupyterlab-a254121ff919\n",
    "\n",
    "https://medium.com/@r_kierzkowski/10-tips-on-using-jupyter-notebook-abc0ba7028a4\n",
    "\n",
    "https://xeus-cling.readthedocs.io/en/latest/"
   ]
  }
 ],
 "metadata": {
  "kernelspec": {
   "display_name": "Python 3",
   "language": "python",
   "name": "python3"
  },
  "language_info": {
   "codemirror_mode": {
    "name": "ipython",
    "version": 3
   },
   "file_extension": ".py",
   "mimetype": "text/x-python",
   "name": "python",
   "nbconvert_exporter": "python",
   "pygments_lexer": "ipython3",
   "version": "3.7.1"
  },
  "toc": {
   "base_numbering": 1,
   "nav_menu": {},
   "number_sections": true,
   "sideBar": true,
   "skip_h1_title": false,
   "title_cell": "Table of Contents",
   "title_sidebar": "Contents",
   "toc_cell": false,
   "toc_position": {},
   "toc_section_display": true,
   "toc_window_display": false
  }
 },
 "nbformat": 4,
 "nbformat_minor": 2
}
