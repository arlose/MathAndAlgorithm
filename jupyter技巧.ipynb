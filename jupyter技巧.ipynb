{
 "cells": [
  {
   "cell_type": "markdown",
   "metadata": {
    "toc": true
   },
   "source": [
    "<h1>Table of Contents<span class=\"tocSkip\"></span></h1>\n",
    "<div class=\"toc\"><ul class=\"toc-item\"><li><span><a href=\"#画图\" data-toc-modified-id=\"画图-1\"><span class=\"toc-item-num\">1&nbsp;&nbsp;</span>画图</a></span><ul class=\"toc-item\"><li><span><a href=\"#输出矢量图\" data-toc-modified-id=\"输出矢量图-1.1\"><span class=\"toc-item-num\">1.1&nbsp;&nbsp;</span>输出矢量图</a></span></li><li><span><a href=\"#画连接图\" data-toc-modified-id=\"画连接图-1.2\"><span class=\"toc-item-num\">1.2&nbsp;&nbsp;</span>画连接图</a></span></li><li><span><a href=\"#画动态图\" data-toc-modified-id=\"画动态图-1.3\"><span class=\"toc-item-num\">1.3&nbsp;&nbsp;</span>画动态图</a></span></li></ul></li><li><span><a href=\"#显示和隐藏Cell\" data-toc-modified-id=\"显示和隐藏Cell-2\"><span class=\"toc-item-num\">2&nbsp;&nbsp;</span>显示和隐藏Cell</a></span></li><li><span><a href=\"#magic命令\" data-toc-modified-id=\"magic命令-3\"><span class=\"toc-item-num\">3&nbsp;&nbsp;</span>magic命令</a></span><ul class=\"toc-item\"><li><span><a href=\"#列出magic命令\" data-toc-modified-id=\"列出magic命令-3.1\"><span class=\"toc-item-num\">3.1&nbsp;&nbsp;</span>列出magic命令</a></span></li><li><span><a href=\"#将本地的.py文件load到jupyter的一个cell中\" data-toc-modified-id=\"将本地的.py文件load到jupyter的一个cell中-3.2\"><span class=\"toc-item-num\">3.2&nbsp;&nbsp;</span>将本地的.py文件load到jupyter的一个cell中</a></span></li><li><span><a href=\"#运行python文件\" data-toc-modified-id=\"运行python文件-3.3\"><span class=\"toc-item-num\">3.3&nbsp;&nbsp;</span>运行python文件</a></span></li><li><span><a href=\"#列出所有的全局变量\" data-toc-modified-id=\"列出所有的全局变量-3.4\"><span class=\"toc-item-num\">3.4&nbsp;&nbsp;</span>列出所有的全局变量</a></span></li><li><span><a href=\"#保存到外部文件\" data-toc-modified-id=\"保存到外部文件-3.5\"><span class=\"toc-item-num\">3.5&nbsp;&nbsp;</span>保存到外部文件</a></span></li><li><span><a href=\"#函数耗时统计\" data-toc-modified-id=\"函数耗时统计-3.6\"><span class=\"toc-item-num\">3.6&nbsp;&nbsp;</span>函数耗时统计</a></span></li><li><span><a href=\"#python调试\" data-toc-modified-id=\"python调试-3.7\"><span class=\"toc-item-num\">3.7&nbsp;&nbsp;</span>python调试</a></span></li></ul></li><li><span><a href=\"#其他\" data-toc-modified-id=\"其他-4\"><span class=\"toc-item-num\">4&nbsp;&nbsp;</span>其他</a></span><ul class=\"toc-item\"><li><span><a href=\"#多行输出\" data-toc-modified-id=\"多行输出-4.1\"><span class=\"toc-item-num\">4.1&nbsp;&nbsp;</span>多行输出</a></span></li><li><span><a href=\"#代码自动完成\" data-toc-modified-id=\"代码自动完成-4.2\"><span class=\"toc-item-num\">4.2&nbsp;&nbsp;</span>代码自动完成</a></span></li><li><span><a href=\"#公式编辑器LaTeX\" data-toc-modified-id=\"公式编辑器LaTeX-4.3\"><span class=\"toc-item-num\">4.3&nbsp;&nbsp;</span>公式编辑器LaTeX</a></span></li><li><span><a href=\"#帮助\" data-toc-modified-id=\"帮助-4.4\"><span class=\"toc-item-num\">4.4&nbsp;&nbsp;</span>帮助</a></span></li><li><span><a href=\"#跳转\" data-toc-modified-id=\"跳转-4.5\"><span class=\"toc-item-num\">4.5&nbsp;&nbsp;</span>跳转</a></span></li></ul></li><li><span><a href=\"#扩展\" data-toc-modified-id=\"扩展-5\"><span class=\"toc-item-num\">5&nbsp;&nbsp;</span>扩展</a></span></li><li><span><a href=\"#交互工具\" data-toc-modified-id=\"交互工具-6\"><span class=\"toc-item-num\">6&nbsp;&nbsp;</span>交互工具</a></span><ul class=\"toc-item\"><li><span><a href=\"#滑块\" data-toc-modified-id=\"滑块-6.1\"><span class=\"toc-item-num\">6.1&nbsp;&nbsp;</span>滑块</a></span></li><li><span><a href=\"#选择框\" data-toc-modified-id=\"选择框-6.2\"><span class=\"toc-item-num\">6.2&nbsp;&nbsp;</span>选择框</a></span></li><li><span><a href=\"#文本框\" data-toc-modified-id=\"文本框-6.3\"><span class=\"toc-item-num\">6.3&nbsp;&nbsp;</span>文本框</a></span></li><li><span><a href=\"#播放框\" data-toc-modified-id=\"播放框-6.4\"><span class=\"toc-item-num\">6.4&nbsp;&nbsp;</span>播放框</a></span></li><li><span><a href=\"#日期选择\" data-toc-modified-id=\"日期选择-6.5\"><span class=\"toc-item-num\">6.5&nbsp;&nbsp;</span>日期选择</a></span></li><li><span><a href=\"#颜色选择\" data-toc-modified-id=\"颜色选择-6.6\"><span class=\"toc-item-num\">6.6&nbsp;&nbsp;</span>颜色选择</a></span></li><li><span><a href=\"#tab框\" data-toc-modified-id=\"tab框-6.7\"><span class=\"toc-item-num\">6.7&nbsp;&nbsp;</span>tab框</a></span></li></ul></li><li><span><a href=\"#嵌入\" data-toc-modified-id=\"嵌入-7\"><span class=\"toc-item-num\">7&nbsp;&nbsp;</span>嵌入</a></span><ul class=\"toc-item\"><li><span><a href=\"#嵌入网站\" data-toc-modified-id=\"嵌入网站-7.1\"><span class=\"toc-item-num\">7.1&nbsp;&nbsp;</span>嵌入网站</a></span></li><li><span><a href=\"#嵌入pdf\" data-toc-modified-id=\"嵌入pdf-7.2\"><span class=\"toc-item-num\">7.2&nbsp;&nbsp;</span>嵌入pdf</a></span></li><li><span><a href=\"#嵌入图像\" data-toc-modified-id=\"嵌入图像-7.3\"><span class=\"toc-item-num\">7.3&nbsp;&nbsp;</span>嵌入图像</a></span></li></ul></li><li><span><a href=\"#主题\" data-toc-modified-id=\"主题-8\"><span class=\"toc-item-num\">8&nbsp;&nbsp;</span>主题</a></span></li><li><span><a href=\"#Reference:\" data-toc-modified-id=\"Reference:-9\"><span class=\"toc-item-num\">9&nbsp;&nbsp;</span>Reference:</a></span></li></ul></div>"
   ]
  },
  {
   "cell_type": "markdown",
   "metadata": {
    "solution": "shown",
    "solution_first": true
   },
   "source": [
    "## 画图"
   ]
  },
  {
   "cell_type": "code",
   "execution_count": null,
   "metadata": {
    "ExecuteTime": {
     "end_time": "2019-04-30T14:44:08.880257Z",
     "start_time": "2019-04-30T14:44:05.406200Z"
    }
   },
   "outputs": [],
   "source": [
    "import matplotlib\n",
    "import matplotlib.pyplot as plt\n",
    "%matplotlib inline"
   ]
  },
  {
   "cell_type": "markdown",
   "metadata": {},
   "source": [
    "### 输出矢量图"
   ]
  },
  {
   "cell_type": "code",
   "execution_count": null,
   "metadata": {
    "ExecuteTime": {
     "end_time": "2019-04-30T13:56:59.235899Z",
     "start_time": "2019-04-30T13:56:55.820295Z"
    }
   },
   "outputs": [],
   "source": [
    "%config InlineBackend.figure_format = 'svg'"
   ]
  },
  {
   "cell_type": "markdown",
   "metadata": {},
   "source": [
    "### 画连接图"
   ]
  },
  {
   "cell_type": "code",
   "execution_count": null,
   "metadata": {
    "ExecuteTime": {
     "end_time": "2019-04-30T14:48:12.234197Z",
     "start_time": "2019-04-30T14:48:12.128204Z"
    },
    "scrolled": true,
    "solution": "shown"
   },
   "outputs": [],
   "source": [
    "from graphviz import Digraph\n",
    "u = Digraph()\n",
    "u.edge(\"1\", \"2\", label=\"comment\", color=\"blue\")\n",
    "u.edge(\"2\", \"2\")\n",
    "u.node(\"2\", shape=\"doublecircle\")\n",
    "u"
   ]
  },
  {
   "cell_type": "markdown",
   "metadata": {},
   "source": [
    "### 画动态图"
   ]
  },
  {
   "cell_type": "code",
   "execution_count": null,
   "metadata": {
    "ExecuteTime": {
     "end_time": "2019-04-30T13:59:20.451666Z",
     "start_time": "2019-04-30T13:59:07.251616Z"
    }
   },
   "outputs": [],
   "source": [
    "import time\n",
    "import pylab as pl\n",
    "from IPython import display\n",
    "for i in range(10):\n",
    "    pl.clf()\n",
    "    pl.plot(pl.randn(100))\n",
    "    display.display(pl.gcf())\n",
    "    display.clear_output(wait=True)\n",
    "    time.sleep(1.0)"
   ]
  },
  {
   "cell_type": "code",
   "execution_count": null,
   "metadata": {
    "ExecuteTime": {
     "end_time": "2019-04-30T13:59:29.483184Z",
     "start_time": "2019-04-30T13:59:24.009022Z"
    }
   },
   "outputs": [],
   "source": [
    "import numpy as np\n",
    "import matplotlib.pyplot as plt\n",
    "import time\n",
    "\n",
    "def pltsin(ax, colors=['b']):\n",
    "    x = np.linspace(0,1,100)\n",
    "    if ax.lines:\n",
    "        for line in ax.lines:\n",
    "            line.set_xdata(x)\n",
    "            y = np.random.random(size=(100,1))\n",
    "            line.set_ydata(y)\n",
    "    else:\n",
    "        for color in colors:\n",
    "            y = np.random.random(size=(100,1))\n",
    "            ax.plot(x, y, color)\n",
    "    fig.canvas.draw()\n",
    "\n",
    "fig,ax = plt.subplots(1,1)\n",
    "ax.set_xlabel('X')\n",
    "ax.set_ylabel('Y')\n",
    "ax.set_xlim(0,1)\n",
    "ax.set_ylim(0,1)\n",
    "for f in range(5):\n",
    "    pltsin(ax, ['b', 'r'])\n",
    "    time.sleep(1)"
   ]
  },
  {
   "cell_type": "code",
   "execution_count": null,
   "metadata": {
    "ExecuteTime": {
     "end_time": "2019-04-30T14:00:20.886728Z",
     "start_time": "2019-04-30T13:59:41.126556Z"
    }
   },
   "outputs": [],
   "source": [
    "from IPython.display import clear_output\n",
    "from matplotlib import pyplot as plt\n",
    "import collections\n",
    "\n",
    "def live_plot(data_dict, figsize=(7,5), title=''):\n",
    "    clear_output(wait=True)\n",
    "    plt.figure(figsize=figsize)\n",
    "    for label,data in data_dict.items():\n",
    "        plt.plot(data, label=label)\n",
    "    plt.title(title)\n",
    "    plt.grid(True)\n",
    "    plt.xlabel('epoch')\n",
    "    plt.legend(loc='center left') # the plot evolves to the right\n",
    "    plt.show();\n",
    "\n",
    "data = collections.defaultdict(list)\n",
    "for i in range(100):\n",
    "    data['foo'].append(np.random.random())\n",
    "    data['bar'].append(np.random.random())\n",
    "    data['baz'].append(np.random.random())\n",
    "    live_plot(data)"
   ]
  },
  {
   "cell_type": "code",
   "execution_count": null,
   "metadata": {
    "ExecuteTime": {
     "end_time": "2019-04-30T14:00:36.773191Z",
     "start_time": "2019-04-30T14:00:24.604788Z"
    }
   },
   "outputs": [],
   "source": [
    "import numpy as np\n",
    "import matplotlib.pyplot as plt\n",
    "from scipy.special import jn\n",
    "from IPython.display import display, clear_output\n",
    "import time\n",
    "x = np.linspace(0,5)\n",
    "f, ax = plt.subplots()\n",
    "ax.set_title(\"Bessel functions\")\n",
    "for n in range(1,10):\n",
    "   time.sleep(1)\n",
    "   ax.plot(x, jn(x,n))\n",
    "   clear_output(wait=True)\n",
    "   display(f)    \n",
    "plt.close()"
   ]
  },
  {
   "cell_type": "markdown",
   "metadata": {},
   "source": [
    "## 显示和隐藏Cell"
   ]
  },
  {
   "cell_type": "markdown",
   "metadata": {
    "ExecuteTime": {
     "end_time": "2019-04-30T03:35:37.881962Z",
     "start_time": "2019-04-30T03:35:37.874961Z"
    },
    "collapsed": true,
    "hide_input": false
   },
   "source": [
    "同样在其中一个cell（建议放在最开始的一个cell中）中输入一下代码，这个在你自己编辑notebook时不起作用，对导出结果中所有代码起作用：导出html或者pdf中是没有代码的。同样把它定义为函数集成在sciplot里面方便调用。"
   ]
  },
  {
   "cell_type": "code",
   "execution_count": null,
   "metadata": {
    "ExecuteTime": {
     "end_time": "2019-04-30T14:00:42.572351Z",
     "start_time": "2019-04-30T14:00:42.541102Z"
    },
    "solution": "hidden"
   },
   "outputs": [],
   "source": [
    "from IPython.display import display\n",
    "from IPython.display import HTML\n",
    "import IPython.core.display as di\n",
    "di.display_html('<script>jQuery(function() {if (jQuery(\"body.notebook_app\").length == 0) { jQuery(\".input_area\").toggle(); jQuery(\".prompt\").toggle();}});</script>', raw=True)\n",
    "CSS = \"\"\"#notebook div.output_subarea {max-width:100%;}\"\"\" #changes output_subarea width to 100% (from 100% - 14ex)\n",
    "HTML('<style>{}</style>'.format(CSS))"
   ]
  },
  {
   "cell_type": "code",
   "execution_count": null,
   "metadata": {
    "ExecuteTime": {
     "end_time": "2019-04-30T14:00:47.774051Z",
     "start_time": "2019-04-30T14:00:47.758440Z"
    }
   },
   "outputs": [],
   "source": [
    "from IPython.display import display_html\n",
    "display_html(\"\"\"<button onclick=\"$('.input, .prompt, .output_stderr, .output_error').toggle();\">Toggle Code</button>\"\"\", raw=True)\n"
   ]
  },
  {
   "cell_type": "markdown",
   "metadata": {},
   "source": [
    "隐藏/显示代码按钮\n",
    "\n",
    "在随便一个cell中加入以下代码并运行就可以得到一个按钮，点击它就可以实现隐藏和显示代码。在notebook中对所有代码起作用；但是对导出结果中只对hide所在cell起作用"
   ]
  },
  {
   "cell_type": "code",
   "execution_count": null,
   "metadata": {
    "ExecuteTime": {
     "end_time": "2019-04-30T14:01:05.359334Z",
     "start_time": "2019-04-30T14:01:05.312848Z"
    }
   },
   "outputs": [],
   "source": [
    "import ipywidgets as widgets\n",
    "from IPython.display import display, HTML\n",
    "javascript_functions = {False: \"hide()\", True: \"show()\"}\n",
    "button_descriptions  = {False: \"Show code\", True: \"Hide code\"}\n",
    "def toggle_code(state):\n",
    "    output_string = \"<script>$(\\\"div.input\\\").{}</script>\"\n",
    "    output_args   = (javascript_functions[state],)\n",
    "    output        = output_string.format(*output_args)\n",
    "    display(HTML(output))\n",
    "def button_action(value):\n",
    "    state = value.new\n",
    "    toggle_code(state)\n",
    "    value.owner.description = button_descriptions[state]\n",
    "state = False\n",
    "toggle_code(state)\n",
    "button = widgets.ToggleButton(state, description = button_descriptions[state])\n",
    "button.observe(button_action, \"value\")\n",
    "display(button)"
   ]
  },
  {
   "cell_type": "markdown",
   "metadata": {},
   "source": [
    "隐藏cell\n",
    "\n",
    "上面的隐藏代码功能，针对所有的cell里面的代码显示或者隐藏。在我们编写notebook的过程中，有时候希望隐藏指定的cell（有可能因为有些cell里面的代码太长，我们不想看到它）。可以用一下代码实现，放在每一个cell里面，运行就会出现按钮能显示或者隐藏这个cell里面的内容。\n"
   ]
  },
  {
   "cell_type": "code",
   "execution_count": null,
   "metadata": {
    "ExecuteTime": {
     "end_time": "2019-04-30T14:01:20.304967Z",
     "start_time": "2019-04-30T14:01:20.285931Z"
    }
   },
   "outputs": [],
   "source": [
    "import random\n",
    "def hidecell(for_next):\n",
    "    this_cell = \"\"\"$('div.cell.code_cell.rendered.selected')\"\"\"\n",
    "    next_cell = this_cell + '.next()'\n",
    "    toggle_text = '显示/隐藏'  # text shown on toggle link\n",
    "    target_cell = this_cell  # target cell to control with toggle\n",
    "    # bit of JS to permanently hide code in current cell (only when toggling next cell)\n",
    "    js_hide_current = ''\n",
    "    if for_next:\n",
    "        target_cell = next_cell\n",
    "        toggle_text += ' next cell'\n",
    "        js_hide_current = this_cell + '.find(\"div.input\").hide();'\n",
    "    js_f_name = 'code_toggle_{}'.format(str(random.randint(1, 2**64)))\n",
    "    html = \"\"\"\n",
    "        <script>\n",
    "            function {f_name}() {{\n",
    "                {cell_selector}.find('div.input').toggle();\n",
    "            }}\n",
    "\n",
    "            {js_hide_current}\n",
    "        </script>\n",
    "        <a href=\"javascript:{f_name}()\">{toggle_text}</a>\n",
    "    \"\"\".format(\n",
    "        f_name=js_f_name,\n",
    "        cell_selector=target_cell,\n",
    "        js_hide_current=js_hide_current,\n",
    "        toggle_text=toggle_text\n",
    "    )\n",
    "    return HTML(html)"
   ]
  },
  {
   "cell_type": "code",
   "execution_count": null,
   "metadata": {
    "ExecuteTime": {
     "end_time": "2019-04-30T14:01:24.373869Z",
     "start_time": "2019-04-30T14:01:24.342674Z"
    }
   },
   "outputs": [],
   "source": [
    "hidecell(False)"
   ]
  },
  {
   "cell_type": "markdown",
   "metadata": {},
   "source": [
    "## magic命令"
   ]
  },
  {
   "cell_type": "markdown",
   "metadata": {},
   "source": [
    "### 列出magic命令"
   ]
  },
  {
   "cell_type": "code",
   "execution_count": null,
   "metadata": {
    "ExecuteTime": {
     "end_time": "2019-04-30T14:01:36.205342Z",
     "start_time": "2019-04-30T14:01:36.174088Z"
    }
   },
   "outputs": [],
   "source": [
    "%lsmagic"
   ]
  },
  {
   "cell_type": "markdown",
   "metadata": {
    "collapsed": true
   },
   "source": [
    "### 将本地的.py文件load到jupyter的一个cell中"
   ]
  },
  {
   "cell_type": "code",
   "execution_count": null,
   "metadata": {
    "ExecuteTime": {
     "end_time": "2019-04-30T14:01:46.544810Z",
     "start_time": "2019-04-30T14:01:46.521601Z"
    }
   },
   "outputs": [],
   "source": [
    "%load test.py"
   ]
  },
  {
   "cell_type": "markdown",
   "metadata": {},
   "source": [
    "### 运行python文件"
   ]
  },
  {
   "cell_type": "code",
   "execution_count": null,
   "metadata": {
    "ExecuteTime": {
     "end_time": "2019-04-30T14:02:05.759541Z",
     "start_time": "2019-04-30T14:02:05.726980Z"
    }
   },
   "outputs": [],
   "source": [
    "%run test.py"
   ]
  },
  {
   "cell_type": "markdown",
   "metadata": {},
   "source": [
    "### 列出所有的全局变量"
   ]
  },
  {
   "cell_type": "code",
   "execution_count": null,
   "metadata": {
    "ExecuteTime": {
     "end_time": "2019-04-30T14:02:08.958003Z",
     "start_time": "2019-04-30T14:02:08.921454Z"
    }
   },
   "outputs": [],
   "source": [
    "%who"
   ]
  },
  {
   "cell_type": "markdown",
   "metadata": {},
   "source": [
    "### 保存到外部文件\n",
    "\n",
    "使用%%writefile magic可以保存cell的内容到外部文件。 而%pycat功能相反，把外部文件语法高亮显示（以弹出窗方式）"
   ]
  },
  {
   "cell_type": "code",
   "execution_count": null,
   "metadata": {
    "ExecuteTime": {
     "end_time": "2019-04-30T14:02:14.067607Z",
     "start_time": "2019-04-30T14:02:14.051987Z"
    }
   },
   "outputs": [],
   "source": [
    "%%writefile pythoncode.py \n",
    "import numpy \n",
    "def append_if_not_exists(arr, x): \n",
    "    if x not in arr: \n",
    "        arr.append(x) \n",
    "\n",
    "def some_useless_slow_function(): \n",
    "    arr = list() \n",
    "    for i in range(10000): \n",
    "        x = numpy.random.randint(0, 10000) \n",
    "        append_if_not_exists(arr, x)"
   ]
  },
  {
   "cell_type": "code",
   "execution_count": null,
   "metadata": {
    "ExecuteTime": {
     "end_time": "2019-04-30T14:02:17.620410Z",
     "start_time": "2019-04-30T14:02:17.604769Z"
    }
   },
   "outputs": [],
   "source": [
    "%pycat pythoncode.py"
   ]
  },
  {
   "cell_type": "markdown",
   "metadata": {},
   "source": [
    "### 函数耗时统计\n",
    "\n",
    "使用%prun+函数声明会给你一个按顺序排列的表格，显示每个内部函数的耗时情况，每次调用函数的耗时情况，以及累计耗时。\n"
   ]
  },
  {
   "cell_type": "code",
   "execution_count": null,
   "metadata": {},
   "outputs": [],
   "source": [
    "%prun some_useless_slow_function()"
   ]
  },
  {
   "cell_type": "markdown",
   "metadata": {},
   "source": [
    "### python调试"
   ]
  },
  {
   "cell_type": "code",
   "execution_count": null,
   "metadata": {
    "ExecuteTime": {
     "end_time": "2019-04-30T14:08:42.422508Z",
     "start_time": "2019-04-30T14:08:42.391281Z"
    }
   },
   "outputs": [],
   "source": [
    "%pdb"
   ]
  },
  {
   "cell_type": "markdown",
   "metadata": {},
   "source": [
    "## 其他"
   ]
  },
  {
   "cell_type": "markdown",
   "metadata": {},
   "source": [
    "### 多行输出\n",
    "在Notebook的中开头cell中添加以下代码可以实现多行输出"
   ]
  },
  {
   "cell_type": "code",
   "execution_count": null,
   "metadata": {
    "ExecuteTime": {
     "end_time": "2019-04-30T14:02:26.424229Z",
     "start_time": "2019-04-30T14:02:26.408601Z"
    }
   },
   "outputs": [],
   "source": [
    "from IPython.core.interactiveshell import InteractiveShell \n",
    "InteractiveShell.ast_node_interactivity = 'all' #默认为'last'"
   ]
  },
  {
   "cell_type": "markdown",
   "metadata": {},
   "source": [
    "### 代码自动完成\n",
    "\n",
    "在代码顶部添加%config IPCompleter.greedy=True这一行并且shift+回车运行，对于接下来运行过的内容都会被列入自动提示中。\n",
    "按Tab键弹出自动提示\n",
    "如下图，输入my然后Tab键就弹出上面自定义的两个变量名，然后按回车直接输入myCount，按向下箭头键再回车就输入myNum。\n"
   ]
  },
  {
   "cell_type": "code",
   "execution_count": null,
   "metadata": {
    "ExecuteTime": {
     "end_time": "2019-04-30T14:02:29.822272Z",
     "start_time": "2019-04-30T14:02:29.791060Z"
    }
   },
   "outputs": [],
   "source": [
    "%config IPCompleter.greedy=True"
   ]
  },
  {
   "cell_type": "markdown",
   "metadata": {},
   "source": [
    "### 公式编辑器LaTeX"
   ]
  },
  {
   "cell_type": "markdown",
   "metadata": {},
   "source": [
    "Notebook的Markdown单元是支持LateX公式编辑的，比如输入“\\\\( P(A \\mid B) = \\frac{P(B \\mid A) \\, P(A)}{P(B)} \\\\)”运行得到下图"
   ]
  },
  {
   "cell_type": "markdown",
   "metadata": {},
   "source": [
    "\\\\( P(A \\mid B) = \\frac{P(B \\mid A) \\, P(A)}{P(B)} \\\\)"
   ]
  },
  {
   "cell_type": "markdown",
   "metadata": {},
   "source": [
    "### 帮助"
   ]
  },
  {
   "cell_type": "markdown",
   "metadata": {},
   "source": [
    "在库、方法或变量的前面打上?，即可打开相关语法的帮助文档。"
   ]
  },
  {
   "cell_type": "code",
   "execution_count": null,
   "metadata": {
    "ExecuteTime": {
     "end_time": "2019-04-30T14:02:36.158728Z",
     "start_time": "2019-04-30T14:02:36.127475Z"
    }
   },
   "outputs": [],
   "source": [
    "?str.replace()"
   ]
  },
  {
   "cell_type": "markdown",
   "metadata": {},
   "source": [
    "### 跳转\n",
    "\n",
    "在jupyter中设置link，需要设置两部分\n",
    "\n",
    "[the_destination](#the_destination)"
   ]
  },
  {
   "cell_type": "markdown",
   "metadata": {},
   "source": [
    "<a id='the_destination'></a>\n",
    "dest"
   ]
  },
  {
   "cell_type": "markdown",
   "metadata": {
    "collapsed": true
   },
   "source": [
    "## 扩展\n",
    "\n",
    "Hinterland功能可以让你每敲完一个键，就出现下拉菜单，可以直接选中你需要的词汇。\n",
    "\n",
    "Snippets在工具栏里加了一个下拉菜单，可以非常方便的直接插入代码段，完全不用手动敲。\n",
    "\n",
    "Table of contents这个功能可以自动找到所有的标题，生成目录。并且这个目录还是移动的呦，你可以放在侧边栏，也可以拖动到任何你喜欢的地方悬浮起来。"
   ]
  },
  {
   "cell_type": "markdown",
   "metadata": {},
   "source": [
    "## 交互工具\n",
    "\n",
    "还有一些Jupyter小工具，比如滑块、文本框之类的部分，可以做一些方便的交互。\n",
    "\n",
    "https://github.com/jupyter-widgets/ipywidgets"
   ]
  },
  {
   "cell_type": "markdown",
   "metadata": {},
   "source": [
    "### 滑块"
   ]
  },
  {
   "cell_type": "code",
   "execution_count": null,
   "metadata": {
    "ExecuteTime": {
     "end_time": "2019-04-30T14:02:45.774048Z",
     "start_time": "2019-04-30T14:02:45.667654Z"
    }
   },
   "outputs": [],
   "source": [
    "from ipywidgets import interact\n",
    "import ipywidgets as widgets\n",
    "\n",
    "def f(x):\n",
    "    return x\n",
    "# Generate a slider \n",
    "interact(f, x=10,);"
   ]
  },
  {
   "cell_type": "markdown",
   "metadata": {},
   "source": [
    "### 选择框"
   ]
  },
  {
   "cell_type": "code",
   "execution_count": null,
   "metadata": {
    "ExecuteTime": {
     "end_time": "2019-04-30T14:02:48.515751Z",
     "start_time": "2019-04-30T14:02:48.435788Z"
    }
   },
   "outputs": [],
   "source": [
    "# Booleans generate check-boxes\n",
    "interact(f, x=True);"
   ]
  },
  {
   "cell_type": "markdown",
   "metadata": {},
   "source": [
    "### 文本框"
   ]
  },
  {
   "cell_type": "code",
   "execution_count": null,
   "metadata": {
    "ExecuteTime": {
     "end_time": "2019-04-30T14:02:51.204731Z",
     "start_time": "2019-04-30T14:02:51.126608Z"
    }
   },
   "outputs": [],
   "source": [
    "# Strings generate text areas\n",
    "interact(f, x='Hi there!');"
   ]
  },
  {
   "cell_type": "markdown",
   "metadata": {},
   "source": [
    "### 播放框"
   ]
  },
  {
   "cell_type": "code",
   "execution_count": null,
   "metadata": {
    "ExecuteTime": {
     "end_time": "2019-04-30T14:02:54.293970Z",
     "start_time": "2019-04-30T14:02:54.206393Z"
    }
   },
   "outputs": [],
   "source": [
    "play = widgets.Play(\n",
    "  # interval=10,\n",
    "  value=50,\n",
    " min=0,\n",
    " max=100,\n",
    " step=1,\n",
    " description=\"Press play\",\n",
    " disabled=False\n",
    ")\n",
    "slider = widgets.IntSlider()\n",
    "widgets.jslink((play, 'value'), (slider, 'value'))\n",
    "widgets.HBox([play, slider])"
   ]
  },
  {
   "cell_type": "markdown",
   "metadata": {},
   "source": [
    "### 日期选择"
   ]
  },
  {
   "cell_type": "code",
   "execution_count": null,
   "metadata": {
    "ExecuteTime": {
     "end_time": "2019-04-30T14:02:56.988937Z",
     "start_time": "2019-04-30T14:02:56.942054Z"
    }
   },
   "outputs": [],
   "source": [
    "widgets.DatePicker(\n",
    " description='Pick a Date',\n",
    " disabled=False\n",
    ")\n"
   ]
  },
  {
   "cell_type": "markdown",
   "metadata": {},
   "source": [
    "### 颜色选择"
   ]
  },
  {
   "cell_type": "code",
   "execution_count": null,
   "metadata": {
    "ExecuteTime": {
     "end_time": "2019-04-30T14:03:02.324529Z",
     "start_time": "2019-04-30T14:03:02.283542Z"
    }
   },
   "outputs": [],
   "source": [
    "widgets.ColorPicker(\n",
    " concise=False,\n",
    " description='Pick a color',\n",
    " value='blue',\n",
    " disabled=False\n",
    ")"
   ]
  },
  {
   "cell_type": "markdown",
   "metadata": {},
   "source": [
    "### tab框"
   ]
  },
  {
   "cell_type": "code",
   "execution_count": null,
   "metadata": {
    "ExecuteTime": {
     "end_time": "2019-04-30T14:03:05.789521Z",
     "start_time": "2019-04-30T14:03:05.620823Z"
    }
   },
   "outputs": [],
   "source": [
    "tab_contents = ['P0', 'P1', 'P2', 'P3', 'P4']\n",
    "children = [widgets.Text(description=name) for name in tab_contents]\n",
    "tab = widgets.Tab()\n",
    "tab.children = children\n",
    "for i in range(len(children)):\n",
    "    tab.set_title(i, str(i))\n",
    "tab"
   ]
  },
  {
   "cell_type": "markdown",
   "metadata": {},
   "source": [
    "## 嵌入"
   ]
  },
  {
   "cell_type": "markdown",
   "metadata": {},
   "source": [
    "### 嵌入网站"
   ]
  },
  {
   "cell_type": "code",
   "execution_count": null,
   "metadata": {
    "ExecuteTime": {
     "end_time": "2019-04-30T14:03:09.484632Z",
     "start_time": "2019-04-30T14:03:09.453383Z"
    }
   },
   "outputs": [],
   "source": [
    "#Note that http urls will not be displayed. Only https are allowed inside the Iframe\n",
    "from IPython.display import IFrame\n",
    "IFrame('http://www.baidu.com', width=800, height=450)"
   ]
  },
  {
   "cell_type": "markdown",
   "metadata": {
    "ExecuteTime": {
     "end_time": "2019-04-30T08:56:17.812528Z",
     "start_time": "2019-04-30T08:56:17.797329Z"
    }
   },
   "source": [
    "### 嵌入pdf"
   ]
  },
  {
   "cell_type": "code",
   "execution_count": null,
   "metadata": {
    "ExecuteTime": {
     "end_time": "2019-04-30T14:03:18.822191Z",
     "start_time": "2019-04-30T14:03:18.790941Z"
    }
   },
   "outputs": [],
   "source": [
    "from IPython.display import IFrame\n",
    "IFrame('https://arxiv.org/pdf/1406.2661.pdf', width=800, height=450)"
   ]
  },
  {
   "cell_type": "markdown",
   "metadata": {},
   "source": [
    "### 嵌入图像\n",
    "\n",
    "notebook 以 HTML 的方式进行展示，cell 的输出也可以是 HTML，所以事实上你可以返回任何东西：视频/音频/图像。\n",
    "\n",
    "下面代码扫描了当前目录下的 png 文件，并输出它们的缩略图.\n"
   ]
  },
  {
   "cell_type": "code",
   "execution_count": null,
   "metadata": {
    "ExecuteTime": {
     "end_time": "2019-04-30T14:03:38.511953Z",
     "start_time": "2019-04-30T14:03:38.075250Z"
    }
   },
   "outputs": [],
   "source": [
    "import os\n",
    "from IPython.display import display, Image\n",
    "names = [f for f in os.listdir('./') if f.endswith('.png')]\n",
    "for name in names[:5]:\n",
    "    display(Image('./' + name, width=100))"
   ]
  },
  {
   "cell_type": "markdown",
   "metadata": {},
   "source": [
    "## 主题\n",
    "\n",
    "第一步：安装\n",
    "\n",
    "pip install --upgrade jupyterthemes\n",
    "\n",
    "第二步：查看可用的主题\n",
    "\n",
    "jt -l\n",
    "\n",
    "第三步：设置主题及格式\n",
    "\n",
    "比如想修改主题和代码字体：\n",
    "\n",
    "jt -t oceans16 -f fira\n",
    "\n",
    "例如设置：\n",
    "\n",
    "jt -t monokai -f fira -fs 10 -cellw 90% -ofs 10 -dfs 10 -T -nfs 10 -tfs 10"
   ]
  },
  {
   "cell_type": "markdown",
   "metadata": {
    "solution": "hidden"
   },
   "source": [
    "## Reference:\n",
    "\n",
    "https://blog.csdn.net/tina_ttl/article/details/51031113#\n",
    "\n",
    "https://www.jianshu.com/p/a85bc2a8fa56\n",
    "\n",
    "https://www.zhihu.com/question/59392251\n",
    "\n",
    "http://bokeh.pydata.org/en/latest/docs/user_guide/notebook.html\n",
    "\n",
    "http://liuchengxu.org/pelican-blog/jupyter-notebook-tips.html\n",
    "\n",
    "https://zhuanlan.zhihu.com/p/36389916\n",
    "\n",
    "https://medium.com/m/global-identity?redirectUrl=https%3A%2F%2Ftowardsdatascience.com%2Finteractive-visualizations-in-jupyter-notebook-3be02ab2b8cd\n",
    "\n",
    "https://mortada.net/easily-profile-python-code-in-jupyter.html\n",
    "\n",
    "https://github.com/QuantStack/xeus-cling\n",
    "\n",
    "https://medium.com/m/global-identity?redirectUrl=https%3A%2F%2Fblog.jupyter.org%2Fa-diagram-editor-for-jupyterlab-a254121ff919\n",
    "\n",
    "https://medium.com/@r_kierzkowski/10-tips-on-using-jupyter-notebook-abc0ba7028a4\n",
    "\n",
    "https://xeus-cling.readthedocs.io/en/latest/"
   ]
  },
  {
   "cell_type": "code",
   "execution_count": null,
   "metadata": {},
   "outputs": [],
   "source": []
  }
 ],
 "metadata": {
  "kernelspec": {
   "display_name": "Python 3",
   "language": "python",
   "name": "python3"
  },
  "language_info": {
   "codemirror_mode": {
    "name": "ipython",
    "version": 3
   },
   "file_extension": ".py",
   "mimetype": "text/x-python",
   "name": "python",
   "nbconvert_exporter": "python",
   "pygments_lexer": "ipython3",
   "version": "3.6.1"
  },
  "toc": {
   "base_numbering": 1,
   "nav_menu": {},
   "number_sections": true,
   "sideBar": true,
   "skip_h1_title": true,
   "title_cell": "Table of Contents",
   "title_sidebar": "Contents",
   "toc_cell": true,
   "toc_position": {
    "height": "calc(100% - 180px)",
    "left": "10px",
    "top": "150px",
    "width": "256px"
   },
   "toc_section_display": true,
   "toc_window_display": true
  }
 },
 "nbformat": 4,
 "nbformat_minor": 2
}
