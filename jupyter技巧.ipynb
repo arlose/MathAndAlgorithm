{
 "cells": [
  {
   "cell_type": "markdown",
   "metadata": {
    "toc": true
   },
   "source": [
    "<h1>Table of Contents<span class=\"tocSkip\"></span></h1>\n",
    "<div class=\"toc\"><ul class=\"toc-item\"><li><span><a href=\"#画图\" data-toc-modified-id=\"画图-1\"><span class=\"toc-item-num\">1&nbsp;&nbsp;</span>画图</a></span><ul class=\"toc-item\"><li><span><a href=\"#输出矢量图\" data-toc-modified-id=\"输出矢量图-1.1\"><span class=\"toc-item-num\">1.1&nbsp;&nbsp;</span>输出矢量图</a></span></li><li><span><a href=\"#画连接图\" data-toc-modified-id=\"画连接图-1.2\"><span class=\"toc-item-num\">1.2&nbsp;&nbsp;</span>画连接图</a></span></li><li><span><a href=\"#画动态图\" data-toc-modified-id=\"画动态图-1.3\"><span class=\"toc-item-num\">1.3&nbsp;&nbsp;</span>画动态图</a></span></li></ul></li><li><span><a href=\"#显示和隐藏Cell\" data-toc-modified-id=\"显示和隐藏Cell-2\"><span class=\"toc-item-num\">2&nbsp;&nbsp;</span>显示和隐藏Cell</a></span></li><li><span><a href=\"#magic命令\" data-toc-modified-id=\"magic命令-3\"><span class=\"toc-item-num\">3&nbsp;&nbsp;</span>magic命令</a></span><ul class=\"toc-item\"><li><span><a href=\"#列出magic命令\" data-toc-modified-id=\"列出magic命令-3.1\"><span class=\"toc-item-num\">3.1&nbsp;&nbsp;</span>列出magic命令</a></span></li><li><span><a href=\"#将本地的.py文件load到jupyter的一个cell中\" data-toc-modified-id=\"将本地的.py文件load到jupyter的一个cell中-3.2\"><span class=\"toc-item-num\">3.2&nbsp;&nbsp;</span>将本地的.py文件load到jupyter的一个cell中</a></span></li><li><span><a href=\"#运行python文件\" data-toc-modified-id=\"运行python文件-3.3\"><span class=\"toc-item-num\">3.3&nbsp;&nbsp;</span>运行python文件</a></span></li><li><span><a href=\"#列出所有的全局变量\" data-toc-modified-id=\"列出所有的全局变量-3.4\"><span class=\"toc-item-num\">3.4&nbsp;&nbsp;</span>列出所有的全局变量</a></span></li><li><span><a href=\"#保存到外部文件\" data-toc-modified-id=\"保存到外部文件-3.5\"><span class=\"toc-item-num\">3.5&nbsp;&nbsp;</span>保存到外部文件</a></span></li><li><span><a href=\"#函数耗时统计\" data-toc-modified-id=\"函数耗时统计-3.6\"><span class=\"toc-item-num\">3.6&nbsp;&nbsp;</span>函数耗时统计</a></span></li><li><span><a href=\"#python调试\" data-toc-modified-id=\"python调试-3.7\"><span class=\"toc-item-num\">3.7&nbsp;&nbsp;</span>python调试</a></span></li></ul></li><li><span><a href=\"#其他\" data-toc-modified-id=\"其他-4\"><span class=\"toc-item-num\">4&nbsp;&nbsp;</span>其他</a></span><ul class=\"toc-item\"><li><span><a href=\"#多行输出\" data-toc-modified-id=\"多行输出-4.1\"><span class=\"toc-item-num\">4.1&nbsp;&nbsp;</span>多行输出</a></span></li><li><span><a href=\"#代码自动完成\" data-toc-modified-id=\"代码自动完成-4.2\"><span class=\"toc-item-num\">4.2&nbsp;&nbsp;</span>代码自动完成</a></span></li><li><span><a href=\"#公式编辑器LaTeX\" data-toc-modified-id=\"公式编辑器LaTeX-4.3\"><span class=\"toc-item-num\">4.3&nbsp;&nbsp;</span>公式编辑器LaTeX</a></span></li><li><span><a href=\"#帮助\" data-toc-modified-id=\"帮助-4.4\"><span class=\"toc-item-num\">4.4&nbsp;&nbsp;</span>帮助</a></span></li><li><span><a href=\"#跳转\" data-toc-modified-id=\"跳转-4.5\"><span class=\"toc-item-num\">4.5&nbsp;&nbsp;</span>跳转</a></span></li></ul></li><li><span><a href=\"#扩展\" data-toc-modified-id=\"扩展-5\"><span class=\"toc-item-num\">5&nbsp;&nbsp;</span>扩展</a></span></li><li><span><a href=\"#交互工具\" data-toc-modified-id=\"交互工具-6\"><span class=\"toc-item-num\">6&nbsp;&nbsp;</span>交互工具</a></span><ul class=\"toc-item\"><li><span><a href=\"#滑块\" data-toc-modified-id=\"滑块-6.1\"><span class=\"toc-item-num\">6.1&nbsp;&nbsp;</span>滑块</a></span></li><li><span><a href=\"#选择框\" data-toc-modified-id=\"选择框-6.2\"><span class=\"toc-item-num\">6.2&nbsp;&nbsp;</span>选择框</a></span></li><li><span><a href=\"#文本框\" data-toc-modified-id=\"文本框-6.3\"><span class=\"toc-item-num\">6.3&nbsp;&nbsp;</span>文本框</a></span></li><li><span><a href=\"#播放框\" data-toc-modified-id=\"播放框-6.4\"><span class=\"toc-item-num\">6.4&nbsp;&nbsp;</span>播放框</a></span></li><li><span><a href=\"#日期选择\" data-toc-modified-id=\"日期选择-6.5\"><span class=\"toc-item-num\">6.5&nbsp;&nbsp;</span>日期选择</a></span></li><li><span><a href=\"#颜色选择\" data-toc-modified-id=\"颜色选择-6.6\"><span class=\"toc-item-num\">6.6&nbsp;&nbsp;</span>颜色选择</a></span></li><li><span><a href=\"#tab框\" data-toc-modified-id=\"tab框-6.7\"><span class=\"toc-item-num\">6.7&nbsp;&nbsp;</span>tab框</a></span></li><li><span><a href=\"#图像选择\" data-toc-modified-id=\"图像选择-6.8\"><span class=\"toc-item-num\">6.8&nbsp;&nbsp;</span>图像选择</a></span></li></ul></li><li><span><a href=\"#嵌入\" data-toc-modified-id=\"嵌入-7\"><span class=\"toc-item-num\">7&nbsp;&nbsp;</span>嵌入</a></span><ul class=\"toc-item\"><li><span><a href=\"#嵌入网站\" data-toc-modified-id=\"嵌入网站-7.1\"><span class=\"toc-item-num\">7.1&nbsp;&nbsp;</span>嵌入网站</a></span></li><li><span><a href=\"#嵌入pdf\" data-toc-modified-id=\"嵌入pdf-7.2\"><span class=\"toc-item-num\">7.2&nbsp;&nbsp;</span>嵌入pdf</a></span></li><li><span><a href=\"#嵌入图像\" data-toc-modified-id=\"嵌入图像-7.3\"><span class=\"toc-item-num\">7.3&nbsp;&nbsp;</span>嵌入图像</a></span></li></ul></li><li><span><a href=\"#主题\" data-toc-modified-id=\"主题-8\"><span class=\"toc-item-num\">8&nbsp;&nbsp;</span>主题</a></span></li><li><span><a href=\"#导出\" data-toc-modified-id=\"导出-9\"><span class=\"toc-item-num\">9&nbsp;&nbsp;</span>导出</a></span></li><li><span><a href=\"#Reference:\" data-toc-modified-id=\"Reference:-10\"><span class=\"toc-item-num\">10&nbsp;&nbsp;</span>Reference:</a></span></li></ul></div>"
   ]
  },
  {
   "cell_type": "markdown",
   "metadata": {
    "solution": "shown",
    "solution_first": true
   },
   "source": [
    "## 画图"
   ]
  },
  {
   "cell_type": "code",
   "execution_count": 1,
   "metadata": {
    "ExecuteTime": {
     "end_time": "2019-05-05T09:29:00.189905Z",
     "start_time": "2019-05-05T09:28:59.660063Z"
    }
   },
   "outputs": [],
   "source": [
    "import matplotlib\n",
    "import matplotlib.pyplot as plt\n",
    "%matplotlib inline"
   ]
  },
  {
   "cell_type": "markdown",
   "metadata": {},
   "source": [
    "### 输出矢量图"
   ]
  },
  {
   "cell_type": "code",
   "execution_count": 2,
   "metadata": {
    "ExecuteTime": {
     "end_time": "2019-05-05T09:29:02.235020Z",
     "start_time": "2019-05-05T09:29:02.219812Z"
    }
   },
   "outputs": [],
   "source": [
    "%config InlineBackend.figure_format = 'svg'"
   ]
  },
  {
   "cell_type": "markdown",
   "metadata": {},
   "source": [
    "### 画连接图"
   ]
  },
  {
   "cell_type": "code",
   "execution_count": 3,
   "metadata": {
    "ExecuteTime": {
     "end_time": "2019-05-05T09:29:03.969673Z",
     "start_time": "2019-05-05T09:29:03.854556Z"
    },
    "scrolled": true,
    "solution": "shown"
   },
   "outputs": [
    {
     "data": {
      "image/svg+xml": [
       "<?xml version=\"1.0\" encoding=\"UTF-8\" standalone=\"no\"?>\n",
       "<!DOCTYPE svg PUBLIC \"-//W3C//DTD SVG 1.1//EN\"\n",
       " \"http://www.w3.org/Graphics/SVG/1.1/DTD/svg11.dtd\">\n",
       "<!-- Generated by graphviz version 2.40.1 (20161225.0304)\n",
       " -->\n",
       "<!-- Title: %3 Pages: 1 -->\n",
       "<svg width=\"87pt\" height=\"138pt\"\n",
       " viewBox=\"0.00 0.00 87.10 138.00\" xmlns=\"http://www.w3.org/2000/svg\" xmlns:xlink=\"http://www.w3.org/1999/xlink\">\n",
       "<g id=\"graph0\" class=\"graph\" transform=\"scale(1 1) rotate(0) translate(4 134)\">\n",
       "<title>%3</title>\n",
       "<polygon fill=\"#ffffff\" stroke=\"transparent\" points=\"-4,4 -4,-134 83.0967,-134 83.0967,4 -4,4\"/>\n",
       "<!-- 1 -->\n",
       "<g id=\"node1\" class=\"node\">\n",
       "<title>1</title>\n",
       "<ellipse fill=\"none\" stroke=\"#000000\" cx=\"27\" cy=\"-112\" rx=\"27\" ry=\"18\"/>\n",
       "<text text-anchor=\"middle\" x=\"27\" y=\"-107.8\" font-family=\"Times,serif\" font-size=\"14.00\" fill=\"#000000\">1</text>\n",
       "</g>\n",
       "<!-- 2 -->\n",
       "<g id=\"node2\" class=\"node\">\n",
       "<title>2</title>\n",
       "<ellipse fill=\"none\" stroke=\"#000000\" cx=\"27\" cy=\"-22\" rx=\"18\" ry=\"18\"/>\n",
       "<ellipse fill=\"none\" stroke=\"#000000\" cx=\"27\" cy=\"-22\" rx=\"22\" ry=\"22\"/>\n",
       "<text text-anchor=\"middle\" x=\"27\" y=\"-17.8\" font-family=\"Times,serif\" font-size=\"14.00\" fill=\"#000000\">2</text>\n",
       "</g>\n",
       "<!-- 1&#45;&gt;2 -->\n",
       "<g id=\"edge1\" class=\"edge\">\n",
       "<title>1&#45;&gt;2</title>\n",
       "<path fill=\"none\" stroke=\"#0000ff\" d=\"M27,-93.7872C27,-82.439 27,-67.5173 27,-54.2194\"/>\n",
       "<polygon fill=\"#0000ff\" stroke=\"#0000ff\" points=\"30.5001,-54.002 27,-44.0021 23.5001,-54.0021 30.5001,-54.002\"/>\n",
       "<text text-anchor=\"middle\" x=\"53.0483\" y=\"-64.8\" font-family=\"Times,serif\" font-size=\"14.00\" fill=\"#000000\">comment</text>\n",
       "</g>\n",
       "<!-- 2&#45;&gt;2 -->\n",
       "<g id=\"edge2\" class=\"edge\">\n",
       "<title>2&#45;&gt;2</title>\n",
       "<path fill=\"none\" stroke=\"#000000\" d=\"M47.5808,-30.3702C57.8447,-31.5284 67,-28.7383 67,-22 67,-17.6833 63.2427,-14.9869 57.8436,-13.9109\"/>\n",
       "<polygon fill=\"#000000\" stroke=\"#000000\" points=\"57.6729,-10.405 47.5808,-13.6298 57.4812,-17.4024 57.6729,-10.405\"/>\n",
       "</g>\n",
       "</g>\n",
       "</svg>\n"
      ],
      "text/plain": [
       "<graphviz.dot.Digraph at 0x114a16198>"
      ]
     },
     "execution_count": 3,
     "metadata": {},
     "output_type": "execute_result"
    }
   ],
   "source": [
    "from graphviz import Digraph\n",
    "u = Digraph()\n",
    "u.edge(\"1\", \"2\", label=\"comment\", color=\"blue\")\n",
    "u.edge(\"2\", \"2\")\n",
    "u.node(\"2\", shape=\"doublecircle\")\n",
    "u"
   ]
  },
  {
   "cell_type": "markdown",
   "metadata": {},
   "source": [
    "### 画动态图"
   ]
  },
  {
   "cell_type": "code",
   "execution_count": 4,
   "metadata": {
    "ExecuteTime": {
     "end_time": "2019-05-05T09:29:18.017337Z",
     "start_time": "2019-05-05T09:29:06.069874Z"
    }
   },
   "outputs": [
    {
     "data": {
      "image/svg+xml": [
       "<?xml version=\"1.0\" encoding=\"utf-8\" standalone=\"no\"?>\n",
       "<!DOCTYPE svg PUBLIC \"-//W3C//DTD SVG 1.1//EN\"\n",
       "  \"http://www.w3.org/Graphics/SVG/1.1/DTD/svg11.dtd\">\n",
       "<!-- Created with matplotlib (http://matplotlib.org/) -->\n",
       "<svg height=\"252pt\" version=\"1.1\" viewBox=\"0 0 374 252\" width=\"374pt\" xmlns=\"http://www.w3.org/2000/svg\" xmlns:xlink=\"http://www.w3.org/1999/xlink\">\n",
       " <defs>\n",
       "  <style type=\"text/css\">\n",
       "*{stroke-linecap:butt;stroke-linejoin:round;}\n",
       "  </style>\n",
       " </defs>\n",
       " <g id=\"figure_1\">\n",
       "  <g id=\"patch_1\">\n",
       "   <path d=\"M 0 252.018125 \n",
       "L 374.442187 252.018125 \n",
       "L 374.442187 0 \n",
       "L 0 0 \n",
       "z\n",
       "\" style=\"fill:none;\"/>\n",
       "  </g>\n",
       "  <g id=\"axes_1\">\n",
       "   <g id=\"patch_2\">\n",
       "    <path d=\"M 28.942188 228.14 \n",
       "L 363.742188 228.14 \n",
       "L 363.742188 10.7 \n",
       "L 28.942188 10.7 \n",
       "z\n",
       "\" style=\"fill:#ffffff;\"/>\n",
       "   </g>\n",
       "   <g id=\"matplotlib.axis_1\">\n",
       "    <g id=\"xtick_1\">\n",
       "     <g id=\"line2d_1\">\n",
       "      <defs>\n",
       "       <path d=\"M 0 0 \n",
       "L 0 3.5 \n",
       "\" id=\"mf85a90a64c\" style=\"stroke:#000000;stroke-width:0.8;\"/>\n",
       "      </defs>\n",
       "      <g>\n",
       "       <use style=\"stroke:#000000;stroke-width:0.8;\" x=\"44.160369\" xlink:href=\"#mf85a90a64c\" y=\"228.14\"/>\n",
       "      </g>\n",
       "     </g>\n",
       "     <g id=\"text_1\">\n",
       "      <!-- 0 -->\n",
       "      <defs>\n",
       "       <path d=\"M 31.78125 66.40625 \n",
       "Q 24.171875 66.40625 20.328125 58.90625 \n",
       "Q 16.5 51.421875 16.5 36.375 \n",
       "Q 16.5 21.390625 20.328125 13.890625 \n",
       "Q 24.171875 6.390625 31.78125 6.390625 \n",
       "Q 39.453125 6.390625 43.28125 13.890625 \n",
       "Q 47.125 21.390625 47.125 36.375 \n",
       "Q 47.125 51.421875 43.28125 58.90625 \n",
       "Q 39.453125 66.40625 31.78125 66.40625 \n",
       "z\n",
       "M 31.78125 74.21875 \n",
       "Q 44.046875 74.21875 50.515625 64.515625 \n",
       "Q 56.984375 54.828125 56.984375 36.375 \n",
       "Q 56.984375 17.96875 50.515625 8.265625 \n",
       "Q 44.046875 -1.421875 31.78125 -1.421875 \n",
       "Q 19.53125 -1.421875 13.0625 8.265625 \n",
       "Q 6.59375 17.96875 6.59375 36.375 \n",
       "Q 6.59375 54.828125 13.0625 64.515625 \n",
       "Q 19.53125 74.21875 31.78125 74.21875 \n",
       "z\n",
       "\" id=\"DejaVuSans-30\"/>\n",
       "      </defs>\n",
       "      <g transform=\"translate(40.979119 242.738437)scale(0.1 -0.1)\">\n",
       "       <use xlink:href=\"#DejaVuSans-30\"/>\n",
       "      </g>\n",
       "     </g>\n",
       "    </g>\n",
       "    <g id=\"xtick_2\">\n",
       "     <g id=\"line2d_2\">\n",
       "      <g>\n",
       "       <use style=\"stroke:#000000;stroke-width:0.8;\" x=\"105.647973\" xlink:href=\"#mf85a90a64c\" y=\"228.14\"/>\n",
       "      </g>\n",
       "     </g>\n",
       "     <g id=\"text_2\">\n",
       "      <!-- 20 -->\n",
       "      <defs>\n",
       "       <path d=\"M 19.1875 8.296875 \n",
       "L 53.609375 8.296875 \n",
       "L 53.609375 0 \n",
       "L 7.328125 0 \n",
       "L 7.328125 8.296875 \n",
       "Q 12.9375 14.109375 22.625 23.890625 \n",
       "Q 32.328125 33.6875 34.8125 36.53125 \n",
       "Q 39.546875 41.84375 41.421875 45.53125 \n",
       "Q 43.3125 49.21875 43.3125 52.78125 \n",
       "Q 43.3125 58.59375 39.234375 62.25 \n",
       "Q 35.15625 65.921875 28.609375 65.921875 \n",
       "Q 23.96875 65.921875 18.8125 64.3125 \n",
       "Q 13.671875 62.703125 7.8125 59.421875 \n",
       "L 7.8125 69.390625 \n",
       "Q 13.765625 71.78125 18.9375 73 \n",
       "Q 24.125 74.21875 28.421875 74.21875 \n",
       "Q 39.75 74.21875 46.484375 68.546875 \n",
       "Q 53.21875 62.890625 53.21875 53.421875 \n",
       "Q 53.21875 48.921875 51.53125 44.890625 \n",
       "Q 49.859375 40.875 45.40625 35.40625 \n",
       "Q 44.1875 33.984375 37.640625 27.21875 \n",
       "Q 31.109375 20.453125 19.1875 8.296875 \n",
       "z\n",
       "\" id=\"DejaVuSans-32\"/>\n",
       "      </defs>\n",
       "      <g transform=\"translate(99.285473 242.738437)scale(0.1 -0.1)\">\n",
       "       <use xlink:href=\"#DejaVuSans-32\"/>\n",
       "       <use x=\"63.623047\" xlink:href=\"#DejaVuSans-30\"/>\n",
       "      </g>\n",
       "     </g>\n",
       "    </g>\n",
       "    <g id=\"xtick_3\">\n",
       "     <g id=\"line2d_3\">\n",
       "      <g>\n",
       "       <use style=\"stroke:#000000;stroke-width:0.8;\" x=\"167.135576\" xlink:href=\"#mf85a90a64c\" y=\"228.14\"/>\n",
       "      </g>\n",
       "     </g>\n",
       "     <g id=\"text_3\">\n",
       "      <!-- 40 -->\n",
       "      <defs>\n",
       "       <path d=\"M 37.796875 64.3125 \n",
       "L 12.890625 25.390625 \n",
       "L 37.796875 25.390625 \n",
       "z\n",
       "M 35.203125 72.90625 \n",
       "L 47.609375 72.90625 \n",
       "L 47.609375 25.390625 \n",
       "L 58.015625 25.390625 \n",
       "L 58.015625 17.1875 \n",
       "L 47.609375 17.1875 \n",
       "L 47.609375 0 \n",
       "L 37.796875 0 \n",
       "L 37.796875 17.1875 \n",
       "L 4.890625 17.1875 \n",
       "L 4.890625 26.703125 \n",
       "z\n",
       "\" id=\"DejaVuSans-34\"/>\n",
       "      </defs>\n",
       "      <g transform=\"translate(160.773076 242.738437)scale(0.1 -0.1)\">\n",
       "       <use xlink:href=\"#DejaVuSans-34\"/>\n",
       "       <use x=\"63.623047\" xlink:href=\"#DejaVuSans-30\"/>\n",
       "      </g>\n",
       "     </g>\n",
       "    </g>\n",
       "    <g id=\"xtick_4\">\n",
       "     <g id=\"line2d_4\">\n",
       "      <g>\n",
       "       <use style=\"stroke:#000000;stroke-width:0.8;\" x=\"228.623179\" xlink:href=\"#mf85a90a64c\" y=\"228.14\"/>\n",
       "      </g>\n",
       "     </g>\n",
       "     <g id=\"text_4\">\n",
       "      <!-- 60 -->\n",
       "      <defs>\n",
       "       <path d=\"M 33.015625 40.375 \n",
       "Q 26.375 40.375 22.484375 35.828125 \n",
       "Q 18.609375 31.296875 18.609375 23.390625 \n",
       "Q 18.609375 15.53125 22.484375 10.953125 \n",
       "Q 26.375 6.390625 33.015625 6.390625 \n",
       "Q 39.65625 6.390625 43.53125 10.953125 \n",
       "Q 47.40625 15.53125 47.40625 23.390625 \n",
       "Q 47.40625 31.296875 43.53125 35.828125 \n",
       "Q 39.65625 40.375 33.015625 40.375 \n",
       "z\n",
       "M 52.59375 71.296875 \n",
       "L 52.59375 62.3125 \n",
       "Q 48.875 64.0625 45.09375 64.984375 \n",
       "Q 41.3125 65.921875 37.59375 65.921875 \n",
       "Q 27.828125 65.921875 22.671875 59.328125 \n",
       "Q 17.53125 52.734375 16.796875 39.40625 \n",
       "Q 19.671875 43.65625 24.015625 45.921875 \n",
       "Q 28.375 48.1875 33.59375 48.1875 \n",
       "Q 44.578125 48.1875 50.953125 41.515625 \n",
       "Q 57.328125 34.859375 57.328125 23.390625 \n",
       "Q 57.328125 12.15625 50.6875 5.359375 \n",
       "Q 44.046875 -1.421875 33.015625 -1.421875 \n",
       "Q 20.359375 -1.421875 13.671875 8.265625 \n",
       "Q 6.984375 17.96875 6.984375 36.375 \n",
       "Q 6.984375 53.65625 15.1875 63.9375 \n",
       "Q 23.390625 74.21875 37.203125 74.21875 \n",
       "Q 40.921875 74.21875 44.703125 73.484375 \n",
       "Q 48.484375 72.75 52.59375 71.296875 \n",
       "z\n",
       "\" id=\"DejaVuSans-36\"/>\n",
       "      </defs>\n",
       "      <g transform=\"translate(222.260679 242.738437)scale(0.1 -0.1)\">\n",
       "       <use xlink:href=\"#DejaVuSans-36\"/>\n",
       "       <use x=\"63.623047\" xlink:href=\"#DejaVuSans-30\"/>\n",
       "      </g>\n",
       "     </g>\n",
       "    </g>\n",
       "    <g id=\"xtick_5\">\n",
       "     <g id=\"line2d_5\">\n",
       "      <g>\n",
       "       <use style=\"stroke:#000000;stroke-width:0.8;\" x=\"290.110783\" xlink:href=\"#mf85a90a64c\" y=\"228.14\"/>\n",
       "      </g>\n",
       "     </g>\n",
       "     <g id=\"text_5\">\n",
       "      <!-- 80 -->\n",
       "      <defs>\n",
       "       <path d=\"M 31.78125 34.625 \n",
       "Q 24.75 34.625 20.71875 30.859375 \n",
       "Q 16.703125 27.09375 16.703125 20.515625 \n",
       "Q 16.703125 13.921875 20.71875 10.15625 \n",
       "Q 24.75 6.390625 31.78125 6.390625 \n",
       "Q 38.8125 6.390625 42.859375 10.171875 \n",
       "Q 46.921875 13.96875 46.921875 20.515625 \n",
       "Q 46.921875 27.09375 42.890625 30.859375 \n",
       "Q 38.875 34.625 31.78125 34.625 \n",
       "z\n",
       "M 21.921875 38.8125 \n",
       "Q 15.578125 40.375 12.03125 44.71875 \n",
       "Q 8.5 49.078125 8.5 55.328125 \n",
       "Q 8.5 64.0625 14.71875 69.140625 \n",
       "Q 20.953125 74.21875 31.78125 74.21875 \n",
       "Q 42.671875 74.21875 48.875 69.140625 \n",
       "Q 55.078125 64.0625 55.078125 55.328125 \n",
       "Q 55.078125 49.078125 51.53125 44.71875 \n",
       "Q 48 40.375 41.703125 38.8125 \n",
       "Q 48.828125 37.15625 52.796875 32.3125 \n",
       "Q 56.78125 27.484375 56.78125 20.515625 \n",
       "Q 56.78125 9.90625 50.3125 4.234375 \n",
       "Q 43.84375 -1.421875 31.78125 -1.421875 \n",
       "Q 19.734375 -1.421875 13.25 4.234375 \n",
       "Q 6.78125 9.90625 6.78125 20.515625 \n",
       "Q 6.78125 27.484375 10.78125 32.3125 \n",
       "Q 14.796875 37.15625 21.921875 38.8125 \n",
       "z\n",
       "M 18.3125 54.390625 \n",
       "Q 18.3125 48.734375 21.84375 45.5625 \n",
       "Q 25.390625 42.390625 31.78125 42.390625 \n",
       "Q 38.140625 42.390625 41.71875 45.5625 \n",
       "Q 45.3125 48.734375 45.3125 54.390625 \n",
       "Q 45.3125 60.0625 41.71875 63.234375 \n",
       "Q 38.140625 66.40625 31.78125 66.40625 \n",
       "Q 25.390625 66.40625 21.84375 63.234375 \n",
       "Q 18.3125 60.0625 18.3125 54.390625 \n",
       "z\n",
       "\" id=\"DejaVuSans-38\"/>\n",
       "      </defs>\n",
       "      <g transform=\"translate(283.748283 242.738437)scale(0.1 -0.1)\">\n",
       "       <use xlink:href=\"#DejaVuSans-38\"/>\n",
       "       <use x=\"63.623047\" xlink:href=\"#DejaVuSans-30\"/>\n",
       "      </g>\n",
       "     </g>\n",
       "    </g>\n",
       "    <g id=\"xtick_6\">\n",
       "     <g id=\"line2d_6\">\n",
       "      <g>\n",
       "       <use style=\"stroke:#000000;stroke-width:0.8;\" x=\"351.598386\" xlink:href=\"#mf85a90a64c\" y=\"228.14\"/>\n",
       "      </g>\n",
       "     </g>\n",
       "     <g id=\"text_6\">\n",
       "      <!-- 100 -->\n",
       "      <defs>\n",
       "       <path d=\"M 12.40625 8.296875 \n",
       "L 28.515625 8.296875 \n",
       "L 28.515625 63.921875 \n",
       "L 10.984375 60.40625 \n",
       "L 10.984375 69.390625 \n",
       "L 28.421875 72.90625 \n",
       "L 38.28125 72.90625 \n",
       "L 38.28125 8.296875 \n",
       "L 54.390625 8.296875 \n",
       "L 54.390625 0 \n",
       "L 12.40625 0 \n",
       "z\n",
       "\" id=\"DejaVuSans-31\"/>\n",
       "      </defs>\n",
       "      <g transform=\"translate(342.054636 242.738437)scale(0.1 -0.1)\">\n",
       "       <use xlink:href=\"#DejaVuSans-31\"/>\n",
       "       <use x=\"63.623047\" xlink:href=\"#DejaVuSans-30\"/>\n",
       "       <use x=\"127.246094\" xlink:href=\"#DejaVuSans-30\"/>\n",
       "      </g>\n",
       "     </g>\n",
       "    </g>\n",
       "   </g>\n",
       "   <g id=\"matplotlib.axis_2\">\n",
       "    <g id=\"ytick_1\">\n",
       "     <g id=\"line2d_7\">\n",
       "      <defs>\n",
       "       <path d=\"M 0 0 \n",
       "L -3.5 0 \n",
       "\" id=\"md496255de3\" style=\"stroke:#000000;stroke-width:0.8;\"/>\n",
       "      </defs>\n",
       "      <g>\n",
       "       <use style=\"stroke:#000000;stroke-width:0.8;\" x=\"28.942188\" xlink:href=\"#md496255de3\" y=\"201.628576\"/>\n",
       "      </g>\n",
       "     </g>\n",
       "     <g id=\"text_7\">\n",
       "      <!-- −2 -->\n",
       "      <defs>\n",
       "       <path d=\"M 10.59375 35.5 \n",
       "L 73.1875 35.5 \n",
       "L 73.1875 27.203125 \n",
       "L 10.59375 27.203125 \n",
       "z\n",
       "\" id=\"DejaVuSans-2212\"/>\n",
       "      </defs>\n",
       "      <g transform=\"translate(7.2 205.427795)scale(0.1 -0.1)\">\n",
       "       <use xlink:href=\"#DejaVuSans-2212\"/>\n",
       "       <use x=\"83.789062\" xlink:href=\"#DejaVuSans-32\"/>\n",
       "      </g>\n",
       "     </g>\n",
       "    </g>\n",
       "    <g id=\"ytick_2\">\n",
       "     <g id=\"line2d_8\">\n",
       "      <g>\n",
       "       <use style=\"stroke:#000000;stroke-width:0.8;\" x=\"28.942188\" xlink:href=\"#md496255de3\" y=\"158.306039\"/>\n",
       "      </g>\n",
       "     </g>\n",
       "     <g id=\"text_8\">\n",
       "      <!-- −1 -->\n",
       "      <g transform=\"translate(7.2 162.105258)scale(0.1 -0.1)\">\n",
       "       <use xlink:href=\"#DejaVuSans-2212\"/>\n",
       "       <use x=\"83.789062\" xlink:href=\"#DejaVuSans-31\"/>\n",
       "      </g>\n",
       "     </g>\n",
       "    </g>\n",
       "    <g id=\"ytick_3\">\n",
       "     <g id=\"line2d_9\">\n",
       "      <g>\n",
       "       <use style=\"stroke:#000000;stroke-width:0.8;\" x=\"28.942188\" xlink:href=\"#md496255de3\" y=\"114.983502\"/>\n",
       "      </g>\n",
       "     </g>\n",
       "     <g id=\"text_9\">\n",
       "      <!-- 0 -->\n",
       "      <g transform=\"translate(15.579688 118.782721)scale(0.1 -0.1)\">\n",
       "       <use xlink:href=\"#DejaVuSans-30\"/>\n",
       "      </g>\n",
       "     </g>\n",
       "    </g>\n",
       "    <g id=\"ytick_4\">\n",
       "     <g id=\"line2d_10\">\n",
       "      <g>\n",
       "       <use style=\"stroke:#000000;stroke-width:0.8;\" x=\"28.942188\" xlink:href=\"#md496255de3\" y=\"71.660965\"/>\n",
       "      </g>\n",
       "     </g>\n",
       "     <g id=\"text_10\">\n",
       "      <!-- 1 -->\n",
       "      <g transform=\"translate(15.579688 75.460184)scale(0.1 -0.1)\">\n",
       "       <use xlink:href=\"#DejaVuSans-31\"/>\n",
       "      </g>\n",
       "     </g>\n",
       "    </g>\n",
       "    <g id=\"ytick_5\">\n",
       "     <g id=\"line2d_11\">\n",
       "      <g>\n",
       "       <use style=\"stroke:#000000;stroke-width:0.8;\" x=\"28.942188\" xlink:href=\"#md496255de3\" y=\"28.338429\"/>\n",
       "      </g>\n",
       "     </g>\n",
       "     <g id=\"text_11\">\n",
       "      <!-- 2 -->\n",
       "      <g transform=\"translate(15.579688 32.137647)scale(0.1 -0.1)\">\n",
       "       <use xlink:href=\"#DejaVuSans-32\"/>\n",
       "      </g>\n",
       "     </g>\n",
       "    </g>\n",
       "   </g>\n",
       "   <g id=\"line2d_12\">\n",
       "    <path clip-path=\"url(#p83ad0a8efe)\" d=\"M 44.160369 179.078208 \n",
       "L 47.234749 145.19262 \n",
       "L 50.30913 97.380607 \n",
       "L 53.38351 104.58292 \n",
       "L 56.45789 175.44836 \n",
       "L 59.53227 102.000805 \n",
       "L 62.60665 102.358093 \n",
       "L 65.68103 218.256364 \n",
       "L 68.755411 37.574366 \n",
       "L 71.829791 131.310835 \n",
       "L 74.904171 68.687721 \n",
       "L 77.978551 103.29531 \n",
       "L 81.052931 151.923305 \n",
       "L 84.127311 152.854488 \n",
       "L 87.201692 140.648992 \n",
       "L 90.276072 109.03446 \n",
       "L 93.350452 116.594666 \n",
       "L 96.424832 118.976688 \n",
       "L 99.499212 165.176617 \n",
       "L 102.573592 126.809212 \n",
       "L 105.647973 71.650739 \n",
       "L 108.722353 134.368423 \n",
       "L 111.796733 111.548906 \n",
       "L 114.871113 96.168613 \n",
       "L 117.945493 104.610264 \n",
       "L 121.019873 180.953338 \n",
       "L 124.094254 123.809813 \n",
       "L 127.168634 64.229571 \n",
       "L 130.243014 122.270022 \n",
       "L 133.317394 155.729586 \n",
       "L 136.391774 91.001012 \n",
       "L 139.466154 195.454154 \n",
       "L 142.540535 185.464986 \n",
       "L 145.614915 54.86761 \n",
       "L 148.689295 136.417137 \n",
       "L 151.763675 174.253618 \n",
       "L 154.838055 68.826773 \n",
       "L 157.912435 162.083866 \n",
       "L 160.986816 134.665078 \n",
       "L 164.061196 121.840958 \n",
       "L 167.135576 169.567098 \n",
       "L 170.209956 128.967016 \n",
       "L 173.284336 65.208696 \n",
       "L 176.358716 80.710922 \n",
       "L 179.433097 106.827668 \n",
       "L 182.507477 142.1506 \n",
       "L 185.581857 138.233032 \n",
       "L 188.656237 97.564182 \n",
       "L 191.730617 104.875001 \n",
       "L 194.804997 143.962815 \n",
       "L 197.879378 139.607876 \n",
       "L 200.953758 77.18039 \n",
       "L 204.028138 143.364274 \n",
       "L 207.102518 90.424595 \n",
       "L 210.176898 59.640551 \n",
       "L 213.251278 139.390202 \n",
       "L 216.325659 59.950467 \n",
       "L 219.400039 129.48164 \n",
       "L 222.474419 141.34561 \n",
       "L 225.548799 81.360776 \n",
       "L 228.623179 116.926684 \n",
       "L 231.697559 210.93154 \n",
       "L 234.77194 109.500204 \n",
       "L 237.84632 44.707843 \n",
       "L 240.9207 146.011894 \n",
       "L 243.99508 121.924433 \n",
       "L 247.06946 156.291369 \n",
       "L 250.14384 58.939874 \n",
       "L 253.218221 56.210789 \n",
       "L 256.292601 59.640401 \n",
       "L 259.366981 142.253163 \n",
       "L 262.441361 77.224106 \n",
       "L 265.515741 122.841489 \n",
       "L 268.590121 81.58645 \n",
       "L 271.664502 49.055526 \n",
       "L 274.738882 25.504322 \n",
       "L 277.813262 105.998252 \n",
       "L 280.887642 89.591627 \n",
       "L 283.962022 95.280049 \n",
       "L 287.036402 171.958192 \n",
       "L 290.110783 109.67881 \n",
       "L 293.185163 184.150684 \n",
       "L 296.259543 79.0559 \n",
       "L 299.333923 183.669203 \n",
       "L 302.408303 125.486277 \n",
       "L 305.482683 143.306165 \n",
       "L 308.557064 113.365211 \n",
       "L 311.631444 85.967605 \n",
       "L 314.705824 143.811942 \n",
       "L 317.780204 20.583636 \n",
       "L 320.854584 80.138853 \n",
       "L 323.928964 143.260311 \n",
       "L 327.003345 27.370635 \n",
       "L 330.077725 150.457035 \n",
       "L 333.152105 122.15972 \n",
       "L 336.226485 126.326861 \n",
       "L 339.300865 123.753644 \n",
       "L 342.375245 94.446713 \n",
       "L 345.449626 111.355772 \n",
       "L 348.524006 164.330011 \n",
       "\" style=\"fill:none;stroke:#1f77b4;stroke-linecap:square;stroke-width:1.5;\"/>\n",
       "   </g>\n",
       "   <g id=\"patch_3\">\n",
       "    <path d=\"M 28.942188 228.14 \n",
       "L 28.942188 10.7 \n",
       "\" style=\"fill:none;stroke:#000000;stroke-linecap:square;stroke-linejoin:miter;stroke-width:0.8;\"/>\n",
       "   </g>\n",
       "   <g id=\"patch_4\">\n",
       "    <path d=\"M 363.742188 228.14 \n",
       "L 363.742188 10.7 \n",
       "\" style=\"fill:none;stroke:#000000;stroke-linecap:square;stroke-linejoin:miter;stroke-width:0.8;\"/>\n",
       "   </g>\n",
       "   <g id=\"patch_5\">\n",
       "    <path d=\"M 28.942188 228.14 \n",
       "L 363.742188 228.14 \n",
       "\" style=\"fill:none;stroke:#000000;stroke-linecap:square;stroke-linejoin:miter;stroke-width:0.8;\"/>\n",
       "   </g>\n",
       "   <g id=\"patch_6\">\n",
       "    <path d=\"M 28.942188 10.7 \n",
       "L 363.742188 10.7 \n",
       "\" style=\"fill:none;stroke:#000000;stroke-linecap:square;stroke-linejoin:miter;stroke-width:0.8;\"/>\n",
       "   </g>\n",
       "  </g>\n",
       " </g>\n",
       " <defs>\n",
       "  <clipPath id=\"p83ad0a8efe\">\n",
       "   <rect height=\"217.44\" width=\"334.8\" x=\"28.942188\" y=\"10.7\"/>\n",
       "  </clipPath>\n",
       " </defs>\n",
       "</svg>\n"
      ],
      "text/plain": [
       "<matplotlib.figure.Figure at 0x114a9c2e8>"
      ]
     },
     "metadata": {},
     "output_type": "display_data"
    }
   ],
   "source": [
    "import time\n",
    "import pylab as pl\n",
    "from IPython import display\n",
    "for i in range(10):\n",
    "    pl.clf()\n",
    "    pl.plot(pl.randn(100))\n",
    "    display.display(pl.gcf())\n",
    "    display.clear_output(wait=True)\n",
    "    time.sleep(1.0)"
   ]
  },
  {
   "cell_type": "code",
   "execution_count": null,
   "metadata": {
    "ExecuteTime": {
     "end_time": "2019-04-30T13:59:29.483184Z",
     "start_time": "2019-04-30T13:59:24.009022Z"
    }
   },
   "outputs": [],
   "source": [
    "import numpy as np\n",
    "import matplotlib.pyplot as plt\n",
    "import time\n",
    "\n",
    "def pltsin(ax, colors=['b']):\n",
    "    x = np.linspace(0,1,100)\n",
    "    if ax.lines:\n",
    "        for line in ax.lines:\n",
    "            line.set_xdata(x)\n",
    "            y = np.random.random(size=(100,1))\n",
    "            line.set_ydata(y)\n",
    "    else:\n",
    "        for color in colors:\n",
    "            y = np.random.random(size=(100,1))\n",
    "            ax.plot(x, y, color)\n",
    "    fig.canvas.draw()\n",
    "\n",
    "fig,ax = plt.subplots(1,1)\n",
    "ax.set_xlabel('X')\n",
    "ax.set_ylabel('Y')\n",
    "ax.set_xlim(0,1)\n",
    "ax.set_ylim(0,1)\n",
    "for f in range(5):\n",
    "    pltsin(ax, ['b', 'r'])\n",
    "    time.sleep(1)"
   ]
  },
  {
   "cell_type": "code",
   "execution_count": null,
   "metadata": {
    "ExecuteTime": {
     "end_time": "2019-04-30T14:00:20.886728Z",
     "start_time": "2019-04-30T13:59:41.126556Z"
    }
   },
   "outputs": [],
   "source": [
    "from IPython.display import clear_output\n",
    "from matplotlib import pyplot as plt\n",
    "import collections\n",
    "\n",
    "def live_plot(data_dict, figsize=(7,5), title=''):\n",
    "    clear_output(wait=True)\n",
    "    plt.figure(figsize=figsize)\n",
    "    for label,data in data_dict.items():\n",
    "        plt.plot(data, label=label)\n",
    "    plt.title(title)\n",
    "    plt.grid(True)\n",
    "    plt.xlabel('epoch')\n",
    "    plt.legend(loc='center left') # the plot evolves to the right\n",
    "    plt.show();\n",
    "\n",
    "data = collections.defaultdict(list)\n",
    "for i in range(100):\n",
    "    data['foo'].append(np.random.random())\n",
    "    data['bar'].append(np.random.random())\n",
    "    data['baz'].append(np.random.random())\n",
    "    live_plot(data)"
   ]
  },
  {
   "cell_type": "code",
   "execution_count": null,
   "metadata": {
    "ExecuteTime": {
     "end_time": "2019-04-30T14:00:36.773191Z",
     "start_time": "2019-04-30T14:00:24.604788Z"
    }
   },
   "outputs": [],
   "source": [
    "import numpy as np\n",
    "import matplotlib.pyplot as plt\n",
    "from scipy.special import jn\n",
    "from IPython.display import display, clear_output\n",
    "import time\n",
    "x = np.linspace(0,5)\n",
    "f, ax = plt.subplots()\n",
    "ax.set_title(\"Bessel functions\")\n",
    "for n in range(1,10):\n",
    "   time.sleep(1)\n",
    "   ax.plot(x, jn(x,n))\n",
    "   clear_output(wait=True)\n",
    "   display(f)    \n",
    "plt.close()"
   ]
  },
  {
   "cell_type": "markdown",
   "metadata": {},
   "source": [
    "## 显示和隐藏Cell"
   ]
  },
  {
   "cell_type": "markdown",
   "metadata": {
    "ExecuteTime": {
     "end_time": "2019-04-30T03:35:37.881962Z",
     "start_time": "2019-04-30T03:35:37.874961Z"
    },
    "collapsed": true,
    "hide_input": false
   },
   "source": [
    "同样在其中一个cell（建议放在最开始的一个cell中）中输入一下代码，这个在你自己编辑notebook时不起作用，对导出结果中所有代码起作用：导出html或者pdf中是没有代码的。同样把它定义为函数集成在sciplot里面方便调用。"
   ]
  },
  {
   "cell_type": "code",
   "execution_count": null,
   "metadata": {
    "ExecuteTime": {
     "end_time": "2019-04-30T14:00:42.572351Z",
     "start_time": "2019-04-30T14:00:42.541102Z"
    },
    "solution": "hidden"
   },
   "outputs": [],
   "source": [
    "from IPython.display import display\n",
    "from IPython.display import HTML\n",
    "import IPython.core.display as di\n",
    "di.display_html('<script>jQuery(function() {if (jQuery(\"body.notebook_app\").length == 0) { jQuery(\".input_area\").toggle(); jQuery(\".prompt\").toggle();}});</script>', raw=True)\n",
    "CSS = \"\"\"#notebook div.output_subarea {max-width:100%;}\"\"\" #changes output_subarea width to 100% (from 100% - 14ex)\n",
    "HTML('<style>{}</style>'.format(CSS))"
   ]
  },
  {
   "cell_type": "code",
   "execution_count": null,
   "metadata": {
    "ExecuteTime": {
     "end_time": "2019-04-30T14:00:47.774051Z",
     "start_time": "2019-04-30T14:00:47.758440Z"
    }
   },
   "outputs": [],
   "source": [
    "from IPython.display import display_html\n",
    "display_html(\"\"\"<button onclick=\"$('.input, .prompt, .output_stderr, .output_error').toggle();\">Toggle Code</button>\"\"\", raw=True)\n"
   ]
  },
  {
   "cell_type": "markdown",
   "metadata": {},
   "source": [
    "隐藏/显示代码按钮\n",
    "\n",
    "在随便一个cell中加入以下代码并运行就可以得到一个按钮，点击它就可以实现隐藏和显示代码。在notebook中对所有代码起作用；但是对导出结果中只对hide所在cell起作用"
   ]
  },
  {
   "cell_type": "code",
   "execution_count": null,
   "metadata": {
    "ExecuteTime": {
     "end_time": "2019-04-30T14:01:05.359334Z",
     "start_time": "2019-04-30T14:01:05.312848Z"
    }
   },
   "outputs": [],
   "source": [
    "import ipywidgets as widgets\n",
    "from IPython.display import display, HTML\n",
    "javascript_functions = {False: \"hide()\", True: \"show()\"}\n",
    "button_descriptions  = {False: \"Show code\", True: \"Hide code\"}\n",
    "def toggle_code(state):\n",
    "    output_string = \"<script>$(\\\"div.input\\\").{}</script>\"\n",
    "    output_args   = (javascript_functions[state],)\n",
    "    output        = output_string.format(*output_args)\n",
    "    display(HTML(output))\n",
    "def button_action(value):\n",
    "    state = value.new\n",
    "    toggle_code(state)\n",
    "    value.owner.description = button_descriptions[state]\n",
    "state = False\n",
    "toggle_code(state)\n",
    "button = widgets.ToggleButton(state, description = button_descriptions[state])\n",
    "button.observe(button_action, \"value\")\n",
    "display(button)"
   ]
  },
  {
   "cell_type": "markdown",
   "metadata": {},
   "source": [
    "隐藏cell\n",
    "\n",
    "上面的隐藏代码功能，针对所有的cell里面的代码显示或者隐藏。在我们编写notebook的过程中，有时候希望隐藏指定的cell（有可能因为有些cell里面的代码太长，我们不想看到它）。可以用一下代码实现，放在每一个cell里面，运行就会出现按钮能显示或者隐藏这个cell里面的内容。\n"
   ]
  },
  {
   "cell_type": "code",
   "execution_count": null,
   "metadata": {
    "ExecuteTime": {
     "end_time": "2019-04-30T14:01:20.304967Z",
     "start_time": "2019-04-30T14:01:20.285931Z"
    }
   },
   "outputs": [],
   "source": [
    "import random\n",
    "def hidecell(for_next):\n",
    "    this_cell = \"\"\"$('div.cell.code_cell.rendered.selected')\"\"\"\n",
    "    next_cell = this_cell + '.next()'\n",
    "    toggle_text = '显示/隐藏'  # text shown on toggle link\n",
    "    target_cell = this_cell  # target cell to control with toggle\n",
    "    # bit of JS to permanently hide code in current cell (only when toggling next cell)\n",
    "    js_hide_current = ''\n",
    "    if for_next:\n",
    "        target_cell = next_cell\n",
    "        toggle_text += ' next cell'\n",
    "        js_hide_current = this_cell + '.find(\"div.input\").hide();'\n",
    "    js_f_name = 'code_toggle_{}'.format(str(random.randint(1, 2**64)))\n",
    "    html = \"\"\"\n",
    "        <script>\n",
    "            function {f_name}() {{\n",
    "                {cell_selector}.find('div.input').toggle();\n",
    "            }}\n",
    "\n",
    "            {js_hide_current}\n",
    "        </script>\n",
    "        <a href=\"javascript:{f_name}()\">{toggle_text}</a>\n",
    "    \"\"\".format(\n",
    "        f_name=js_f_name,\n",
    "        cell_selector=target_cell,\n",
    "        js_hide_current=js_hide_current,\n",
    "        toggle_text=toggle_text\n",
    "    )\n",
    "    return HTML(html)"
   ]
  },
  {
   "cell_type": "code",
   "execution_count": null,
   "metadata": {
    "ExecuteTime": {
     "end_time": "2019-04-30T14:01:24.373869Z",
     "start_time": "2019-04-30T14:01:24.342674Z"
    }
   },
   "outputs": [],
   "source": [
    "hidecell(False)"
   ]
  },
  {
   "cell_type": "markdown",
   "metadata": {},
   "source": [
    "## magic命令"
   ]
  },
  {
   "cell_type": "markdown",
   "metadata": {},
   "source": [
    "### 列出magic命令"
   ]
  },
  {
   "cell_type": "code",
   "execution_count": null,
   "metadata": {
    "ExecuteTime": {
     "start_time": "2019-05-05T08:55:57.561Z"
    }
   },
   "outputs": [],
   "source": [
    "%lsmagic"
   ]
  },
  {
   "cell_type": "markdown",
   "metadata": {
    "collapsed": true
   },
   "source": [
    "### 将本地的.py文件load到jupyter的一个cell中"
   ]
  },
  {
   "cell_type": "code",
   "execution_count": null,
   "metadata": {
    "ExecuteTime": {
     "end_time": "2019-04-30T14:01:46.544810Z",
     "start_time": "2019-04-30T14:01:46.521601Z"
    }
   },
   "outputs": [],
   "source": [
    "%load test.py"
   ]
  },
  {
   "cell_type": "markdown",
   "metadata": {},
   "source": [
    "### 运行python文件"
   ]
  },
  {
   "cell_type": "code",
   "execution_count": null,
   "metadata": {
    "ExecuteTime": {
     "end_time": "2019-04-30T14:02:05.759541Z",
     "start_time": "2019-04-30T14:02:05.726980Z"
    }
   },
   "outputs": [],
   "source": [
    "%run test.py"
   ]
  },
  {
   "cell_type": "markdown",
   "metadata": {},
   "source": [
    "### 列出所有的全局变量"
   ]
  },
  {
   "cell_type": "code",
   "execution_count": null,
   "metadata": {
    "ExecuteTime": {
     "end_time": "2019-04-30T14:02:08.958003Z",
     "start_time": "2019-04-30T14:02:08.921454Z"
    }
   },
   "outputs": [],
   "source": [
    "%who"
   ]
  },
  {
   "cell_type": "markdown",
   "metadata": {},
   "source": [
    "### 保存到外部文件\n",
    "\n",
    "使用%%writefile magic可以保存cell的内容到外部文件。 而%pycat功能相反，把外部文件语法高亮显示（以弹出窗方式）"
   ]
  },
  {
   "cell_type": "code",
   "execution_count": null,
   "metadata": {
    "ExecuteTime": {
     "end_time": "2019-04-30T14:02:14.067607Z",
     "start_time": "2019-04-30T14:02:14.051987Z"
    }
   },
   "outputs": [],
   "source": [
    "%%writefile pythoncode.py \n",
    "import numpy \n",
    "def append_if_not_exists(arr, x): \n",
    "    if x not in arr: \n",
    "        arr.append(x) \n",
    "\n",
    "def some_useless_slow_function(): \n",
    "    arr = list() \n",
    "    for i in range(10000): \n",
    "        x = numpy.random.randint(0, 10000) \n",
    "        append_if_not_exists(arr, x)"
   ]
  },
  {
   "cell_type": "code",
   "execution_count": null,
   "metadata": {
    "ExecuteTime": {
     "end_time": "2019-04-30T14:02:17.620410Z",
     "start_time": "2019-04-30T14:02:17.604769Z"
    }
   },
   "outputs": [],
   "source": [
    "%pycat pythoncode.py"
   ]
  },
  {
   "cell_type": "markdown",
   "metadata": {},
   "source": [
    "### 函数耗时统计\n",
    "\n",
    "使用%prun+函数声明会给你一个按顺序排列的表格，显示每个内部函数的耗时情况，每次调用函数的耗时情况，以及累计耗时。\n"
   ]
  },
  {
   "cell_type": "code",
   "execution_count": null,
   "metadata": {},
   "outputs": [],
   "source": [
    "%prun some_useless_slow_function()"
   ]
  },
  {
   "cell_type": "markdown",
   "metadata": {},
   "source": [
    "### python调试"
   ]
  },
  {
   "cell_type": "code",
   "execution_count": null,
   "metadata": {
    "ExecuteTime": {
     "end_time": "2019-04-30T14:08:42.422508Z",
     "start_time": "2019-04-30T14:08:42.391281Z"
    }
   },
   "outputs": [],
   "source": [
    "%pdb"
   ]
  },
  {
   "cell_type": "markdown",
   "metadata": {},
   "source": [
    "## 其他"
   ]
  },
  {
   "cell_type": "markdown",
   "metadata": {},
   "source": [
    "### 多行输出\n",
    "在Notebook的中开头cell中添加以下代码可以实现多行输出"
   ]
  },
  {
   "cell_type": "code",
   "execution_count": null,
   "metadata": {
    "ExecuteTime": {
     "end_time": "2019-04-30T14:02:26.424229Z",
     "start_time": "2019-04-30T14:02:26.408601Z"
    }
   },
   "outputs": [],
   "source": [
    "from IPython.core.interactiveshell import InteractiveShell \n",
    "InteractiveShell.ast_node_interactivity = 'all' #默认为'last'"
   ]
  },
  {
   "cell_type": "markdown",
   "metadata": {},
   "source": [
    "### 代码自动完成\n",
    "\n",
    "在代码顶部添加%config IPCompleter.greedy=True这一行并且shift+回车运行，对于接下来运行过的内容都会被列入自动提示中。\n",
    "按Tab键弹出自动提示\n",
    "如下图，输入my然后Tab键就弹出上面自定义的两个变量名，然后按回车直接输入myCount，按向下箭头键再回车就输入myNum。\n"
   ]
  },
  {
   "cell_type": "code",
   "execution_count": null,
   "metadata": {
    "ExecuteTime": {
     "end_time": "2019-04-30T14:02:29.822272Z",
     "start_time": "2019-04-30T14:02:29.791060Z"
    }
   },
   "outputs": [],
   "source": [
    "%config IPCompleter.greedy=True"
   ]
  },
  {
   "cell_type": "markdown",
   "metadata": {},
   "source": [
    "### 公式编辑器LaTeX"
   ]
  },
  {
   "cell_type": "raw",
   "metadata": {},
   "source": [
    "Notebook的Markdown单元是支持LateX公式编辑的，比如输入\\\\( P(A \\mid B) = \\frac{P(B \\mid A) \\, P(A)}{P(B)} \\\\)运行得到下图"
   ]
  },
  {
   "cell_type": "markdown",
   "metadata": {},
   "source": [
    "\\\\( P(A \\mid B) = \\frac{P(B \\mid A) \\, P(A)}{P(B)} \\\\)"
   ]
  },
  {
   "cell_type": "markdown",
   "metadata": {},
   "source": [
    "### 帮助"
   ]
  },
  {
   "cell_type": "markdown",
   "metadata": {},
   "source": [
    "在库、方法或变量的前面打上?，即可打开相关语法的帮助文档。"
   ]
  },
  {
   "cell_type": "code",
   "execution_count": null,
   "metadata": {
    "ExecuteTime": {
     "start_time": "2019-05-05T08:55:28.557Z"
    }
   },
   "outputs": [],
   "source": [
    "?str.replace()"
   ]
  },
  {
   "cell_type": "markdown",
   "metadata": {},
   "source": [
    "### 跳转\n",
    "\n",
    "在jupyter中设置link，需要设置两部分\n",
    "\n",
    "[the_destination](#the_destination)"
   ]
  },
  {
   "cell_type": "markdown",
   "metadata": {},
   "source": [
    "<a id='the_destination'></a>\n",
    "dest"
   ]
  },
  {
   "cell_type": "markdown",
   "metadata": {
    "collapsed": true
   },
   "source": [
    "## 扩展\n",
    "\n",
    "Hinterland功能可以让你每敲完一个键，就出现下拉菜单，可以直接选中你需要的词汇。\n",
    "\n",
    "Snippets在工具栏里加了一个下拉菜单，可以非常方便的直接插入代码段，完全不用手动敲。\n",
    "\n",
    "Table of contents这个功能可以自动找到所有的标题，生成目录。并且这个目录还是移动的呦，你可以放在侧边栏，也可以拖动到任何你喜欢的地方悬浮起来。"
   ]
  },
  {
   "cell_type": "markdown",
   "metadata": {},
   "source": [
    "## 交互工具\n",
    "\n",
    "还有一些Jupyter小工具，比如滑块、文本框之类的部分，可以做一些方便的交互。\n",
    "\n",
    "https://github.com/jupyter-widgets/ipywidgets"
   ]
  },
  {
   "cell_type": "code",
   "execution_count": 1,
   "metadata": {
    "ExecuteTime": {
     "end_time": "2019-05-05T08:59:56.393279Z",
     "start_time": "2019-05-05T08:59:56.388762Z"
    }
   },
   "outputs": [],
   "source": [
    "import ipywidgets as widgets\n",
    "from ipywidgets import interact, interact_manual"
   ]
  },
  {
   "cell_type": "markdown",
   "metadata": {},
   "source": [
    "### 滑块"
   ]
  },
  {
   "cell_type": "code",
   "execution_count": 2,
   "metadata": {
    "ExecuteTime": {
     "end_time": "2019-05-05T09:00:00.846813Z",
     "start_time": "2019-05-05T09:00:00.795131Z"
    }
   },
   "outputs": [
    {
     "data": {
      "application/vnd.jupyter.widget-view+json": {
       "model_id": "7af0e514e7b948d18c9a7524d988e851",
       "version_major": 2,
       "version_minor": 0
      },
      "text/plain": [
       "interactive(children=(IntSlider(value=10, description='x', max=30, min=-10), Output()), _dom_classes=('widget-…"
      ]
     },
     "metadata": {},
     "output_type": "display_data"
    }
   ],
   "source": [
    "def f(x):\n",
    "    return x\n",
    "# Generate a slider \n",
    "interact(f, x=10,);"
   ]
  },
  {
   "cell_type": "markdown",
   "metadata": {},
   "source": [
    "### 选择框"
   ]
  },
  {
   "cell_type": "code",
   "execution_count": 3,
   "metadata": {
    "ExecuteTime": {
     "end_time": "2019-05-05T09:00:02.946082Z",
     "start_time": "2019-05-05T09:00:02.908521Z"
    }
   },
   "outputs": [
    {
     "data": {
      "application/vnd.jupyter.widget-view+json": {
       "model_id": "595cf2bdebbf457395c65edf125c9f04",
       "version_major": 2,
       "version_minor": 0
      },
      "text/plain": [
       "interactive(children=(Checkbox(value=True, description='x'), Output()), _dom_classes=('widget-interact',))"
      ]
     },
     "metadata": {},
     "output_type": "display_data"
    }
   ],
   "source": [
    "# Booleans generate check-boxes\n",
    "interact(f, x=True);"
   ]
  },
  {
   "cell_type": "markdown",
   "metadata": {},
   "source": [
    "### 文本框"
   ]
  },
  {
   "cell_type": "code",
   "execution_count": 4,
   "metadata": {
    "ExecuteTime": {
     "end_time": "2019-05-05T09:00:05.073682Z",
     "start_time": "2019-05-05T09:00:05.041145Z"
    }
   },
   "outputs": [
    {
     "data": {
      "application/vnd.jupyter.widget-view+json": {
       "model_id": "e08873338ae94f6487eab53ab15b5c2a",
       "version_major": 2,
       "version_minor": 0
      },
      "text/plain": [
       "interactive(children=(Text(value='Hi there!', description='x'), Output()), _dom_classes=('widget-interact',))"
      ]
     },
     "metadata": {},
     "output_type": "display_data"
    }
   ],
   "source": [
    "# Strings generate text areas\n",
    "interact(f, x='Hi there!');"
   ]
  },
  {
   "cell_type": "markdown",
   "metadata": {},
   "source": [
    "### 播放框"
   ]
  },
  {
   "cell_type": "code",
   "execution_count": 5,
   "metadata": {
    "ExecuteTime": {
     "end_time": "2019-05-05T09:00:07.344325Z",
     "start_time": "2019-05-05T09:00:07.309086Z"
    }
   },
   "outputs": [
    {
     "data": {
      "application/vnd.jupyter.widget-view+json": {
       "model_id": "9685e303ca5044ef83a841d6c60273bc",
       "version_major": 2,
       "version_minor": 0
      },
      "text/plain": [
       "HBox(children=(Play(value=50, description='Press play'), IntSlider(value=0)))"
      ]
     },
     "metadata": {},
     "output_type": "display_data"
    }
   ],
   "source": [
    "play = widgets.Play(\n",
    "  # interval=10,\n",
    "  value=50,\n",
    " min=0,\n",
    " max=100,\n",
    " step=1,\n",
    " description=\"Press play\",\n",
    " disabled=False\n",
    ")\n",
    "slider = widgets.IntSlider()\n",
    "widgets.jslink((play, 'value'), (slider, 'value'))\n",
    "widgets.HBox([play, slider])"
   ]
  },
  {
   "cell_type": "markdown",
   "metadata": {},
   "source": [
    "### 日期选择"
   ]
  },
  {
   "cell_type": "code",
   "execution_count": 6,
   "metadata": {
    "ExecuteTime": {
     "end_time": "2019-05-05T09:00:09.055011Z",
     "start_time": "2019-05-05T09:00:09.042002Z"
    }
   },
   "outputs": [
    {
     "data": {
      "application/vnd.jupyter.widget-view+json": {
       "model_id": "9884b80b193e4ef2be2d1d1ae3931120",
       "version_major": 2,
       "version_minor": 0
      },
      "text/plain": [
       "DatePicker(value=None, description='Pick a Date')"
      ]
     },
     "metadata": {},
     "output_type": "display_data"
    }
   ],
   "source": [
    "widgets.DatePicker(\n",
    " description='Pick a Date',\n",
    " disabled=False\n",
    ")\n"
   ]
  },
  {
   "cell_type": "markdown",
   "metadata": {},
   "source": [
    "### 颜色选择"
   ]
  },
  {
   "cell_type": "code",
   "execution_count": 7,
   "metadata": {
    "ExecuteTime": {
     "end_time": "2019-05-05T09:00:10.678310Z",
     "start_time": "2019-05-05T09:00:10.664735Z"
    }
   },
   "outputs": [
    {
     "data": {
      "application/vnd.jupyter.widget-view+json": {
       "model_id": "3286eca3f3d7408ca28b5ef7e74d1e11",
       "version_major": 2,
       "version_minor": 0
      },
      "text/plain": [
       "ColorPicker(value='blue', description='Pick a color')"
      ]
     },
     "metadata": {},
     "output_type": "display_data"
    }
   ],
   "source": [
    "widgets.ColorPicker(\n",
    " concise=False,\n",
    " description='Pick a color',\n",
    " value='blue',\n",
    " disabled=False\n",
    ")"
   ]
  },
  {
   "cell_type": "markdown",
   "metadata": {},
   "source": [
    "### tab框"
   ]
  },
  {
   "cell_type": "code",
   "execution_count": 8,
   "metadata": {
    "ExecuteTime": {
     "end_time": "2019-05-05T09:00:13.838730Z",
     "start_time": "2019-05-05T09:00:13.787407Z"
    }
   },
   "outputs": [
    {
     "data": {
      "application/vnd.jupyter.widget-view+json": {
       "model_id": "f472d7f403a8462e82d983c463ea2ae0",
       "version_major": 2,
       "version_minor": 0
      },
      "text/plain": [
       "Tab(children=(Text(value='', description='P0'), Text(value='', description='P1'), Text(value='', description='…"
      ]
     },
     "metadata": {},
     "output_type": "display_data"
    }
   ],
   "source": [
    "tab_contents = ['P0', 'P1', 'P2', 'P3', 'P4']\n",
    "children = [widgets.Text(description=name) for name in tab_contents]\n",
    "tab = widgets.Tab()\n",
    "tab.children = children\n",
    "for i in range(len(children)):\n",
    "    tab.set_title(i, str(i))\n",
    "tab"
   ]
  },
  {
   "cell_type": "markdown",
   "metadata": {},
   "source": [
    "### 图像选择"
   ]
  },
  {
   "cell_type": "code",
   "execution_count": 11,
   "metadata": {
    "ExecuteTime": {
     "end_time": "2019-05-05T09:01:15.315238Z",
     "start_time": "2019-05-05T09:01:15.265404Z"
    }
   },
   "outputs": [
    {
     "data": {
      "application/vnd.jupyter.widget-view+json": {
       "model_id": "116659d34782432cb1192f1d79f33209",
       "version_major": 2,
       "version_minor": 0
      },
      "text/plain": [
       "interactive(children=(Dropdown(description='file', options=('线性规划.ipynb', 'jupyter技巧.ipynb', 'CrossRiver', 're…"
      ]
     },
     "metadata": {},
     "output_type": "display_data"
    }
   ],
   "source": [
    "import os\n",
    "from IPython.display import Image\n",
    "\n",
    "fdir=\"./\"\n",
    "\n",
    "@interact\n",
    "def show_images(file=os.listdir('./')):\n",
    "    display(Image(fdir+file))"
   ]
  },
  {
   "cell_type": "markdown",
   "metadata": {},
   "source": [
    "## 嵌入"
   ]
  },
  {
   "cell_type": "markdown",
   "metadata": {},
   "source": [
    "### 嵌入网站"
   ]
  },
  {
   "cell_type": "code",
   "execution_count": null,
   "metadata": {
    "ExecuteTime": {
     "end_time": "2019-04-30T14:03:09.484632Z",
     "start_time": "2019-04-30T14:03:09.453383Z"
    }
   },
   "outputs": [],
   "source": [
    "#Note that http urls will not be displayed. Only https are allowed inside the Iframe\n",
    "from IPython.display import IFrame\n",
    "IFrame('http://www.baidu.com', width=800, height=450)"
   ]
  },
  {
   "cell_type": "markdown",
   "metadata": {
    "ExecuteTime": {
     "end_time": "2019-04-30T08:56:17.812528Z",
     "start_time": "2019-04-30T08:56:17.797329Z"
    }
   },
   "source": [
    "### 嵌入pdf"
   ]
  },
  {
   "cell_type": "code",
   "execution_count": null,
   "metadata": {
    "ExecuteTime": {
     "end_time": "2019-04-30T14:03:18.822191Z",
     "start_time": "2019-04-30T14:03:18.790941Z"
    }
   },
   "outputs": [],
   "source": [
    "from IPython.display import IFrame\n",
    "IFrame('https://arxiv.org/pdf/1406.2661.pdf', width=800, height=450)"
   ]
  },
  {
   "cell_type": "markdown",
   "metadata": {},
   "source": [
    "### 嵌入图像\n",
    "\n",
    "notebook 以 HTML 的方式进行展示，cell 的输出也可以是 HTML，所以事实上你可以返回任何东西：视频/音频/图像。\n",
    "\n",
    "下面代码扫描了当前目录下的 png 文件，并输出它们的缩略图.\n"
   ]
  },
  {
   "cell_type": "code",
   "execution_count": null,
   "metadata": {
    "ExecuteTime": {
     "end_time": "2019-04-30T14:03:38.511953Z",
     "start_time": "2019-04-30T14:03:38.075250Z"
    }
   },
   "outputs": [],
   "source": [
    "import os\n",
    "from IPython.display import display, Image\n",
    "names = [f for f in os.listdir('./') if f.endswith('.png')]\n",
    "for name in names[:5]:\n",
    "    display(Image('./' + name, width=100))"
   ]
  },
  {
   "cell_type": "markdown",
   "metadata": {},
   "source": [
    "## 主题\n",
    "\n",
    "第一步：安装\n",
    "\n",
    "pip install --upgrade jupyterthemes\n",
    "\n",
    "第二步：查看可用的主题\n",
    "\n",
    "jt -l\n",
    "\n",
    "第三步：设置主题及格式\n",
    "\n",
    "比如想修改主题和代码字体：\n",
    "\n",
    "jt -t oceans16 -f fira\n",
    "\n",
    "例如设置：\n",
    "\n",
    "jt -t monokai -f fira -fs 10 -cellw 90% -ofs 10 -dfs 10 -T -nfs 10 -tfs 10"
   ]
  },
  {
   "cell_type": "markdown",
   "metadata": {},
   "source": [
    "## 导出\n",
    "\n",
    "导出pdf\n",
    "https://www.jianshu.com/p/6b84a9631f8a"
   ]
  },
  {
   "cell_type": "markdown",
   "metadata": {
    "solution": "hidden"
   },
   "source": [
    "## Reference:\n",
    "\n",
    "https://blog.csdn.net/tina_ttl/article/details/51031113#\n",
    "\n",
    "https://www.jianshu.com/p/a85bc2a8fa56\n",
    "\n",
    "https://www.zhihu.com/question/59392251\n",
    "\n",
    "http://bokeh.pydata.org/en/latest/docs/user_guide/notebook.html\n",
    "\n",
    "http://liuchengxu.org/pelican-blog/jupyter-notebook-tips.html\n",
    "\n",
    "https://zhuanlan.zhihu.com/p/36389916\n",
    "\n",
    "https://medium.com/m/global-identity?redirectUrl=https%3A%2F%2Ftowardsdatascience.com%2Finteractive-visualizations-in-jupyter-notebook-3be02ab2b8cd\n",
    "\n",
    "https://mortada.net/easily-profile-python-code-in-jupyter.html\n",
    "\n",
    "https://github.com/QuantStack/xeus-cling\n",
    "\n",
    "https://medium.com/m/global-identity?redirectUrl=https%3A%2F%2Fblog.jupyter.org%2Fa-diagram-editor-for-jupyterlab-a254121ff919\n",
    "\n",
    "https://medium.com/@r_kierzkowski/10-tips-on-using-jupyter-notebook-abc0ba7028a4\n",
    "\n",
    "https://xeus-cling.readthedocs.io/en/latest/"
   ]
  },
  {
   "cell_type": "code",
   "execution_count": null,
   "metadata": {},
   "outputs": [],
   "source": []
  },
  {
   "cell_type": "code",
   "execution_count": null,
   "metadata": {},
   "outputs": [],
   "source": []
  }
 ],
 "metadata": {
  "kernelspec": {
   "display_name": "Python 3",
   "language": "python",
   "name": "python3"
  },
  "language_info": {
   "codemirror_mode": {
    "name": "ipython",
    "version": 3
   },
   "file_extension": ".py",
   "mimetype": "text/x-python",
   "name": "python",
   "nbconvert_exporter": "python",
   "pygments_lexer": "ipython3",
   "version": "3.6.5"
  },
  "toc": {
   "base_numbering": 1,
   "nav_menu": {},
   "number_sections": true,
   "sideBar": true,
   "skip_h1_title": true,
   "title_cell": "Table of Contents",
   "title_sidebar": "Contents",
   "toc_cell": true,
   "toc_position": {
    "height": "calc(100% - 180px)",
    "left": "10px",
    "top": "150px",
    "width": "256px"
   },
   "toc_section_display": true,
   "toc_window_display": true
  }
 },
 "nbformat": 4,
 "nbformat_minor": 2
}
