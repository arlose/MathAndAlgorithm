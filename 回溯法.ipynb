{
 "cells": [
  {
   "cell_type": "markdown",
   "metadata": {},
   "source": [
    "# 回溯法\n",
    "\n",
    "从终局出发考虑问题\n",
    "\n",
    "例子：\n",
    "\n",
    "拿竹签问题：有20个竹签，两个人交替拿，每人只能拿1个\b到3个，不能不拿，拿最后一个的人获胜，先拿的人有必胜的方法吗？什么情况下先拿必胜？什么时候后拿必胜？\n",
    "\n",
    "提升\n",
    "\n",
    "有n堆竹签，2个人交替拿，每个人只能从一堆里拿1到k个，不能不拿，拿最后一个的人获胜（或失败），有什么必胜法则？？？"
   ]
  },
  {
   "cell_type": "markdown",
   "metadata": {},
   "source": [
    "## 1 n皇后"
   ]
  },
  {
   "cell_type": "code",
   "execution_count": null,
   "metadata": {
    "collapsed": true
   },
   "outputs": [],
   "source": []
  }
 ],
 "metadata": {
  "kernelspec": {
   "display_name": "Python 3",
   "language": "python",
   "name": "python3"
  },
  "language_info": {
   "codemirror_mode": {
    "name": "ipython",
    "version": 3
   },
   "file_extension": ".py",
   "mimetype": "text/x-python",
   "name": "python",
   "nbconvert_exporter": "python",
   "pygments_lexer": "ipython3",
   "version": "3.6.1"
  }
 },
 "nbformat": 4,
 "nbformat_minor": 2
}
